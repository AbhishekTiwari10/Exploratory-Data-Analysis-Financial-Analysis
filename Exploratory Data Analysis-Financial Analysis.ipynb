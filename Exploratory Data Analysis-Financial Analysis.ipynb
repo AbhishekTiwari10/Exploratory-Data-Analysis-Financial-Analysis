{
 "cells": [
  {
   "cell_type": "code",
   "execution_count": 1,
   "id": "0f95286e-bfa2-45bd-9fb3-c8da7ac8e2e0",
   "metadata": {},
   "outputs": [],
   "source": [
    "import numpy as np\n",
    "import pandas as pd\n",
    "import matplotlib.pyplot as plt\n",
    "import seaborn as sns\n",
    "\n",
    "from scipy.stats import ttest_1samp, ttest_ind, chi2_contingency , spearmanr , shapiro\n",
    "\n",
    "import warnings \n",
    "warnings.filterwarnings(\"ignore\")"
   ]
  },
  {
   "cell_type": "code",
   "execution_count": 2,
   "id": "49cee0ba-856e-402a-8b44-fa0d77b0ad2e",
   "metadata": {},
   "outputs": [],
   "source": [
    "cards = pd.read_csv(r\"C:\\Users\\Abhishek\\Downloads\\Cards Data.csv\")\n",
    "users = pd.read_csv(r\"C:\\Users\\Abhishek\\Downloads\\Users Data.csv\")"
   ]
  },
  {
   "cell_type": "code",
   "execution_count": 3,
   "id": "4e9db05b-e13d-45dc-a868-3d71a4337412",
   "metadata": {},
   "outputs": [
    {
     "name": "stdout",
     "output_type": "stream",
     "text": [
      "<class 'pandas.core.frame.DataFrame'>\n",
      "RangeIndex: 6146 entries, 0 to 6145\n",
      "Data columns (total 13 columns):\n",
      " #   Column                 Non-Null Count  Dtype \n",
      "---  ------                 --------------  ----- \n",
      " 0   id                     6146 non-null   int64 \n",
      " 1   client_id              6146 non-null   int64 \n",
      " 2   card_brand             6146 non-null   object\n",
      " 3   card_type              6146 non-null   object\n",
      " 4   card_number            6146 non-null   int64 \n",
      " 5   expires                6146 non-null   object\n",
      " 6   cvv                    6146 non-null   int64 \n",
      " 7   has_chip               6146 non-null   object\n",
      " 8   num_cards_issued       6146 non-null   int64 \n",
      " 9   credit_limit           6146 non-null   object\n",
      " 10  acct_open_date         6146 non-null   object\n",
      " 11  year_pin_last_changed  6146 non-null   int64 \n",
      " 12  card_on_dark_web       6146 non-null   object\n",
      "dtypes: int64(6), object(7)\n",
      "memory usage: 624.3+ KB\n"
     ]
    }
   ],
   "source": [
    "cards.info()"
   ]
  },
  {
   "cell_type": "code",
   "execution_count": 4,
   "id": "807347a4-f326-4401-abf8-dd247b1bec1c",
   "metadata": {},
   "outputs": [
    {
     "name": "stdout",
     "output_type": "stream",
     "text": [
      "<class 'pandas.core.frame.DataFrame'>\n",
      "RangeIndex: 2000 entries, 0 to 1999\n",
      "Data columns (total 14 columns):\n",
      " #   Column             Non-Null Count  Dtype  \n",
      "---  ------             --------------  -----  \n",
      " 0   id                 2000 non-null   int64  \n",
      " 1   current_age        2000 non-null   int64  \n",
      " 2   retirement_age     2000 non-null   int64  \n",
      " 3   birth_year         2000 non-null   int64  \n",
      " 4   birth_month        2000 non-null   int64  \n",
      " 5   gender             2000 non-null   object \n",
      " 6   address            2000 non-null   object \n",
      " 7   latitude           2000 non-null   float64\n",
      " 8   longitude          2000 non-null   float64\n",
      " 9   per_capita_income  2000 non-null   object \n",
      " 10  yearly_income      2000 non-null   object \n",
      " 11  total_debt         2000 non-null   object \n",
      " 12  credit_score       2000 non-null   int64  \n",
      " 13  num_credit_cards   2000 non-null   int64  \n",
      "dtypes: float64(2), int64(7), object(5)\n",
      "memory usage: 218.9+ KB\n"
     ]
    }
   ],
   "source": [
    "users.info()"
   ]
  },
  {
   "cell_type": "code",
   "execution_count": 5,
   "id": "e4f31dd5-1274-42d4-ac43-1c360951fd4d",
   "metadata": {},
   "outputs": [
    {
     "data": {
      "text/html": [
       "<div>\n",
       "<style scoped>\n",
       "    .dataframe tbody tr th:only-of-type {\n",
       "        vertical-align: middle;\n",
       "    }\n",
       "\n",
       "    .dataframe tbody tr th {\n",
       "        vertical-align: top;\n",
       "    }\n",
       "\n",
       "    .dataframe thead th {\n",
       "        text-align: right;\n",
       "    }\n",
       "</style>\n",
       "<table border=\"1\" class=\"dataframe\">\n",
       "  <thead>\n",
       "    <tr style=\"text-align: right;\">\n",
       "      <th></th>\n",
       "      <th>id</th>\n",
       "      <th>current_age</th>\n",
       "      <th>retirement_age</th>\n",
       "      <th>birth_year</th>\n",
       "      <th>birth_month</th>\n",
       "      <th>gender</th>\n",
       "      <th>address</th>\n",
       "      <th>latitude</th>\n",
       "      <th>longitude</th>\n",
       "      <th>per_capita_income</th>\n",
       "      <th>yearly_income</th>\n",
       "      <th>total_debt</th>\n",
       "      <th>credit_score</th>\n",
       "      <th>num_credit_cards</th>\n",
       "    </tr>\n",
       "  </thead>\n",
       "  <tbody>\n",
       "    <tr>\n",
       "      <th>0</th>\n",
       "      <td>825</td>\n",
       "      <td>53</td>\n",
       "      <td>66</td>\n",
       "      <td>1966</td>\n",
       "      <td>11</td>\n",
       "      <td>Female</td>\n",
       "      <td>462 Rose Lane</td>\n",
       "      <td>34.15</td>\n",
       "      <td>-117.76</td>\n",
       "      <td>$29278</td>\n",
       "      <td>$59696</td>\n",
       "      <td>$127613</td>\n",
       "      <td>787</td>\n",
       "      <td>5</td>\n",
       "    </tr>\n",
       "    <tr>\n",
       "      <th>1</th>\n",
       "      <td>1746</td>\n",
       "      <td>53</td>\n",
       "      <td>68</td>\n",
       "      <td>1966</td>\n",
       "      <td>12</td>\n",
       "      <td>Female</td>\n",
       "      <td>3606 Federal Boulevard</td>\n",
       "      <td>40.76</td>\n",
       "      <td>-73.74</td>\n",
       "      <td>$37891</td>\n",
       "      <td>$77254</td>\n",
       "      <td>$191349</td>\n",
       "      <td>701</td>\n",
       "      <td>5</td>\n",
       "    </tr>\n",
       "    <tr>\n",
       "      <th>2</th>\n",
       "      <td>1718</td>\n",
       "      <td>81</td>\n",
       "      <td>67</td>\n",
       "      <td>1938</td>\n",
       "      <td>11</td>\n",
       "      <td>Female</td>\n",
       "      <td>766 Third Drive</td>\n",
       "      <td>34.02</td>\n",
       "      <td>-117.89</td>\n",
       "      <td>$22681</td>\n",
       "      <td>$33483</td>\n",
       "      <td>$196</td>\n",
       "      <td>698</td>\n",
       "      <td>5</td>\n",
       "    </tr>\n",
       "    <tr>\n",
       "      <th>3</th>\n",
       "      <td>708</td>\n",
       "      <td>63</td>\n",
       "      <td>63</td>\n",
       "      <td>1957</td>\n",
       "      <td>1</td>\n",
       "      <td>Female</td>\n",
       "      <td>3 Madison Street</td>\n",
       "      <td>40.71</td>\n",
       "      <td>-73.99</td>\n",
       "      <td>$163145</td>\n",
       "      <td>$249925</td>\n",
       "      <td>$202328</td>\n",
       "      <td>722</td>\n",
       "      <td>4</td>\n",
       "    </tr>\n",
       "    <tr>\n",
       "      <th>4</th>\n",
       "      <td>1164</td>\n",
       "      <td>43</td>\n",
       "      <td>70</td>\n",
       "      <td>1976</td>\n",
       "      <td>9</td>\n",
       "      <td>Male</td>\n",
       "      <td>9620 Valley Stream Drive</td>\n",
       "      <td>37.76</td>\n",
       "      <td>-122.44</td>\n",
       "      <td>$53797</td>\n",
       "      <td>$109687</td>\n",
       "      <td>$183855</td>\n",
       "      <td>675</td>\n",
       "      <td>1</td>\n",
       "    </tr>\n",
       "  </tbody>\n",
       "</table>\n",
       "</div>"
      ],
      "text/plain": [
       "     id  current_age  retirement_age  birth_year  birth_month  gender  \\\n",
       "0   825           53              66        1966           11  Female   \n",
       "1  1746           53              68        1966           12  Female   \n",
       "2  1718           81              67        1938           11  Female   \n",
       "3   708           63              63        1957            1  Female   \n",
       "4  1164           43              70        1976            9    Male   \n",
       "\n",
       "                    address  latitude  longitude per_capita_income  \\\n",
       "0             462 Rose Lane     34.15    -117.76            $29278   \n",
       "1    3606 Federal Boulevard     40.76     -73.74            $37891   \n",
       "2           766 Third Drive     34.02    -117.89            $22681   \n",
       "3          3 Madison Street     40.71     -73.99           $163145   \n",
       "4  9620 Valley Stream Drive     37.76    -122.44            $53797   \n",
       "\n",
       "  yearly_income total_debt  credit_score  num_credit_cards  \n",
       "0        $59696    $127613           787                 5  \n",
       "1        $77254    $191349           701                 5  \n",
       "2        $33483       $196           698                 5  \n",
       "3       $249925    $202328           722                 4  \n",
       "4       $109687    $183855           675                 1  "
      ]
     },
     "execution_count": 5,
     "metadata": {},
     "output_type": "execute_result"
    }
   ],
   "source": [
    "users.head()"
   ]
  },
  {
   "cell_type": "code",
   "execution_count": 6,
   "id": "590b7ab6-e702-4535-b04f-34a22001d29c",
   "metadata": {},
   "outputs": [
    {
     "data": {
      "text/html": [
       "<div>\n",
       "<style scoped>\n",
       "    .dataframe tbody tr th:only-of-type {\n",
       "        vertical-align: middle;\n",
       "    }\n",
       "\n",
       "    .dataframe tbody tr th {\n",
       "        vertical-align: top;\n",
       "    }\n",
       "\n",
       "    .dataframe thead th {\n",
       "        text-align: right;\n",
       "    }\n",
       "</style>\n",
       "<table border=\"1\" class=\"dataframe\">\n",
       "  <thead>\n",
       "    <tr style=\"text-align: right;\">\n",
       "      <th></th>\n",
       "      <th>id</th>\n",
       "      <th>client_id</th>\n",
       "      <th>card_brand</th>\n",
       "      <th>card_type</th>\n",
       "      <th>card_number</th>\n",
       "      <th>expires</th>\n",
       "      <th>cvv</th>\n",
       "      <th>has_chip</th>\n",
       "      <th>num_cards_issued</th>\n",
       "      <th>credit_limit</th>\n",
       "      <th>acct_open_date</th>\n",
       "      <th>year_pin_last_changed</th>\n",
       "      <th>card_on_dark_web</th>\n",
       "    </tr>\n",
       "  </thead>\n",
       "  <tbody>\n",
       "    <tr>\n",
       "      <th>0</th>\n",
       "      <td>4524</td>\n",
       "      <td>825</td>\n",
       "      <td>Visa</td>\n",
       "      <td>Debit</td>\n",
       "      <td>4344676511950444</td>\n",
       "      <td>12/2022</td>\n",
       "      <td>623</td>\n",
       "      <td>YES</td>\n",
       "      <td>2</td>\n",
       "      <td>$24295</td>\n",
       "      <td>09/2002</td>\n",
       "      <td>2008</td>\n",
       "      <td>No</td>\n",
       "    </tr>\n",
       "    <tr>\n",
       "      <th>1</th>\n",
       "      <td>2731</td>\n",
       "      <td>825</td>\n",
       "      <td>Visa</td>\n",
       "      <td>Debit</td>\n",
       "      <td>4956965974959986</td>\n",
       "      <td>12/2020</td>\n",
       "      <td>393</td>\n",
       "      <td>YES</td>\n",
       "      <td>2</td>\n",
       "      <td>$21968</td>\n",
       "      <td>04/2014</td>\n",
       "      <td>2014</td>\n",
       "      <td>No</td>\n",
       "    </tr>\n",
       "    <tr>\n",
       "      <th>2</th>\n",
       "      <td>3701</td>\n",
       "      <td>825</td>\n",
       "      <td>Visa</td>\n",
       "      <td>Debit</td>\n",
       "      <td>4582313478255491</td>\n",
       "      <td>02/2024</td>\n",
       "      <td>719</td>\n",
       "      <td>YES</td>\n",
       "      <td>2</td>\n",
       "      <td>$46414</td>\n",
       "      <td>07/2003</td>\n",
       "      <td>2004</td>\n",
       "      <td>No</td>\n",
       "    </tr>\n",
       "    <tr>\n",
       "      <th>3</th>\n",
       "      <td>42</td>\n",
       "      <td>825</td>\n",
       "      <td>Visa</td>\n",
       "      <td>Credit</td>\n",
       "      <td>4879494103069057</td>\n",
       "      <td>08/2024</td>\n",
       "      <td>693</td>\n",
       "      <td>NO</td>\n",
       "      <td>1</td>\n",
       "      <td>$12400</td>\n",
       "      <td>01/2003</td>\n",
       "      <td>2012</td>\n",
       "      <td>No</td>\n",
       "    </tr>\n",
       "    <tr>\n",
       "      <th>4</th>\n",
       "      <td>4659</td>\n",
       "      <td>825</td>\n",
       "      <td>Mastercard</td>\n",
       "      <td>Debit (Prepaid)</td>\n",
       "      <td>5722874738736011</td>\n",
       "      <td>03/2009</td>\n",
       "      <td>75</td>\n",
       "      <td>YES</td>\n",
       "      <td>1</td>\n",
       "      <td>$28</td>\n",
       "      <td>09/2008</td>\n",
       "      <td>2009</td>\n",
       "      <td>No</td>\n",
       "    </tr>\n",
       "  </tbody>\n",
       "</table>\n",
       "</div>"
      ],
      "text/plain": [
       "     id  client_id  card_brand        card_type       card_number  expires  \\\n",
       "0  4524        825        Visa            Debit  4344676511950444  12/2022   \n",
       "1  2731        825        Visa            Debit  4956965974959986  12/2020   \n",
       "2  3701        825        Visa            Debit  4582313478255491  02/2024   \n",
       "3    42        825        Visa           Credit  4879494103069057  08/2024   \n",
       "4  4659        825  Mastercard  Debit (Prepaid)  5722874738736011  03/2009   \n",
       "\n",
       "   cvv has_chip  num_cards_issued credit_limit acct_open_date  \\\n",
       "0  623      YES                 2       $24295        09/2002   \n",
       "1  393      YES                 2       $21968        04/2014   \n",
       "2  719      YES                 2       $46414        07/2003   \n",
       "3  693       NO                 1       $12400        01/2003   \n",
       "4   75      YES                 1          $28        09/2008   \n",
       "\n",
       "   year_pin_last_changed card_on_dark_web  \n",
       "0                   2008               No  \n",
       "1                   2014               No  \n",
       "2                   2004               No  \n",
       "3                   2012               No  \n",
       "4                   2009               No  "
      ]
     },
     "execution_count": 6,
     "metadata": {},
     "output_type": "execute_result"
    }
   ],
   "source": [
    "cards.head()"
   ]
  },
  {
   "cell_type": "code",
   "execution_count": 7,
   "id": "a20f90f5-0d7e-4e2d-8c11-f98e522a7c62",
   "metadata": {},
   "outputs": [
    {
     "data": {
      "text/plain": [
       "id                       0\n",
       "client_id                0\n",
       "card_brand               0\n",
       "card_type                0\n",
       "card_number              0\n",
       "expires                  0\n",
       "cvv                      0\n",
       "has_chip                 0\n",
       "num_cards_issued         0\n",
       "credit_limit             0\n",
       "acct_open_date           0\n",
       "year_pin_last_changed    0\n",
       "card_on_dark_web         0\n",
       "dtype: int64"
      ]
     },
     "execution_count": 7,
     "metadata": {},
     "output_type": "execute_result"
    }
   ],
   "source": [
    "cards.isna().sum()"
   ]
  },
  {
   "cell_type": "code",
   "execution_count": 8,
   "id": "3a936689-55a3-4ba5-9ce5-36a62f161997",
   "metadata": {},
   "outputs": [
    {
     "data": {
      "text/plain": [
       "np.int64(0)"
      ]
     },
     "execution_count": 8,
     "metadata": {},
     "output_type": "execute_result"
    }
   ],
   "source": [
    "cards.duplicated().sum()"
   ]
  },
  {
   "cell_type": "code",
   "execution_count": 9,
   "id": "b27a15d6-e94f-4e38-a27b-6609738f822b",
   "metadata": {},
   "outputs": [
    {
     "data": {
      "text/plain": [
       "np.int64(0)"
      ]
     },
     "execution_count": 9,
     "metadata": {},
     "output_type": "execute_result"
    }
   ],
   "source": [
    "users.duplicated().sum()"
   ]
  },
  {
   "cell_type": "code",
   "execution_count": 10,
   "id": "407311ed-544d-4e0c-802f-66664fcba79b",
   "metadata": {},
   "outputs": [],
   "source": [
    "df = cards.merge(users,how=\"left\", left_on=\"client_id\", right_on=\"id\")"
   ]
  },
  {
   "cell_type": "code",
   "execution_count": 11,
   "id": "b06dd2da-5830-4365-bcac-3675bd0fc82f",
   "metadata": {},
   "outputs": [
    {
     "data": {
      "text/plain": [
       "id_x                     0\n",
       "client_id                0\n",
       "card_brand               0\n",
       "card_type                0\n",
       "card_number              0\n",
       "expires                  0\n",
       "cvv                      0\n",
       "has_chip                 0\n",
       "num_cards_issued         0\n",
       "credit_limit             0\n",
       "acct_open_date           0\n",
       "year_pin_last_changed    0\n",
       "card_on_dark_web         0\n",
       "id_y                     0\n",
       "current_age              0\n",
       "retirement_age           0\n",
       "birth_year               0\n",
       "birth_month              0\n",
       "gender                   0\n",
       "address                  0\n",
       "latitude                 0\n",
       "longitude                0\n",
       "per_capita_income        0\n",
       "yearly_income            0\n",
       "total_debt               0\n",
       "credit_score             0\n",
       "num_credit_cards         0\n",
       "dtype: int64"
      ]
     },
     "execution_count": 11,
     "metadata": {},
     "output_type": "execute_result"
    }
   ],
   "source": [
    "df.isna().sum()"
   ]
  },
  {
   "cell_type": "code",
   "execution_count": 12,
   "id": "24df1839-d564-408b-ac70-446e5161212f",
   "metadata": {},
   "outputs": [
    {
     "data": {
      "text/plain": [
       "np.int64(0)"
      ]
     },
     "execution_count": 12,
     "metadata": {},
     "output_type": "execute_result"
    }
   ],
   "source": [
    "df.duplicated().sum()"
   ]
  },
  {
   "cell_type": "code",
   "execution_count": 13,
   "id": "11c1b105-6eee-4a3c-a87c-ab633ea1f6c3",
   "metadata": {},
   "outputs": [
    {
     "data": {
      "text/html": [
       "<div>\n",
       "<style scoped>\n",
       "    .dataframe tbody tr th:only-of-type {\n",
       "        vertical-align: middle;\n",
       "    }\n",
       "\n",
       "    .dataframe tbody tr th {\n",
       "        vertical-align: top;\n",
       "    }\n",
       "\n",
       "    .dataframe thead th {\n",
       "        text-align: right;\n",
       "    }\n",
       "</style>\n",
       "<table border=\"1\" class=\"dataframe\">\n",
       "  <thead>\n",
       "    <tr style=\"text-align: right;\">\n",
       "      <th></th>\n",
       "      <th>id_x</th>\n",
       "      <th>client_id</th>\n",
       "      <th>card_brand</th>\n",
       "      <th>card_type</th>\n",
       "      <th>card_number</th>\n",
       "      <th>expires</th>\n",
       "      <th>cvv</th>\n",
       "      <th>has_chip</th>\n",
       "      <th>num_cards_issued</th>\n",
       "      <th>credit_limit</th>\n",
       "      <th>...</th>\n",
       "      <th>birth_month</th>\n",
       "      <th>gender</th>\n",
       "      <th>address</th>\n",
       "      <th>latitude</th>\n",
       "      <th>longitude</th>\n",
       "      <th>per_capita_income</th>\n",
       "      <th>yearly_income</th>\n",
       "      <th>total_debt</th>\n",
       "      <th>credit_score</th>\n",
       "      <th>num_credit_cards</th>\n",
       "    </tr>\n",
       "  </thead>\n",
       "  <tbody>\n",
       "    <tr>\n",
       "      <th>0</th>\n",
       "      <td>4524</td>\n",
       "      <td>825</td>\n",
       "      <td>Visa</td>\n",
       "      <td>Debit</td>\n",
       "      <td>4344676511950444</td>\n",
       "      <td>12/2022</td>\n",
       "      <td>623</td>\n",
       "      <td>YES</td>\n",
       "      <td>2</td>\n",
       "      <td>$24295</td>\n",
       "      <td>...</td>\n",
       "      <td>11</td>\n",
       "      <td>Female</td>\n",
       "      <td>462 Rose Lane</td>\n",
       "      <td>34.15</td>\n",
       "      <td>-117.76</td>\n",
       "      <td>$29278</td>\n",
       "      <td>$59696</td>\n",
       "      <td>$127613</td>\n",
       "      <td>787</td>\n",
       "      <td>5</td>\n",
       "    </tr>\n",
       "    <tr>\n",
       "      <th>1</th>\n",
       "      <td>2731</td>\n",
       "      <td>825</td>\n",
       "      <td>Visa</td>\n",
       "      <td>Debit</td>\n",
       "      <td>4956965974959986</td>\n",
       "      <td>12/2020</td>\n",
       "      <td>393</td>\n",
       "      <td>YES</td>\n",
       "      <td>2</td>\n",
       "      <td>$21968</td>\n",
       "      <td>...</td>\n",
       "      <td>11</td>\n",
       "      <td>Female</td>\n",
       "      <td>462 Rose Lane</td>\n",
       "      <td>34.15</td>\n",
       "      <td>-117.76</td>\n",
       "      <td>$29278</td>\n",
       "      <td>$59696</td>\n",
       "      <td>$127613</td>\n",
       "      <td>787</td>\n",
       "      <td>5</td>\n",
       "    </tr>\n",
       "    <tr>\n",
       "      <th>2</th>\n",
       "      <td>3701</td>\n",
       "      <td>825</td>\n",
       "      <td>Visa</td>\n",
       "      <td>Debit</td>\n",
       "      <td>4582313478255491</td>\n",
       "      <td>02/2024</td>\n",
       "      <td>719</td>\n",
       "      <td>YES</td>\n",
       "      <td>2</td>\n",
       "      <td>$46414</td>\n",
       "      <td>...</td>\n",
       "      <td>11</td>\n",
       "      <td>Female</td>\n",
       "      <td>462 Rose Lane</td>\n",
       "      <td>34.15</td>\n",
       "      <td>-117.76</td>\n",
       "      <td>$29278</td>\n",
       "      <td>$59696</td>\n",
       "      <td>$127613</td>\n",
       "      <td>787</td>\n",
       "      <td>5</td>\n",
       "    </tr>\n",
       "    <tr>\n",
       "      <th>3</th>\n",
       "      <td>42</td>\n",
       "      <td>825</td>\n",
       "      <td>Visa</td>\n",
       "      <td>Credit</td>\n",
       "      <td>4879494103069057</td>\n",
       "      <td>08/2024</td>\n",
       "      <td>693</td>\n",
       "      <td>NO</td>\n",
       "      <td>1</td>\n",
       "      <td>$12400</td>\n",
       "      <td>...</td>\n",
       "      <td>11</td>\n",
       "      <td>Female</td>\n",
       "      <td>462 Rose Lane</td>\n",
       "      <td>34.15</td>\n",
       "      <td>-117.76</td>\n",
       "      <td>$29278</td>\n",
       "      <td>$59696</td>\n",
       "      <td>$127613</td>\n",
       "      <td>787</td>\n",
       "      <td>5</td>\n",
       "    </tr>\n",
       "    <tr>\n",
       "      <th>4</th>\n",
       "      <td>4659</td>\n",
       "      <td>825</td>\n",
       "      <td>Mastercard</td>\n",
       "      <td>Debit (Prepaid)</td>\n",
       "      <td>5722874738736011</td>\n",
       "      <td>03/2009</td>\n",
       "      <td>75</td>\n",
       "      <td>YES</td>\n",
       "      <td>1</td>\n",
       "      <td>$28</td>\n",
       "      <td>...</td>\n",
       "      <td>11</td>\n",
       "      <td>Female</td>\n",
       "      <td>462 Rose Lane</td>\n",
       "      <td>34.15</td>\n",
       "      <td>-117.76</td>\n",
       "      <td>$29278</td>\n",
       "      <td>$59696</td>\n",
       "      <td>$127613</td>\n",
       "      <td>787</td>\n",
       "      <td>5</td>\n",
       "    </tr>\n",
       "  </tbody>\n",
       "</table>\n",
       "<p>5 rows × 27 columns</p>\n",
       "</div>"
      ],
      "text/plain": [
       "   id_x  client_id  card_brand        card_type       card_number  expires  \\\n",
       "0  4524        825        Visa            Debit  4344676511950444  12/2022   \n",
       "1  2731        825        Visa            Debit  4956965974959986  12/2020   \n",
       "2  3701        825        Visa            Debit  4582313478255491  02/2024   \n",
       "3    42        825        Visa           Credit  4879494103069057  08/2024   \n",
       "4  4659        825  Mastercard  Debit (Prepaid)  5722874738736011  03/2009   \n",
       "\n",
       "   cvv has_chip  num_cards_issued credit_limit  ... birth_month  gender  \\\n",
       "0  623      YES                 2       $24295  ...          11  Female   \n",
       "1  393      YES                 2       $21968  ...          11  Female   \n",
       "2  719      YES                 2       $46414  ...          11  Female   \n",
       "3  693       NO                 1       $12400  ...          11  Female   \n",
       "4   75      YES                 1          $28  ...          11  Female   \n",
       "\n",
       "         address  latitude  longitude  per_capita_income  yearly_income  \\\n",
       "0  462 Rose Lane     34.15    -117.76             $29278         $59696   \n",
       "1  462 Rose Lane     34.15    -117.76             $29278         $59696   \n",
       "2  462 Rose Lane     34.15    -117.76             $29278         $59696   \n",
       "3  462 Rose Lane     34.15    -117.76             $29278         $59696   \n",
       "4  462 Rose Lane     34.15    -117.76             $29278         $59696   \n",
       "\n",
       "   total_debt credit_score num_credit_cards  \n",
       "0     $127613          787                5  \n",
       "1     $127613          787                5  \n",
       "2     $127613          787                5  \n",
       "3     $127613          787                5  \n",
       "4     $127613          787                5  \n",
       "\n",
       "[5 rows x 27 columns]"
      ]
     },
     "execution_count": 13,
     "metadata": {},
     "output_type": "execute_result"
    }
   ],
   "source": [
    "df.head()"
   ]
  },
  {
   "cell_type": "code",
   "execution_count": 14,
   "id": "cb60c714-98ad-42d0-aa95-1be221cc76e7",
   "metadata": {},
   "outputs": [
    {
     "data": {
      "text/plain": [
       "card_brand\n",
       "Mastercard    3209\n",
       "Visa          2326\n",
       "Amex           402\n",
       "Discover       209\n",
       "Name: count, dtype: int64"
      ]
     },
     "execution_count": 14,
     "metadata": {},
     "output_type": "execute_result"
    }
   ],
   "source": [
    "df[\"card_brand\"].value_counts()"
   ]
  },
  {
   "cell_type": "code",
   "execution_count": 15,
   "id": "42ae38b0-b652-4a9b-9fc7-ad4eeef550d3",
   "metadata": {},
   "outputs": [
    {
     "data": {
      "text/plain": [
       "card_type\n",
       "Debit              3511\n",
       "Credit             2057\n",
       "Debit (Prepaid)     578\n",
       "Name: count, dtype: int64"
      ]
     },
     "execution_count": 15,
     "metadata": {},
     "output_type": "execute_result"
    }
   ],
   "source": [
    "df[\"card_type\"].value_counts()"
   ]
  },
  {
   "cell_type": "code",
   "execution_count": 16,
   "id": "17be156c-9488-4d89-932f-c7d844929eb7",
   "metadata": {},
   "outputs": [
    {
     "data": {
      "image/png": "[encoded data removed]",
      "text/plain": [
       "<Figure size 640x480 with 1 Axes>"
      ]
     },
     "metadata": {},
     "output_type": "display_data"
    }
   ],
   "source": [
    "sns.countplot(df,x=\"card_brand\", hue=\"card_type\", palette =\"mako\")\n",
    "plt.show()"
   ]
  },
  {
   "cell_type": "code",
   "execution_count": 17,
   "id": "44254895-2d80-4c2e-ab7f-9f3248ec65cc",
   "metadata": {},
   "outputs": [
    {
     "data": {
      "text/plain": [
       "Index(['id_x', 'client_id', 'card_brand', 'card_type', 'card_number',\n",
       "       'expires', 'cvv', 'has_chip', 'num_cards_issued', 'credit_limit',\n",
       "       'acct_open_date', 'year_pin_last_changed', 'card_on_dark_web', 'id_y',\n",
       "       'current_age', 'retirement_age', 'birth_year', 'birth_month', 'gender',\n",
       "       'address', 'latitude', 'longitude', 'per_capita_income',\n",
       "       'yearly_income', 'total_debt', 'credit_score', 'num_credit_cards'],\n",
       "      dtype='object')"
      ]
     },
     "execution_count": 17,
     "metadata": {},
     "output_type": "execute_result"
    }
   ],
   "source": [
    "df.columns"
   ]
  },
  {
   "cell_type": "code",
   "execution_count": 18,
   "id": "e1d17589-6276-4f22-9e17-8fed3e45a951",
   "metadata": {},
   "outputs": [],
   "source": [
    "df.drop([\"id_x\",\"id_y\",'card_number','expires','cvv'], axis=1, inplace=True)"
   ]
  },
  {
   "cell_type": "code",
   "execution_count": 19,
   "id": "80a64766-c942-45a0-bce5-51c464a00897",
   "metadata": {},
   "outputs": [
    {
     "data": {
      "text/html": [
       "<div>\n",
       "<style scoped>\n",
       "    .dataframe tbody tr th:only-of-type {\n",
       "        vertical-align: middle;\n",
       "    }\n",
       "\n",
       "    .dataframe tbody tr th {\n",
       "        vertical-align: top;\n",
       "    }\n",
       "\n",
       "    .dataframe thead th {\n",
       "        text-align: right;\n",
       "    }\n",
       "</style>\n",
       "<table border=\"1\" class=\"dataframe\">\n",
       "  <thead>\n",
       "    <tr style=\"text-align: right;\">\n",
       "      <th></th>\n",
       "      <th>client_id</th>\n",
       "      <th>card_brand</th>\n",
       "      <th>card_type</th>\n",
       "      <th>has_chip</th>\n",
       "      <th>num_cards_issued</th>\n",
       "      <th>credit_limit</th>\n",
       "      <th>acct_open_date</th>\n",
       "      <th>year_pin_last_changed</th>\n",
       "      <th>card_on_dark_web</th>\n",
       "      <th>current_age</th>\n",
       "      <th>...</th>\n",
       "      <th>birth_month</th>\n",
       "      <th>gender</th>\n",
       "      <th>address</th>\n",
       "      <th>latitude</th>\n",
       "      <th>longitude</th>\n",
       "      <th>per_capita_income</th>\n",
       "      <th>yearly_income</th>\n",
       "      <th>total_debt</th>\n",
       "      <th>credit_score</th>\n",
       "      <th>num_credit_cards</th>\n",
       "    </tr>\n",
       "  </thead>\n",
       "  <tbody>\n",
       "    <tr>\n",
       "      <th>0</th>\n",
       "      <td>825</td>\n",
       "      <td>Visa</td>\n",
       "      <td>Debit</td>\n",
       "      <td>YES</td>\n",
       "      <td>2</td>\n",
       "      <td>$24295</td>\n",
       "      <td>09/2002</td>\n",
       "      <td>2008</td>\n",
       "      <td>No</td>\n",
       "      <td>53</td>\n",
       "      <td>...</td>\n",
       "      <td>11</td>\n",
       "      <td>Female</td>\n",
       "      <td>462 Rose Lane</td>\n",
       "      <td>34.15</td>\n",
       "      <td>-117.76</td>\n",
       "      <td>$29278</td>\n",
       "      <td>$59696</td>\n",
       "      <td>$127613</td>\n",
       "      <td>787</td>\n",
       "      <td>5</td>\n",
       "    </tr>\n",
       "    <tr>\n",
       "      <th>1</th>\n",
       "      <td>825</td>\n",
       "      <td>Visa</td>\n",
       "      <td>Debit</td>\n",
       "      <td>YES</td>\n",
       "      <td>2</td>\n",
       "      <td>$21968</td>\n",
       "      <td>04/2014</td>\n",
       "      <td>2014</td>\n",
       "      <td>No</td>\n",
       "      <td>53</td>\n",
       "      <td>...</td>\n",
       "      <td>11</td>\n",
       "      <td>Female</td>\n",
       "      <td>462 Rose Lane</td>\n",
       "      <td>34.15</td>\n",
       "      <td>-117.76</td>\n",
       "      <td>$29278</td>\n",
       "      <td>$59696</td>\n",
       "      <td>$127613</td>\n",
       "      <td>787</td>\n",
       "      <td>5</td>\n",
       "    </tr>\n",
       "    <tr>\n",
       "      <th>2</th>\n",
       "      <td>825</td>\n",
       "      <td>Visa</td>\n",
       "      <td>Debit</td>\n",
       "      <td>YES</td>\n",
       "      <td>2</td>\n",
       "      <td>$46414</td>\n",
       "      <td>07/2003</td>\n",
       "      <td>2004</td>\n",
       "      <td>No</td>\n",
       "      <td>53</td>\n",
       "      <td>...</td>\n",
       "      <td>11</td>\n",
       "      <td>Female</td>\n",
       "      <td>462 Rose Lane</td>\n",
       "      <td>34.15</td>\n",
       "      <td>-117.76</td>\n",
       "      <td>$29278</td>\n",
       "      <td>$59696</td>\n",
       "      <td>$127613</td>\n",
       "      <td>787</td>\n",
       "      <td>5</td>\n",
       "    </tr>\n",
       "    <tr>\n",
       "      <th>3</th>\n",
       "      <td>825</td>\n",
       "      <td>Visa</td>\n",
       "      <td>Credit</td>\n",
       "      <td>NO</td>\n",
       "      <td>1</td>\n",
       "      <td>$12400</td>\n",
       "      <td>01/2003</td>\n",
       "      <td>2012</td>\n",
       "      <td>No</td>\n",
       "      <td>53</td>\n",
       "      <td>...</td>\n",
       "      <td>11</td>\n",
       "      <td>Female</td>\n",
       "      <td>462 Rose Lane</td>\n",
       "      <td>34.15</td>\n",
       "      <td>-117.76</td>\n",
       "      <td>$29278</td>\n",
       "      <td>$59696</td>\n",
       "      <td>$127613</td>\n",
       "      <td>787</td>\n",
       "      <td>5</td>\n",
       "    </tr>\n",
       "    <tr>\n",
       "      <th>4</th>\n",
       "      <td>825</td>\n",
       "      <td>Mastercard</td>\n",
       "      <td>Debit (Prepaid)</td>\n",
       "      <td>YES</td>\n",
       "      <td>1</td>\n",
       "      <td>$28</td>\n",
       "      <td>09/2008</td>\n",
       "      <td>2009</td>\n",
       "      <td>No</td>\n",
       "      <td>53</td>\n",
       "      <td>...</td>\n",
       "      <td>11</td>\n",
       "      <td>Female</td>\n",
       "      <td>462 Rose Lane</td>\n",
       "      <td>34.15</td>\n",
       "      <td>-117.76</td>\n",
       "      <td>$29278</td>\n",
       "      <td>$59696</td>\n",
       "      <td>$127613</td>\n",
       "      <td>787</td>\n",
       "      <td>5</td>\n",
       "    </tr>\n",
       "  </tbody>\n",
       "</table>\n",
       "<p>5 rows × 22 columns</p>\n",
       "</div>"
      ],
      "text/plain": [
       "   client_id  card_brand        card_type has_chip  num_cards_issued  \\\n",
       "0        825        Visa            Debit      YES                 2   \n",
       "1        825        Visa            Debit      YES                 2   \n",
       "2        825        Visa            Debit      YES                 2   \n",
       "3        825        Visa           Credit       NO                 1   \n",
       "4        825  Mastercard  Debit (Prepaid)      YES                 1   \n",
       "\n",
       "  credit_limit acct_open_date  year_pin_last_changed card_on_dark_web  \\\n",
       "0       $24295        09/2002                   2008               No   \n",
       "1       $21968        04/2014                   2014               No   \n",
       "2       $46414        07/2003                   2004               No   \n",
       "3       $12400        01/2003                   2012               No   \n",
       "4          $28        09/2008                   2009               No   \n",
       "\n",
       "   current_age  ...  birth_month  gender        address latitude longitude  \\\n",
       "0           53  ...           11  Female  462 Rose Lane    34.15   -117.76   \n",
       "1           53  ...           11  Female  462 Rose Lane    34.15   -117.76   \n",
       "2           53  ...           11  Female  462 Rose Lane    34.15   -117.76   \n",
       "3           53  ...           11  Female  462 Rose Lane    34.15   -117.76   \n",
       "4           53  ...           11  Female  462 Rose Lane    34.15   -117.76   \n",
       "\n",
       "   per_capita_income  yearly_income total_debt credit_score num_credit_cards  \n",
       "0             $29278         $59696    $127613          787                5  \n",
       "1             $29278         $59696    $127613          787                5  \n",
       "2             $29278         $59696    $127613          787                5  \n",
       "3             $29278         $59696    $127613          787                5  \n",
       "4             $29278         $59696    $127613          787                5  \n",
       "\n",
       "[5 rows x 22 columns]"
      ]
     },
     "execution_count": 19,
     "metadata": {},
     "output_type": "execute_result"
    }
   ],
   "source": [
    "df.head()"
   ]
  },
  {
   "cell_type": "code",
   "execution_count": 20,
   "id": "985ac9c1-dd65-45e2-af8a-82868e825e02",
   "metadata": {},
   "outputs": [
    {
     "data": {
      "text/plain": [
       "has_chip\n",
       "YES    5500\n",
       "NO      646\n",
       "Name: count, dtype: int64"
      ]
     },
     "execution_count": 20,
     "metadata": {},
     "output_type": "execute_result"
    }
   ],
   "source": [
    "df[\"has_chip\"].value_counts()"
   ]
  },
  {
   "cell_type": "code",
   "execution_count": 21,
   "id": "cad9ccdb-cff3-4d64-8f2a-3fe43e44f635",
   "metadata": {},
   "outputs": [],
   "source": [
    "df[\"acc_open_month\"] = df[\"acct_open_date\"].str.split(\"/\").apply(lambda x: x[0])"
   ]
  },
  {
   "cell_type": "code",
   "execution_count": 22,
   "id": "d665e496-00e2-44d9-8c3f-29b9f43c8b74",
   "metadata": {},
   "outputs": [],
   "source": [
    "df[\"acc_open_year\"] = df[\"acct_open_date\"].str.split(\"/\").apply(lambda x: x[1])"
   ]
  },
  {
   "cell_type": "code",
   "execution_count": 23,
   "id": "05255ff6-6ea7-4613-92c1-aa7158997f65",
   "metadata": {},
   "outputs": [
    {
     "name": "stdout",
     "output_type": "stream",
     "text": [
      "<class 'pandas.core.frame.DataFrame'>\n",
      "RangeIndex: 6146 entries, 0 to 6145\n",
      "Data columns (total 24 columns):\n",
      " #   Column                 Non-Null Count  Dtype  \n",
      "---  ------                 --------------  -----  \n",
      " 0   client_id              6146 non-null   int64  \n",
      " 1   card_brand             6146 non-null   object \n",
      " 2   card_type              6146 non-null   object \n",
      " 3   has_chip               6146 non-null   object \n",
      " 4   num_cards_issued       6146 non-null   int64  \n",
      " 5   credit_limit           6146 non-null   object \n",
      " 6   acct_open_date         6146 non-null   object \n",
      " 7   year_pin_last_changed  6146 non-null   int64  \n",
      " 8   card_on_dark_web       6146 non-null   object \n",
      " 9   current_age            6146 non-null   int64  \n",
      " 10  retirement_age         6146 non-null   int64  \n",
      " 11  birth_year             6146 non-null   int64  \n",
      " 12  birth_month            6146 non-null   int64  \n",
      " 13  gender                 6146 non-null   object \n",
      " 14  address                6146 non-null   object \n",
      " 15  latitude               6146 non-null   float64\n",
      " 16  longitude              6146 non-null   float64\n",
      " 17  per_capita_income      6146 non-null   object \n",
      " 18  yearly_income          6146 non-null   object \n",
      " 19  total_debt             6146 non-null   object \n",
      " 20  credit_score           6146 non-null   int64  \n",
      " 21  num_credit_cards       6146 non-null   int64  \n",
      " 22  acc_open_month         6146 non-null   object \n",
      " 23  acc_open_year          6146 non-null   object \n",
      "dtypes: float64(2), int64(9), object(13)\n",
      "memory usage: 1.1+ MB\n"
     ]
    }
   ],
   "source": [
    "df.info()"
   ]
  },
  {
   "cell_type": "code",
   "execution_count": 24,
   "id": "ca9e62b7-a3bd-40d1-88cd-9e5f7b27503c",
   "metadata": {},
   "outputs": [
    {
     "data": {
      "text/plain": [
       "count      646\n",
       "unique      26\n",
       "top       2020\n",
       "freq       132\n",
       "Name: acc_open_year, dtype: object"
      ]
     },
     "execution_count": 24,
     "metadata": {},
     "output_type": "execute_result"
    }
   ],
   "source": [
    "df.query(\"has_chip == 'NO'\") [\"acc_open_year\"].describe()"
   ]
  },
  {
   "cell_type": "code",
   "execution_count": 25,
   "id": "49aef260-e36f-415d-b356-7af5415bba61",
   "metadata": {},
   "outputs": [
    {
     "data": {
      "text/plain": [
       "'1991'"
      ]
     },
     "execution_count": 25,
     "metadata": {},
     "output_type": "execute_result"
    }
   ],
   "source": [
    "df.query(\"has_chip =='YES'\")[\"acc_open_year\"].min()"
   ]
  },
  {
   "cell_type": "code",
   "execution_count": 26,
   "id": "21140c3b-1ee2-42d5-be91-c5ae44031e4a",
   "metadata": {},
   "outputs": [
    {
     "data": {
      "text/plain": [
       "'2020'"
      ]
     },
     "execution_count": 26,
     "metadata": {},
     "output_type": "execute_result"
    }
   ],
   "source": [
    "df[\"acc_open_year\"].max()"
   ]
  },
  {
   "cell_type": "code",
   "execution_count": 27,
   "id": "2b323dc9-ccb7-4d5e-9931-a000f2147411",
   "metadata": {},
   "outputs": [
    {
     "data": {
      "text/plain": [
       "client_id\n",
       "1741    9\n",
       "797     9\n",
       "1301    9\n",
       "20      8\n",
       "989     8\n",
       "       ..\n",
       "97      1\n",
       "1590    1\n",
       "1679    1\n",
       "640     1\n",
       "1752    1\n",
       "Name: count, Length: 2000, dtype: int64"
      ]
     },
     "execution_count": 27,
     "metadata": {},
     "output_type": "execute_result"
    }
   ],
   "source": [
    "df[\"client_id\"].value_counts()"
   ]
  },
  {
   "cell_type": "code",
   "execution_count": 28,
   "id": "fda02d9c-de63-4080-8a41-4bd0d18e315a",
   "metadata": {},
   "outputs": [
    {
     "data": {
      "text/html": [
       "<div>\n",
       "<style scoped>\n",
       "    .dataframe tbody tr th:only-of-type {\n",
       "        vertical-align: middle;\n",
       "    }\n",
       "\n",
       "    .dataframe tbody tr th {\n",
       "        vertical-align: top;\n",
       "    }\n",
       "\n",
       "    .dataframe thead th {\n",
       "        text-align: right;\n",
       "    }\n",
       "</style>\n",
       "<table border=\"1\" class=\"dataframe\">\n",
       "  <thead>\n",
       "    <tr style=\"text-align: right;\">\n",
       "      <th></th>\n",
       "      <th>id</th>\n",
       "      <th>client_id</th>\n",
       "      <th>card_brand</th>\n",
       "      <th>card_type</th>\n",
       "      <th>card_number</th>\n",
       "      <th>expires</th>\n",
       "      <th>cvv</th>\n",
       "      <th>has_chip</th>\n",
       "      <th>num_cards_issued</th>\n",
       "      <th>credit_limit</th>\n",
       "      <th>acct_open_date</th>\n",
       "      <th>year_pin_last_changed</th>\n",
       "      <th>card_on_dark_web</th>\n",
       "    </tr>\n",
       "  </thead>\n",
       "  <tbody>\n",
       "    <tr>\n",
       "      <th>0</th>\n",
       "      <td>4524</td>\n",
       "      <td>825</td>\n",
       "      <td>Visa</td>\n",
       "      <td>Debit</td>\n",
       "      <td>4344676511950444</td>\n",
       "      <td>12/2022</td>\n",
       "      <td>623</td>\n",
       "      <td>YES</td>\n",
       "      <td>2</td>\n",
       "      <td>$24295</td>\n",
       "      <td>09/2002</td>\n",
       "      <td>2008</td>\n",
       "      <td>No</td>\n",
       "    </tr>\n",
       "    <tr>\n",
       "      <th>1</th>\n",
       "      <td>2731</td>\n",
       "      <td>825</td>\n",
       "      <td>Visa</td>\n",
       "      <td>Debit</td>\n",
       "      <td>4956965974959986</td>\n",
       "      <td>12/2020</td>\n",
       "      <td>393</td>\n",
       "      <td>YES</td>\n",
       "      <td>2</td>\n",
       "      <td>$21968</td>\n",
       "      <td>04/2014</td>\n",
       "      <td>2014</td>\n",
       "      <td>No</td>\n",
       "    </tr>\n",
       "    <tr>\n",
       "      <th>2</th>\n",
       "      <td>3701</td>\n",
       "      <td>825</td>\n",
       "      <td>Visa</td>\n",
       "      <td>Debit</td>\n",
       "      <td>4582313478255491</td>\n",
       "      <td>02/2024</td>\n",
       "      <td>719</td>\n",
       "      <td>YES</td>\n",
       "      <td>2</td>\n",
       "      <td>$46414</td>\n",
       "      <td>07/2003</td>\n",
       "      <td>2004</td>\n",
       "      <td>No</td>\n",
       "    </tr>\n",
       "    <tr>\n",
       "      <th>3</th>\n",
       "      <td>42</td>\n",
       "      <td>825</td>\n",
       "      <td>Visa</td>\n",
       "      <td>Credit</td>\n",
       "      <td>4879494103069057</td>\n",
       "      <td>08/2024</td>\n",
       "      <td>693</td>\n",
       "      <td>NO</td>\n",
       "      <td>1</td>\n",
       "      <td>$12400</td>\n",
       "      <td>01/2003</td>\n",
       "      <td>2012</td>\n",
       "      <td>No</td>\n",
       "    </tr>\n",
       "    <tr>\n",
       "      <th>4</th>\n",
       "      <td>4659</td>\n",
       "      <td>825</td>\n",
       "      <td>Mastercard</td>\n",
       "      <td>Debit (Prepaid)</td>\n",
       "      <td>5722874738736011</td>\n",
       "      <td>03/2009</td>\n",
       "      <td>75</td>\n",
       "      <td>YES</td>\n",
       "      <td>1</td>\n",
       "      <td>$28</td>\n",
       "      <td>09/2008</td>\n",
       "      <td>2009</td>\n",
       "      <td>No</td>\n",
       "    </tr>\n",
       "  </tbody>\n",
       "</table>\n",
       "</div>"
      ],
      "text/plain": [
       "     id  client_id  card_brand        card_type       card_number  expires  \\\n",
       "0  4524        825        Visa            Debit  4344676511950444  12/2022   \n",
       "1  2731        825        Visa            Debit  4956965974959986  12/2020   \n",
       "2  3701        825        Visa            Debit  4582313478255491  02/2024   \n",
       "3    42        825        Visa           Credit  4879494103069057  08/2024   \n",
       "4  4659        825  Mastercard  Debit (Prepaid)  5722874738736011  03/2009   \n",
       "\n",
       "   cvv has_chip  num_cards_issued credit_limit acct_open_date  \\\n",
       "0  623      YES                 2       $24295        09/2002   \n",
       "1  393      YES                 2       $21968        04/2014   \n",
       "2  719      YES                 2       $46414        07/2003   \n",
       "3  693       NO                 1       $12400        01/2003   \n",
       "4   75      YES                 1          $28        09/2008   \n",
       "\n",
       "   year_pin_last_changed card_on_dark_web  \n",
       "0                   2008               No  \n",
       "1                   2014               No  \n",
       "2                   2004               No  \n",
       "3                   2012               No  \n",
       "4                   2009               No  "
      ]
     },
     "execution_count": 28,
     "metadata": {},
     "output_type": "execute_result"
    }
   ],
   "source": [
    "cards.head()"
   ]
  },
  {
   "cell_type": "code",
   "execution_count": 29,
   "id": "aba2601d-bffe-456d-872c-f3c8dcba9270",
   "metadata": {},
   "outputs": [],
   "source": [
    "for i in [\"credit_limit\", \"per_capita_income\", \"yearly_income\", \"total_debt\"]:\n",
    "          df[i] = df[i].str.replace(\"$\", \"\")\n",
    "          df[i] = df[i].astype(int)"
   ]
  },
  {
   "cell_type": "code",
   "execution_count": 30,
   "id": "56ba88aa-81d7-4a7d-bc69-bd4292ff8e57",
   "metadata": {},
   "outputs": [
    {
     "data": {
      "text/html": [
       "<div>\n",
       "<style scoped>\n",
       "    .dataframe tbody tr th:only-of-type {\n",
       "        vertical-align: middle;\n",
       "    }\n",
       "\n",
       "    .dataframe tbody tr th {\n",
       "        vertical-align: top;\n",
       "    }\n",
       "\n",
       "    .dataframe thead th {\n",
       "        text-align: right;\n",
       "    }\n",
       "</style>\n",
       "<table border=\"1\" class=\"dataframe\">\n",
       "  <thead>\n",
       "    <tr style=\"text-align: right;\">\n",
       "      <th></th>\n",
       "      <th>client_id</th>\n",
       "      <th>card_brand</th>\n",
       "      <th>card_type</th>\n",
       "      <th>has_chip</th>\n",
       "      <th>num_cards_issued</th>\n",
       "      <th>credit_limit</th>\n",
       "      <th>acct_open_date</th>\n",
       "      <th>year_pin_last_changed</th>\n",
       "      <th>card_on_dark_web</th>\n",
       "      <th>current_age</th>\n",
       "      <th>...</th>\n",
       "      <th>address</th>\n",
       "      <th>latitude</th>\n",
       "      <th>longitude</th>\n",
       "      <th>per_capita_income</th>\n",
       "      <th>yearly_income</th>\n",
       "      <th>total_debt</th>\n",
       "      <th>credit_score</th>\n",
       "      <th>num_credit_cards</th>\n",
       "      <th>acc_open_month</th>\n",
       "      <th>acc_open_year</th>\n",
       "    </tr>\n",
       "  </thead>\n",
       "  <tbody>\n",
       "    <tr>\n",
       "      <th>0</th>\n",
       "      <td>825</td>\n",
       "      <td>Visa</td>\n",
       "      <td>Debit</td>\n",
       "      <td>YES</td>\n",
       "      <td>2</td>\n",
       "      <td>24295</td>\n",
       "      <td>09/2002</td>\n",
       "      <td>2008</td>\n",
       "      <td>No</td>\n",
       "      <td>53</td>\n",
       "      <td>...</td>\n",
       "      <td>462 Rose Lane</td>\n",
       "      <td>34.15</td>\n",
       "      <td>-117.76</td>\n",
       "      <td>29278</td>\n",
       "      <td>59696</td>\n",
       "      <td>127613</td>\n",
       "      <td>787</td>\n",
       "      <td>5</td>\n",
       "      <td>09</td>\n",
       "      <td>2002</td>\n",
       "    </tr>\n",
       "    <tr>\n",
       "      <th>1</th>\n",
       "      <td>825</td>\n",
       "      <td>Visa</td>\n",
       "      <td>Debit</td>\n",
       "      <td>YES</td>\n",
       "      <td>2</td>\n",
       "      <td>21968</td>\n",
       "      <td>04/2014</td>\n",
       "      <td>2014</td>\n",
       "      <td>No</td>\n",
       "      <td>53</td>\n",
       "      <td>...</td>\n",
       "      <td>462 Rose Lane</td>\n",
       "      <td>34.15</td>\n",
       "      <td>-117.76</td>\n",
       "      <td>29278</td>\n",
       "      <td>59696</td>\n",
       "      <td>127613</td>\n",
       "      <td>787</td>\n",
       "      <td>5</td>\n",
       "      <td>04</td>\n",
       "      <td>2014</td>\n",
       "    </tr>\n",
       "    <tr>\n",
       "      <th>2</th>\n",
       "      <td>825</td>\n",
       "      <td>Visa</td>\n",
       "      <td>Debit</td>\n",
       "      <td>YES</td>\n",
       "      <td>2</td>\n",
       "      <td>46414</td>\n",
       "      <td>07/2003</td>\n",
       "      <td>2004</td>\n",
       "      <td>No</td>\n",
       "      <td>53</td>\n",
       "      <td>...</td>\n",
       "      <td>462 Rose Lane</td>\n",
       "      <td>34.15</td>\n",
       "      <td>-117.76</td>\n",
       "      <td>29278</td>\n",
       "      <td>59696</td>\n",
       "      <td>127613</td>\n",
       "      <td>787</td>\n",
       "      <td>5</td>\n",
       "      <td>07</td>\n",
       "      <td>2003</td>\n",
       "    </tr>\n",
       "    <tr>\n",
       "      <th>3</th>\n",
       "      <td>825</td>\n",
       "      <td>Visa</td>\n",
       "      <td>Credit</td>\n",
       "      <td>NO</td>\n",
       "      <td>1</td>\n",
       "      <td>12400</td>\n",
       "      <td>01/2003</td>\n",
       "      <td>2012</td>\n",
       "      <td>No</td>\n",
       "      <td>53</td>\n",
       "      <td>...</td>\n",
       "      <td>462 Rose Lane</td>\n",
       "      <td>34.15</td>\n",
       "      <td>-117.76</td>\n",
       "      <td>29278</td>\n",
       "      <td>59696</td>\n",
       "      <td>127613</td>\n",
       "      <td>787</td>\n",
       "      <td>5</td>\n",
       "      <td>01</td>\n",
       "      <td>2003</td>\n",
       "    </tr>\n",
       "    <tr>\n",
       "      <th>4</th>\n",
       "      <td>825</td>\n",
       "      <td>Mastercard</td>\n",
       "      <td>Debit (Prepaid)</td>\n",
       "      <td>YES</td>\n",
       "      <td>1</td>\n",
       "      <td>28</td>\n",
       "      <td>09/2008</td>\n",
       "      <td>2009</td>\n",
       "      <td>No</td>\n",
       "      <td>53</td>\n",
       "      <td>...</td>\n",
       "      <td>462 Rose Lane</td>\n",
       "      <td>34.15</td>\n",
       "      <td>-117.76</td>\n",
       "      <td>29278</td>\n",
       "      <td>59696</td>\n",
       "      <td>127613</td>\n",
       "      <td>787</td>\n",
       "      <td>5</td>\n",
       "      <td>09</td>\n",
       "      <td>2008</td>\n",
       "    </tr>\n",
       "  </tbody>\n",
       "</table>\n",
       "<p>5 rows × 24 columns</p>\n",
       "</div>"
      ],
      "text/plain": [
       "   client_id  card_brand        card_type has_chip  num_cards_issued  \\\n",
       "0        825        Visa            Debit      YES                 2   \n",
       "1        825        Visa            Debit      YES                 2   \n",
       "2        825        Visa            Debit      YES                 2   \n",
       "3        825        Visa           Credit       NO                 1   \n",
       "4        825  Mastercard  Debit (Prepaid)      YES                 1   \n",
       "\n",
       "   credit_limit acct_open_date  year_pin_last_changed card_on_dark_web  \\\n",
       "0         24295        09/2002                   2008               No   \n",
       "1         21968        04/2014                   2014               No   \n",
       "2         46414        07/2003                   2004               No   \n",
       "3         12400        01/2003                   2012               No   \n",
       "4            28        09/2008                   2009               No   \n",
       "\n",
       "   current_age  ...        address  latitude  longitude per_capita_income  \\\n",
       "0           53  ...  462 Rose Lane     34.15    -117.76             29278   \n",
       "1           53  ...  462 Rose Lane     34.15    -117.76             29278   \n",
       "2           53  ...  462 Rose Lane     34.15    -117.76             29278   \n",
       "3           53  ...  462 Rose Lane     34.15    -117.76             29278   \n",
       "4           53  ...  462 Rose Lane     34.15    -117.76             29278   \n",
       "\n",
       "  yearly_income  total_debt  credit_score  num_credit_cards  acc_open_month  \\\n",
       "0         59696      127613           787                 5              09   \n",
       "1         59696      127613           787                 5              04   \n",
       "2         59696      127613           787                 5              07   \n",
       "3         59696      127613           787                 5              01   \n",
       "4         59696      127613           787                 5              09   \n",
       "\n",
       "   acc_open_year  \n",
       "0           2002  \n",
       "1           2014  \n",
       "2           2003  \n",
       "3           2003  \n",
       "4           2008  \n",
       "\n",
       "[5 rows x 24 columns]"
      ]
     },
     "execution_count": 30,
     "metadata": {},
     "output_type": "execute_result"
    }
   ],
   "source": [
    "df.head()"
   ]
  },
  {
   "cell_type": "code",
   "execution_count": 31,
   "id": "31fe9f6b-10ca-4146-9d31-fec23088de41",
   "metadata": {},
   "outputs": [],
   "source": [
    "max_limit = df.groupby('client_id')[\"credit_limit\"].max().sort_values(ascending=0).head(10).reset_index()"
   ]
  },
  {
   "cell_type": "code",
   "execution_count": 32,
   "id": "a6527f88-dffb-47de-a941-0abbfc505287",
   "metadata": {},
   "outputs": [
    {
     "data": {
      "image/png": "[encoded data removed]",
      "text/plain": [
       "<Figure size 1000x500 with 1 Axes>"
      ]
     },
     "metadata": {},
     "output_type": "display_data"
    }
   ],
   "source": [
    "plt.figure(figsize=(10,5))\n",
    "sns.barplot(max_limit ,x='client_id',y=\"credit_limit\", palette=\"mako\")\n",
    "plt.show()"
   ]
  },
  {
   "cell_type": "code",
   "execution_count": 33,
   "id": "3c31a93a-a8a8-4e37-ad47-54b1c7023f0c",
   "metadata": {},
   "outputs": [],
   "source": [
    "card_on_dark_web = df.groupby(\"client_id\")[\"card_on_dark_web\"].value_counts().reset_index()"
   ]
  },
  {
   "cell_type": "code",
   "execution_count": 34,
   "id": "8aa5a6f6-995b-4c6a-b5db-c2023b225fe7",
   "metadata": {},
   "outputs": [
    {
     "data": {
      "text/plain": [
       "card_on_dark_web\n",
       "No    2000\n",
       "Name: count, dtype: int64"
      ]
     },
     "execution_count": 34,
     "metadata": {},
     "output_type": "execute_result"
    }
   ],
   "source": [
    "card_on_dark_web[\"card_on_dark_web\"].value_counts()"
   ]
  },
  {
   "cell_type": "code",
   "execution_count": 35,
   "id": "682a4828-f709-4b89-990f-dfbea0a37624",
   "metadata": {},
   "outputs": [],
   "source": [
    "df.drop(\"card_on_dark_web\", axis=1, inplace=True)"
   ]
  },
  {
   "cell_type": "code",
   "execution_count": 36,
   "id": "28d25295-1984-4593-9369-8373bc36152a",
   "metadata": {},
   "outputs": [
    {
     "data": {
      "text/html": [
       "<div>\n",
       "<style scoped>\n",
       "    .dataframe tbody tr th:only-of-type {\n",
       "        vertical-align: middle;\n",
       "    }\n",
       "\n",
       "    .dataframe tbody tr th {\n",
       "        vertical-align: top;\n",
       "    }\n",
       "\n",
       "    .dataframe thead th {\n",
       "        text-align: right;\n",
       "    }\n",
       "</style>\n",
       "<table border=\"1\" class=\"dataframe\">\n",
       "  <thead>\n",
       "    <tr style=\"text-align: right;\">\n",
       "      <th></th>\n",
       "      <th>client_id</th>\n",
       "      <th>card_brand</th>\n",
       "      <th>card_type</th>\n",
       "      <th>has_chip</th>\n",
       "      <th>num_cards_issued</th>\n",
       "      <th>credit_limit</th>\n",
       "      <th>acct_open_date</th>\n",
       "      <th>year_pin_last_changed</th>\n",
       "      <th>current_age</th>\n",
       "      <th>retirement_age</th>\n",
       "      <th>...</th>\n",
       "      <th>address</th>\n",
       "      <th>latitude</th>\n",
       "      <th>longitude</th>\n",
       "      <th>per_capita_income</th>\n",
       "      <th>yearly_income</th>\n",
       "      <th>total_debt</th>\n",
       "      <th>credit_score</th>\n",
       "      <th>num_credit_cards</th>\n",
       "      <th>acc_open_month</th>\n",
       "      <th>acc_open_year</th>\n",
       "    </tr>\n",
       "  </thead>\n",
       "  <tbody>\n",
       "    <tr>\n",
       "      <th>0</th>\n",
       "      <td>825</td>\n",
       "      <td>Visa</td>\n",
       "      <td>Debit</td>\n",
       "      <td>YES</td>\n",
       "      <td>2</td>\n",
       "      <td>24295</td>\n",
       "      <td>09/2002</td>\n",
       "      <td>2008</td>\n",
       "      <td>53</td>\n",
       "      <td>66</td>\n",
       "      <td>...</td>\n",
       "      <td>462 Rose Lane</td>\n",
       "      <td>34.15</td>\n",
       "      <td>-117.76</td>\n",
       "      <td>29278</td>\n",
       "      <td>59696</td>\n",
       "      <td>127613</td>\n",
       "      <td>787</td>\n",
       "      <td>5</td>\n",
       "      <td>09</td>\n",
       "      <td>2002</td>\n",
       "    </tr>\n",
       "    <tr>\n",
       "      <th>1</th>\n",
       "      <td>825</td>\n",
       "      <td>Visa</td>\n",
       "      <td>Debit</td>\n",
       "      <td>YES</td>\n",
       "      <td>2</td>\n",
       "      <td>21968</td>\n",
       "      <td>04/2014</td>\n",
       "      <td>2014</td>\n",
       "      <td>53</td>\n",
       "      <td>66</td>\n",
       "      <td>...</td>\n",
       "      <td>462 Rose Lane</td>\n",
       "      <td>34.15</td>\n",
       "      <td>-117.76</td>\n",
       "      <td>29278</td>\n",
       "      <td>59696</td>\n",
       "      <td>127613</td>\n",
       "      <td>787</td>\n",
       "      <td>5</td>\n",
       "      <td>04</td>\n",
       "      <td>2014</td>\n",
       "    </tr>\n",
       "    <tr>\n",
       "      <th>2</th>\n",
       "      <td>825</td>\n",
       "      <td>Visa</td>\n",
       "      <td>Debit</td>\n",
       "      <td>YES</td>\n",
       "      <td>2</td>\n",
       "      <td>46414</td>\n",
       "      <td>07/2003</td>\n",
       "      <td>2004</td>\n",
       "      <td>53</td>\n",
       "      <td>66</td>\n",
       "      <td>...</td>\n",
       "      <td>462 Rose Lane</td>\n",
       "      <td>34.15</td>\n",
       "      <td>-117.76</td>\n",
       "      <td>29278</td>\n",
       "      <td>59696</td>\n",
       "      <td>127613</td>\n",
       "      <td>787</td>\n",
       "      <td>5</td>\n",
       "      <td>07</td>\n",
       "      <td>2003</td>\n",
       "    </tr>\n",
       "    <tr>\n",
       "      <th>3</th>\n",
       "      <td>825</td>\n",
       "      <td>Visa</td>\n",
       "      <td>Credit</td>\n",
       "      <td>NO</td>\n",
       "      <td>1</td>\n",
       "      <td>12400</td>\n",
       "      <td>01/2003</td>\n",
       "      <td>2012</td>\n",
       "      <td>53</td>\n",
       "      <td>66</td>\n",
       "      <td>...</td>\n",
       "      <td>462 Rose Lane</td>\n",
       "      <td>34.15</td>\n",
       "      <td>-117.76</td>\n",
       "      <td>29278</td>\n",
       "      <td>59696</td>\n",
       "      <td>127613</td>\n",
       "      <td>787</td>\n",
       "      <td>5</td>\n",
       "      <td>01</td>\n",
       "      <td>2003</td>\n",
       "    </tr>\n",
       "    <tr>\n",
       "      <th>4</th>\n",
       "      <td>825</td>\n",
       "      <td>Mastercard</td>\n",
       "      <td>Debit (Prepaid)</td>\n",
       "      <td>YES</td>\n",
       "      <td>1</td>\n",
       "      <td>28</td>\n",
       "      <td>09/2008</td>\n",
       "      <td>2009</td>\n",
       "      <td>53</td>\n",
       "      <td>66</td>\n",
       "      <td>...</td>\n",
       "      <td>462 Rose Lane</td>\n",
       "      <td>34.15</td>\n",
       "      <td>-117.76</td>\n",
       "      <td>29278</td>\n",
       "      <td>59696</td>\n",
       "      <td>127613</td>\n",
       "      <td>787</td>\n",
       "      <td>5</td>\n",
       "      <td>09</td>\n",
       "      <td>2008</td>\n",
       "    </tr>\n",
       "  </tbody>\n",
       "</table>\n",
       "<p>5 rows × 23 columns</p>\n",
       "</div>"
      ],
      "text/plain": [
       "   client_id  card_brand        card_type has_chip  num_cards_issued  \\\n",
       "0        825        Visa            Debit      YES                 2   \n",
       "1        825        Visa            Debit      YES                 2   \n",
       "2        825        Visa            Debit      YES                 2   \n",
       "3        825        Visa           Credit       NO                 1   \n",
       "4        825  Mastercard  Debit (Prepaid)      YES                 1   \n",
       "\n",
       "   credit_limit acct_open_date  year_pin_last_changed  current_age  \\\n",
       "0         24295        09/2002                   2008           53   \n",
       "1         21968        04/2014                   2014           53   \n",
       "2         46414        07/2003                   2004           53   \n",
       "3         12400        01/2003                   2012           53   \n",
       "4            28        09/2008                   2009           53   \n",
       "\n",
       "   retirement_age  ...        address  latitude longitude per_capita_income  \\\n",
       "0              66  ...  462 Rose Lane     34.15   -117.76             29278   \n",
       "1              66  ...  462 Rose Lane     34.15   -117.76             29278   \n",
       "2              66  ...  462 Rose Lane     34.15   -117.76             29278   \n",
       "3              66  ...  462 Rose Lane     34.15   -117.76             29278   \n",
       "4              66  ...  462 Rose Lane     34.15   -117.76             29278   \n",
       "\n",
       "   yearly_income  total_debt  credit_score  num_credit_cards  acc_open_month  \\\n",
       "0          59696      127613           787                 5              09   \n",
       "1          59696      127613           787                 5              04   \n",
       "2          59696      127613           787                 5              07   \n",
       "3          59696      127613           787                 5              01   \n",
       "4          59696      127613           787                 5              09   \n",
       "\n",
       "   acc_open_year  \n",
       "0           2002  \n",
       "1           2014  \n",
       "2           2003  \n",
       "3           2003  \n",
       "4           2008  \n",
       "\n",
       "[5 rows x 23 columns]"
      ]
     },
     "execution_count": 36,
     "metadata": {},
     "output_type": "execute_result"
    }
   ],
   "source": [
    "df.head()"
   ]
  },
  {
   "cell_type": "code",
   "execution_count": 37,
   "id": "b4c8ca61-140d-4fa0-8221-d866c3104276",
   "metadata": {},
   "outputs": [],
   "source": [
    "card_credit_limit = df.groupby([\"card_brand\",\"card_type\"])[\"credit_limit\"].mean().reset_index()"
   ]
  },
  {
   "cell_type": "code",
   "execution_count": 38,
   "id": "7c6ab5c0-668f-4481-aced-22f3a73f1cb7",
   "metadata": {},
   "outputs": [
    {
     "data": {
      "image/png": "[encoded data removed]",
      "text/plain": [
       "<Figure size 640x480 with 1 Axes>"
      ]
     },
     "metadata": {},
     "output_type": "display_data"
    }
   ],
   "source": [
    "sns.barplot(card_credit_limit, x=\"card_brand\", y=\"credit_limit\",hue=\"card_type\")\n",
    "plt.show()"
   ]
  },
  {
   "cell_type": "code",
   "execution_count": 39,
   "id": "77eba596-a521-4158-b5ab-e438b8a527eb",
   "metadata": {},
   "outputs": [
    {
     "data": {
      "text/plain": [
       "<Axes: ylabel='card_brand'>"
      ]
     },
     "execution_count": 39,
     "metadata": {},
     "output_type": "execute_result"
    },
    {
     "data": {
      "image/png": "[encoded data removed]",
      "text/plain": [
       "<Figure size 640x480 with 1 Axes>"
      ]
     },
     "metadata": {},
     "output_type": "display_data"
    }
   ],
   "source": [
    "df.groupby([\"card_brand\"])[\"credit_limit\"].max().sort_values().plot.barh()"
   ]
  },
  {
   "cell_type": "code",
   "execution_count": 40,
   "id": "f272536e-8d6c-49d1-8351-0350f42c820e",
   "metadata": {},
   "outputs": [
    {
     "data": {
      "text/plain": [
       "<Axes: ylabel='client_id'>"
      ]
     },
     "execution_count": 40,
     "metadata": {},
     "output_type": "execute_result"
    },
    {
     "data": {
      "image/png": "[encoded data removed]",
      "text/plain": [
       "<Figure size 640x480 with 1 Axes>"
      ]
     },
     "metadata": {},
     "output_type": "display_data"
    }
   ],
   "source": [
    "df[[\"client_id\", \"yearly_income\"]].drop_duplicates().sort_values(\"yearly_income\", ascending=0).head(10)\\\n",
    ".plot.barh(x=\"client_id\",y=\"yearly_income\")"
   ]
  },
  {
   "cell_type": "code",
   "execution_count": 41,
   "id": "7b928a7b-a840-4d6d-bcbc-b730a36134a9",
   "metadata": {},
   "outputs": [],
   "source": [
    "top_client_by_income_debet = df[[\"client_id\", \"yearly_income\", \"total_debt\"]].drop_duplicates().sort_values(\"yearly_income\", ascending=0).head(10)"
   ]
  },
  {
   "cell_type": "code",
   "execution_count": 42,
   "id": "8321f565-6d86-4193-bc42-9b5e3d5bc21f",
   "metadata": {},
   "outputs": [],
   "source": [
    "top_client_by_income_debet[\"net_income\"] = top_client_by_income_debet[\"yearly_income\"]\\\n",
    "- top_client_by_income_debet[\"total_debt\"]"
   ]
  },
  {
   "cell_type": "code",
   "execution_count": 43,
   "id": "3405eba1-eaa4-45d2-becd-8096f01c34ae",
   "metadata": {},
   "outputs": [
    {
     "data": {
      "image/png": "[encoded data removed]",
      "text/plain": [
       "<Figure size 640x480 with 1 Axes>"
      ]
     },
     "metadata": {},
     "output_type": "display_data"
    }
   ],
   "source": [
    "top_client_by_income_debet[[\"client_id\", \"net_income\"]].sort_values(\"net_income\").plot.barh(x=\"client_id\")\n",
    "plt.show()"
   ]
  },
  {
   "cell_type": "code",
   "execution_count": 44,
   "id": "6a8608e9-5ec4-4e78-92f8-4ea5f386f7b3",
   "metadata": {},
   "outputs": [],
   "source": [
    "client_credit_score = df[[\"client_id\",\"credit_score\"]].drop_duplicates().sort_values(\"credit_score\", ascending=0)"
   ]
  },
  {
   "cell_type": "code",
   "execution_count": 45,
   "id": "57460547-ff75-45ae-b115-65e202f3dcff",
   "metadata": {},
   "outputs": [
    {
     "data": {
      "image/png": "[encoded data removed]",
      "text/plain": [
       "<Figure size 1800x500 with 1 Axes>"
      ]
     },
     "metadata": {},
     "output_type": "display_data"
    }
   ],
   "source": [
    "plt.figure(figsize=(18,5))\n",
    "sns.lineplot(client_credit_score, x=\"client_id\", y=\"credit_score\")\n",
    "plt.axhline(client_credit_score[\"credit_score\"].mean(), color=\"red\")\n",
    "plt.text(-80, client_credit_score[\"credit_score\"].mean()+10, \"Average credit Score\",\n",
    "       size=\"large\", weight=\"bold\", color=\"red\")\n",
    "plt.show()"
   ]
  },
  {
   "cell_type": "code",
   "execution_count": 46,
   "id": "d857e572-6f0f-43f6-9f15-2580b2651cee",
   "metadata": {},
   "outputs": [
    {
     "data": {
      "text/html": [
       "<div>\n",
       "<style scoped>\n",
       "    .dataframe tbody tr th:only-of-type {\n",
       "        vertical-align: middle;\n",
       "    }\n",
       "\n",
       "    .dataframe tbody tr th {\n",
       "        vertical-align: top;\n",
       "    }\n",
       "\n",
       "    .dataframe thead th {\n",
       "        text-align: right;\n",
       "    }\n",
       "</style>\n",
       "<table border=\"1\" class=\"dataframe\">\n",
       "  <thead>\n",
       "    <tr style=\"text-align: right;\">\n",
       "      <th></th>\n",
       "      <th>client_id</th>\n",
       "      <th>card_brand</th>\n",
       "      <th>card_type</th>\n",
       "      <th>has_chip</th>\n",
       "      <th>num_cards_issued</th>\n",
       "      <th>credit_limit</th>\n",
       "      <th>acct_open_date</th>\n",
       "      <th>year_pin_last_changed</th>\n",
       "      <th>current_age</th>\n",
       "      <th>retirement_age</th>\n",
       "      <th>...</th>\n",
       "      <th>address</th>\n",
       "      <th>latitude</th>\n",
       "      <th>longitude</th>\n",
       "      <th>per_capita_income</th>\n",
       "      <th>yearly_income</th>\n",
       "      <th>total_debt</th>\n",
       "      <th>credit_score</th>\n",
       "      <th>num_credit_cards</th>\n",
       "      <th>acc_open_month</th>\n",
       "      <th>acc_open_year</th>\n",
       "    </tr>\n",
       "  </thead>\n",
       "  <tbody>\n",
       "    <tr>\n",
       "      <th>0</th>\n",
       "      <td>825</td>\n",
       "      <td>Visa</td>\n",
       "      <td>Debit</td>\n",
       "      <td>YES</td>\n",
       "      <td>2</td>\n",
       "      <td>24295</td>\n",
       "      <td>09/2002</td>\n",
       "      <td>2008</td>\n",
       "      <td>53</td>\n",
       "      <td>66</td>\n",
       "      <td>...</td>\n",
       "      <td>462 Rose Lane</td>\n",
       "      <td>34.15</td>\n",
       "      <td>-117.76</td>\n",
       "      <td>29278</td>\n",
       "      <td>59696</td>\n",
       "      <td>127613</td>\n",
       "      <td>787</td>\n",
       "      <td>5</td>\n",
       "      <td>09</td>\n",
       "      <td>2002</td>\n",
       "    </tr>\n",
       "    <tr>\n",
       "      <th>1</th>\n",
       "      <td>825</td>\n",
       "      <td>Visa</td>\n",
       "      <td>Debit</td>\n",
       "      <td>YES</td>\n",
       "      <td>2</td>\n",
       "      <td>21968</td>\n",
       "      <td>04/2014</td>\n",
       "      <td>2014</td>\n",
       "      <td>53</td>\n",
       "      <td>66</td>\n",
       "      <td>...</td>\n",
       "      <td>462 Rose Lane</td>\n",
       "      <td>34.15</td>\n",
       "      <td>-117.76</td>\n",
       "      <td>29278</td>\n",
       "      <td>59696</td>\n",
       "      <td>127613</td>\n",
       "      <td>787</td>\n",
       "      <td>5</td>\n",
       "      <td>04</td>\n",
       "      <td>2014</td>\n",
       "    </tr>\n",
       "    <tr>\n",
       "      <th>2</th>\n",
       "      <td>825</td>\n",
       "      <td>Visa</td>\n",
       "      <td>Debit</td>\n",
       "      <td>YES</td>\n",
       "      <td>2</td>\n",
       "      <td>46414</td>\n",
       "      <td>07/2003</td>\n",
       "      <td>2004</td>\n",
       "      <td>53</td>\n",
       "      <td>66</td>\n",
       "      <td>...</td>\n",
       "      <td>462 Rose Lane</td>\n",
       "      <td>34.15</td>\n",
       "      <td>-117.76</td>\n",
       "      <td>29278</td>\n",
       "      <td>59696</td>\n",
       "      <td>127613</td>\n",
       "      <td>787</td>\n",
       "      <td>5</td>\n",
       "      <td>07</td>\n",
       "      <td>2003</td>\n",
       "    </tr>\n",
       "    <tr>\n",
       "      <th>3</th>\n",
       "      <td>825</td>\n",
       "      <td>Visa</td>\n",
       "      <td>Credit</td>\n",
       "      <td>NO</td>\n",
       "      <td>1</td>\n",
       "      <td>12400</td>\n",
       "      <td>01/2003</td>\n",
       "      <td>2012</td>\n",
       "      <td>53</td>\n",
       "      <td>66</td>\n",
       "      <td>...</td>\n",
       "      <td>462 Rose Lane</td>\n",
       "      <td>34.15</td>\n",
       "      <td>-117.76</td>\n",
       "      <td>29278</td>\n",
       "      <td>59696</td>\n",
       "      <td>127613</td>\n",
       "      <td>787</td>\n",
       "      <td>5</td>\n",
       "      <td>01</td>\n",
       "      <td>2003</td>\n",
       "    </tr>\n",
       "    <tr>\n",
       "      <th>4</th>\n",
       "      <td>825</td>\n",
       "      <td>Mastercard</td>\n",
       "      <td>Debit (Prepaid)</td>\n",
       "      <td>YES</td>\n",
       "      <td>1</td>\n",
       "      <td>28</td>\n",
       "      <td>09/2008</td>\n",
       "      <td>2009</td>\n",
       "      <td>53</td>\n",
       "      <td>66</td>\n",
       "      <td>...</td>\n",
       "      <td>462 Rose Lane</td>\n",
       "      <td>34.15</td>\n",
       "      <td>-117.76</td>\n",
       "      <td>29278</td>\n",
       "      <td>59696</td>\n",
       "      <td>127613</td>\n",
       "      <td>787</td>\n",
       "      <td>5</td>\n",
       "      <td>09</td>\n",
       "      <td>2008</td>\n",
       "    </tr>\n",
       "  </tbody>\n",
       "</table>\n",
       "<p>5 rows × 23 columns</p>\n",
       "</div>"
      ],
      "text/plain": [
       "   client_id  card_brand        card_type has_chip  num_cards_issued  \\\n",
       "0        825        Visa            Debit      YES                 2   \n",
       "1        825        Visa            Debit      YES                 2   \n",
       "2        825        Visa            Debit      YES                 2   \n",
       "3        825        Visa           Credit       NO                 1   \n",
       "4        825  Mastercard  Debit (Prepaid)      YES                 1   \n",
       "\n",
       "   credit_limit acct_open_date  year_pin_last_changed  current_age  \\\n",
       "0         24295        09/2002                   2008           53   \n",
       "1         21968        04/2014                   2014           53   \n",
       "2         46414        07/2003                   2004           53   \n",
       "3         12400        01/2003                   2012           53   \n",
       "4            28        09/2008                   2009           53   \n",
       "\n",
       "   retirement_age  ...        address  latitude longitude per_capita_income  \\\n",
       "0              66  ...  462 Rose Lane     34.15   -117.76             29278   \n",
       "1              66  ...  462 Rose Lane     34.15   -117.76             29278   \n",
       "2              66  ...  462 Rose Lane     34.15   -117.76             29278   \n",
       "3              66  ...  462 Rose Lane     34.15   -117.76             29278   \n",
       "4              66  ...  462 Rose Lane     34.15   -117.76             29278   \n",
       "\n",
       "   yearly_income  total_debt  credit_score  num_credit_cards  acc_open_month  \\\n",
       "0          59696      127613           787                 5              09   \n",
       "1          59696      127613           787                 5              04   \n",
       "2          59696      127613           787                 5              07   \n",
       "3          59696      127613           787                 5              01   \n",
       "4          59696      127613           787                 5              09   \n",
       "\n",
       "   acc_open_year  \n",
       "0           2002  \n",
       "1           2014  \n",
       "2           2003  \n",
       "3           2003  \n",
       "4           2008  \n",
       "\n",
       "[5 rows x 23 columns]"
      ]
     },
     "execution_count": 46,
     "metadata": {},
     "output_type": "execute_result"
    }
   ],
   "source": [
    "df.head()"
   ]
  },
  {
   "cell_type": "code",
   "execution_count": 47,
   "id": "219025e1-70e5-47f8-98f6-5474e47cb2f2",
   "metadata": {},
   "outputs": [
    {
     "data": {
      "text/html": [
       "<div>\n",
       "<style scoped>\n",
       "    .dataframe tbody tr th:only-of-type {\n",
       "        vertical-align: middle;\n",
       "    }\n",
       "\n",
       "    .dataframe tbody tr th {\n",
       "        vertical-align: top;\n",
       "    }\n",
       "\n",
       "    .dataframe thead th {\n",
       "        text-align: right;\n",
       "    }\n",
       "</style>\n",
       "<table border=\"1\" class=\"dataframe\">\n",
       "  <thead>\n",
       "    <tr style=\"text-align: right;\">\n",
       "      <th></th>\n",
       "      <th>current_age</th>\n",
       "      <th>credit_score</th>\n",
       "    </tr>\n",
       "  </thead>\n",
       "  <tbody>\n",
       "    <tr>\n",
       "      <th>current_age</th>\n",
       "      <td>1.00000</td>\n",
       "      <td>-0.00633</td>\n",
       "    </tr>\n",
       "    <tr>\n",
       "      <th>credit_score</th>\n",
       "      <td>-0.00633</td>\n",
       "      <td>1.00000</td>\n",
       "    </tr>\n",
       "  </tbody>\n",
       "</table>\n",
       "</div>"
      ],
      "text/plain": [
       "              current_age  credit_score\n",
       "current_age       1.00000      -0.00633\n",
       "credit_score     -0.00633       1.00000"
      ]
     },
     "execution_count": 47,
     "metadata": {},
     "output_type": "execute_result"
    }
   ],
   "source": [
    "df[[\"current_age\",\"credit_score\"]].drop_duplicates().corr()"
   ]
  },
  {
   "cell_type": "code",
   "execution_count": 48,
   "id": "0161b603-6bb0-4696-8c45-563092612d63",
   "metadata": {},
   "outputs": [
    {
     "data": {
      "text/html": [
       "<div>\n",
       "<style scoped>\n",
       "    .dataframe tbody tr th:only-of-type {\n",
       "        vertical-align: middle;\n",
       "    }\n",
       "\n",
       "    .dataframe tbody tr th {\n",
       "        vertical-align: top;\n",
       "    }\n",
       "\n",
       "    .dataframe thead th {\n",
       "        text-align: right;\n",
       "    }\n",
       "</style>\n",
       "<table border=\"1\" class=\"dataframe\">\n",
       "  <thead>\n",
       "    <tr style=\"text-align: right;\">\n",
       "      <th></th>\n",
       "      <th>total_debt</th>\n",
       "      <th>credit_score</th>\n",
       "    </tr>\n",
       "  </thead>\n",
       "  <tbody>\n",
       "    <tr>\n",
       "      <th>total_debt</th>\n",
       "      <td>1.000000</td>\n",
       "      <td>-0.102047</td>\n",
       "    </tr>\n",
       "    <tr>\n",
       "      <th>credit_score</th>\n",
       "      <td>-0.102047</td>\n",
       "      <td>1.000000</td>\n",
       "    </tr>\n",
       "  </tbody>\n",
       "</table>\n",
       "</div>"
      ],
      "text/plain": [
       "              total_debt  credit_score\n",
       "total_debt      1.000000     -0.102047\n",
       "credit_score   -0.102047      1.000000"
      ]
     },
     "execution_count": 48,
     "metadata": {},
     "output_type": "execute_result"
    }
   ],
   "source": [
    "df[[\"total_debt\",\"credit_score\"]].drop_duplicates().corr()"
   ]
  },
  {
   "cell_type": "code",
   "execution_count": 49,
   "id": "37e87240-e147-4294-ab04-6be8c9f64e63",
   "metadata": {},
   "outputs": [
    {
     "data": {
      "text/html": [
       "<div>\n",
       "<style scoped>\n",
       "    .dataframe tbody tr th:only-of-type {\n",
       "        vertical-align: middle;\n",
       "    }\n",
       "\n",
       "    .dataframe tbody tr th {\n",
       "        vertical-align: top;\n",
       "    }\n",
       "\n",
       "    .dataframe thead th {\n",
       "        text-align: right;\n",
       "    }\n",
       "</style>\n",
       "<table border=\"1\" class=\"dataframe\">\n",
       "  <thead>\n",
       "    <tr style=\"text-align: right;\">\n",
       "      <th></th>\n",
       "      <th>yearly_income</th>\n",
       "      <th>credit_score</th>\n",
       "    </tr>\n",
       "  </thead>\n",
       "  <tbody>\n",
       "    <tr>\n",
       "      <th>yearly_income</th>\n",
       "      <td>1.000000</td>\n",
       "      <td>0.000167</td>\n",
       "    </tr>\n",
       "    <tr>\n",
       "      <th>credit_score</th>\n",
       "      <td>0.000167</td>\n",
       "      <td>1.000000</td>\n",
       "    </tr>\n",
       "  </tbody>\n",
       "</table>\n",
       "</div>"
      ],
      "text/plain": [
       "               yearly_income  credit_score\n",
       "yearly_income       1.000000      0.000167\n",
       "credit_score        0.000167      1.000000"
      ]
     },
     "execution_count": 49,
     "metadata": {},
     "output_type": "execute_result"
    }
   ],
   "source": [
    "df[[\"yearly_income\",\"credit_score\"]].drop_duplicates().corr()"
   ]
  },
  {
   "cell_type": "code",
   "execution_count": 50,
   "id": "66b6687a-a982-45c1-8926-382d28103ee7",
   "metadata": {},
   "outputs": [
    {
     "data": {
      "text/plain": [
       "<Axes: >"
      ]
     },
     "execution_count": 50,
     "metadata": {},
     "output_type": "execute_result"
    },
    {
     "data": {
      "image/png": "[encoded data removed]",
      "text/plain": [
       "<Figure size 640x480 with 1 Axes>"
      ]
     },
     "metadata": {},
     "output_type": "display_data"
    }
   ],
   "source": [
    "df[\"current_age\"].plot.box()"
   ]
  },
  {
   "cell_type": "code",
   "execution_count": 51,
   "id": "d175962a-ff63-4fcc-954e-945792ec1a25",
   "metadata": {},
   "outputs": [
    {
     "data": {
      "image/png": "[encoded data removed]",
      "text/plain": [
       "<Figure size 640x480 with 1 Axes>"
      ]
     },
     "metadata": {},
     "output_type": "display_data"
    },
    {
     "data": {
      "image/png": "[encoded data removed]",
      "text/plain": [
       "<Figure size 640x480 with 1 Axes>"
      ]
     },
     "metadata": {},
     "output_type": "display_data"
    }
   ],
   "source": [
    "df[\"current_age\"].plot.hist()\n",
    "plt.show()\n",
    "df[\"current_age\"].plot.box()\n",
    "plt.show()"
   ]
  },
  {
   "cell_type": "code",
   "execution_count": 52,
   "id": "cd746162-7409-4171-a053-928d6ce0c206",
   "metadata": {},
   "outputs": [
    {
     "data": {
      "text/html": [
       "<div>\n",
       "<style scoped>\n",
       "    .dataframe tbody tr th:only-of-type {\n",
       "        vertical-align: middle;\n",
       "    }\n",
       "\n",
       "    .dataframe tbody tr th {\n",
       "        vertical-align: top;\n",
       "    }\n",
       "\n",
       "    .dataframe thead th {\n",
       "        text-align: right;\n",
       "    }\n",
       "</style>\n",
       "<table border=\"1\" class=\"dataframe\">\n",
       "  <thead>\n",
       "    <tr style=\"text-align: right;\">\n",
       "      <th></th>\n",
       "      <th>client_id</th>\n",
       "      <th>card_brand</th>\n",
       "      <th>card_type</th>\n",
       "      <th>has_chip</th>\n",
       "      <th>num_cards_issued</th>\n",
       "      <th>credit_limit</th>\n",
       "      <th>acct_open_date</th>\n",
       "      <th>year_pin_last_changed</th>\n",
       "      <th>current_age</th>\n",
       "      <th>retirement_age</th>\n",
       "      <th>...</th>\n",
       "      <th>address</th>\n",
       "      <th>latitude</th>\n",
       "      <th>longitude</th>\n",
       "      <th>per_capita_income</th>\n",
       "      <th>yearly_income</th>\n",
       "      <th>total_debt</th>\n",
       "      <th>credit_score</th>\n",
       "      <th>num_credit_cards</th>\n",
       "      <th>acc_open_month</th>\n",
       "      <th>acc_open_year</th>\n",
       "    </tr>\n",
       "  </thead>\n",
       "  <tbody>\n",
       "    <tr>\n",
       "      <th>0</th>\n",
       "      <td>825</td>\n",
       "      <td>Visa</td>\n",
       "      <td>Debit</td>\n",
       "      <td>YES</td>\n",
       "      <td>2</td>\n",
       "      <td>24295</td>\n",
       "      <td>09/2002</td>\n",
       "      <td>2008</td>\n",
       "      <td>53</td>\n",
       "      <td>66</td>\n",
       "      <td>...</td>\n",
       "      <td>462 Rose Lane</td>\n",
       "      <td>34.15</td>\n",
       "      <td>-117.76</td>\n",
       "      <td>29278</td>\n",
       "      <td>59696</td>\n",
       "      <td>127613</td>\n",
       "      <td>787</td>\n",
       "      <td>5</td>\n",
       "      <td>09</td>\n",
       "      <td>2002</td>\n",
       "    </tr>\n",
       "    <tr>\n",
       "      <th>1</th>\n",
       "      <td>825</td>\n",
       "      <td>Visa</td>\n",
       "      <td>Debit</td>\n",
       "      <td>YES</td>\n",
       "      <td>2</td>\n",
       "      <td>21968</td>\n",
       "      <td>04/2014</td>\n",
       "      <td>2014</td>\n",
       "      <td>53</td>\n",
       "      <td>66</td>\n",
       "      <td>...</td>\n",
       "      <td>462 Rose Lane</td>\n",
       "      <td>34.15</td>\n",
       "      <td>-117.76</td>\n",
       "      <td>29278</td>\n",
       "      <td>59696</td>\n",
       "      <td>127613</td>\n",
       "      <td>787</td>\n",
       "      <td>5</td>\n",
       "      <td>04</td>\n",
       "      <td>2014</td>\n",
       "    </tr>\n",
       "    <tr>\n",
       "      <th>2</th>\n",
       "      <td>825</td>\n",
       "      <td>Visa</td>\n",
       "      <td>Debit</td>\n",
       "      <td>YES</td>\n",
       "      <td>2</td>\n",
       "      <td>46414</td>\n",
       "      <td>07/2003</td>\n",
       "      <td>2004</td>\n",
       "      <td>53</td>\n",
       "      <td>66</td>\n",
       "      <td>...</td>\n",
       "      <td>462 Rose Lane</td>\n",
       "      <td>34.15</td>\n",
       "      <td>-117.76</td>\n",
       "      <td>29278</td>\n",
       "      <td>59696</td>\n",
       "      <td>127613</td>\n",
       "      <td>787</td>\n",
       "      <td>5</td>\n",
       "      <td>07</td>\n",
       "      <td>2003</td>\n",
       "    </tr>\n",
       "    <tr>\n",
       "      <th>3</th>\n",
       "      <td>825</td>\n",
       "      <td>Visa</td>\n",
       "      <td>Credit</td>\n",
       "      <td>NO</td>\n",
       "      <td>1</td>\n",
       "      <td>12400</td>\n",
       "      <td>01/2003</td>\n",
       "      <td>2012</td>\n",
       "      <td>53</td>\n",
       "      <td>66</td>\n",
       "      <td>...</td>\n",
       "      <td>462 Rose Lane</td>\n",
       "      <td>34.15</td>\n",
       "      <td>-117.76</td>\n",
       "      <td>29278</td>\n",
       "      <td>59696</td>\n",
       "      <td>127613</td>\n",
       "      <td>787</td>\n",
       "      <td>5</td>\n",
       "      <td>01</td>\n",
       "      <td>2003</td>\n",
       "    </tr>\n",
       "    <tr>\n",
       "      <th>4</th>\n",
       "      <td>825</td>\n",
       "      <td>Mastercard</td>\n",
       "      <td>Debit (Prepaid)</td>\n",
       "      <td>YES</td>\n",
       "      <td>1</td>\n",
       "      <td>28</td>\n",
       "      <td>09/2008</td>\n",
       "      <td>2009</td>\n",
       "      <td>53</td>\n",
       "      <td>66</td>\n",
       "      <td>...</td>\n",
       "      <td>462 Rose Lane</td>\n",
       "      <td>34.15</td>\n",
       "      <td>-117.76</td>\n",
       "      <td>29278</td>\n",
       "      <td>59696</td>\n",
       "      <td>127613</td>\n",
       "      <td>787</td>\n",
       "      <td>5</td>\n",
       "      <td>09</td>\n",
       "      <td>2008</td>\n",
       "    </tr>\n",
       "    <tr>\n",
       "      <th>...</th>\n",
       "      <td>...</td>\n",
       "      <td>...</td>\n",
       "      <td>...</td>\n",
       "      <td>...</td>\n",
       "      <td>...</td>\n",
       "      <td>...</td>\n",
       "      <td>...</td>\n",
       "      <td>...</td>\n",
       "      <td>...</td>\n",
       "      <td>...</td>\n",
       "      <td>...</td>\n",
       "      <td>...</td>\n",
       "      <td>...</td>\n",
       "      <td>...</td>\n",
       "      <td>...</td>\n",
       "      <td>...</td>\n",
       "      <td>...</td>\n",
       "      <td>...</td>\n",
       "      <td>...</td>\n",
       "      <td>...</td>\n",
       "      <td>...</td>\n",
       "    </tr>\n",
       "    <tr>\n",
       "      <th>6141</th>\n",
       "      <td>185</td>\n",
       "      <td>Amex</td>\n",
       "      <td>Credit</td>\n",
       "      <td>YES</td>\n",
       "      <td>1</td>\n",
       "      <td>6900</td>\n",
       "      <td>11/2000</td>\n",
       "      <td>2013</td>\n",
       "      <td>47</td>\n",
       "      <td>67</td>\n",
       "      <td>...</td>\n",
       "      <td>276 Fifth Boulevard</td>\n",
       "      <td>40.66</td>\n",
       "      <td>-74.19</td>\n",
       "      <td>15175</td>\n",
       "      <td>30942</td>\n",
       "      <td>71066</td>\n",
       "      <td>779</td>\n",
       "      <td>3</td>\n",
       "      <td>11</td>\n",
       "      <td>2000</td>\n",
       "    </tr>\n",
       "    <tr>\n",
       "      <th>6142</th>\n",
       "      <td>185</td>\n",
       "      <td>Visa</td>\n",
       "      <td>Credit</td>\n",
       "      <td>YES</td>\n",
       "      <td>2</td>\n",
       "      <td>5700</td>\n",
       "      <td>04/2012</td>\n",
       "      <td>2012</td>\n",
       "      <td>47</td>\n",
       "      <td>67</td>\n",
       "      <td>...</td>\n",
       "      <td>276 Fifth Boulevard</td>\n",
       "      <td>40.66</td>\n",
       "      <td>-74.19</td>\n",
       "      <td>15175</td>\n",
       "      <td>30942</td>\n",
       "      <td>71066</td>\n",
       "      <td>779</td>\n",
       "      <td>3</td>\n",
       "      <td>04</td>\n",
       "      <td>2012</td>\n",
       "    </tr>\n",
       "    <tr>\n",
       "      <th>6143</th>\n",
       "      <td>1007</td>\n",
       "      <td>Mastercard</td>\n",
       "      <td>Credit</td>\n",
       "      <td>NO</td>\n",
       "      <td>2</td>\n",
       "      <td>9200</td>\n",
       "      <td>02/2012</td>\n",
       "      <td>2012</td>\n",
       "      <td>66</td>\n",
       "      <td>60</td>\n",
       "      <td>...</td>\n",
       "      <td>259 Valley Boulevard</td>\n",
       "      <td>40.24</td>\n",
       "      <td>-76.92</td>\n",
       "      <td>25336</td>\n",
       "      <td>54654</td>\n",
       "      <td>27241</td>\n",
       "      <td>618</td>\n",
       "      <td>1</td>\n",
       "      <td>02</td>\n",
       "      <td>2012</td>\n",
       "    </tr>\n",
       "    <tr>\n",
       "      <th>6144</th>\n",
       "      <td>1110</td>\n",
       "      <td>Mastercard</td>\n",
       "      <td>Debit</td>\n",
       "      <td>YES</td>\n",
       "      <td>1</td>\n",
       "      <td>28074</td>\n",
       "      <td>01/2020</td>\n",
       "      <td>2020</td>\n",
       "      <td>21</td>\n",
       "      <td>60</td>\n",
       "      <td>...</td>\n",
       "      <td>472 Ocean View Street</td>\n",
       "      <td>42.86</td>\n",
       "      <td>-71.48</td>\n",
       "      <td>32325</td>\n",
       "      <td>65909</td>\n",
       "      <td>181261</td>\n",
       "      <td>673</td>\n",
       "      <td>2</td>\n",
       "      <td>01</td>\n",
       "      <td>2020</td>\n",
       "    </tr>\n",
       "    <tr>\n",
       "      <th>6145</th>\n",
       "      <td>1110</td>\n",
       "      <td>Visa</td>\n",
       "      <td>Credit</td>\n",
       "      <td>YES</td>\n",
       "      <td>1</td>\n",
       "      <td>14400</td>\n",
       "      <td>05/2017</td>\n",
       "      <td>2017</td>\n",
       "      <td>21</td>\n",
       "      <td>60</td>\n",
       "      <td>...</td>\n",
       "      <td>472 Ocean View Street</td>\n",
       "      <td>42.86</td>\n",
       "      <td>-71.48</td>\n",
       "      <td>32325</td>\n",
       "      <td>65909</td>\n",
       "      <td>181261</td>\n",
       "      <td>673</td>\n",
       "      <td>2</td>\n",
       "      <td>05</td>\n",
       "      <td>2017</td>\n",
       "    </tr>\n",
       "  </tbody>\n",
       "</table>\n",
       "<p>6146 rows × 23 columns</p>\n",
       "</div>"
      ],
      "text/plain": [
       "      client_id  card_brand        card_type has_chip  num_cards_issued  \\\n",
       "0           825        Visa            Debit      YES                 2   \n",
       "1           825        Visa            Debit      YES                 2   \n",
       "2           825        Visa            Debit      YES                 2   \n",
       "3           825        Visa           Credit       NO                 1   \n",
       "4           825  Mastercard  Debit (Prepaid)      YES                 1   \n",
       "...         ...         ...              ...      ...               ...   \n",
       "6141        185        Amex           Credit      YES                 1   \n",
       "6142        185        Visa           Credit      YES                 2   \n",
       "6143       1007  Mastercard           Credit       NO                 2   \n",
       "6144       1110  Mastercard            Debit      YES                 1   \n",
       "6145       1110        Visa           Credit      YES                 1   \n",
       "\n",
       "      credit_limit acct_open_date  year_pin_last_changed  current_age  \\\n",
       "0            24295        09/2002                   2008           53   \n",
       "1            21968        04/2014                   2014           53   \n",
       "2            46414        07/2003                   2004           53   \n",
       "3            12400        01/2003                   2012           53   \n",
       "4               28        09/2008                   2009           53   \n",
       "...            ...            ...                    ...          ...   \n",
       "6141          6900        11/2000                   2013           47   \n",
       "6142          5700        04/2012                   2012           47   \n",
       "6143          9200        02/2012                   2012           66   \n",
       "6144         28074        01/2020                   2020           21   \n",
       "6145         14400        05/2017                   2017           21   \n",
       "\n",
       "      retirement_age  ...                address  latitude longitude  \\\n",
       "0                 66  ...          462 Rose Lane     34.15   -117.76   \n",
       "1                 66  ...          462 Rose Lane     34.15   -117.76   \n",
       "2                 66  ...          462 Rose Lane     34.15   -117.76   \n",
       "3                 66  ...          462 Rose Lane     34.15   -117.76   \n",
       "4                 66  ...          462 Rose Lane     34.15   -117.76   \n",
       "...              ...  ...                    ...       ...       ...   \n",
       "6141              67  ...    276 Fifth Boulevard     40.66    -74.19   \n",
       "6142              67  ...    276 Fifth Boulevard     40.66    -74.19   \n",
       "6143              60  ...   259 Valley Boulevard     40.24    -76.92   \n",
       "6144              60  ...  472 Ocean View Street     42.86    -71.48   \n",
       "6145              60  ...  472 Ocean View Street     42.86    -71.48   \n",
       "\n",
       "     per_capita_income  yearly_income  total_debt  credit_score  \\\n",
       "0                29278          59696      127613           787   \n",
       "1                29278          59696      127613           787   \n",
       "2                29278          59696      127613           787   \n",
       "3                29278          59696      127613           787   \n",
       "4                29278          59696      127613           787   \n",
       "...                ...            ...         ...           ...   \n",
       "6141             15175          30942       71066           779   \n",
       "6142             15175          30942       71066           779   \n",
       "6143             25336          54654       27241           618   \n",
       "6144             32325          65909      181261           673   \n",
       "6145             32325          65909      181261           673   \n",
       "\n",
       "      num_credit_cards  acc_open_month  acc_open_year  \n",
       "0                    5              09           2002  \n",
       "1                    5              04           2014  \n",
       "2                    5              07           2003  \n",
       "3                    5              01           2003  \n",
       "4                    5              09           2008  \n",
       "...                ...             ...            ...  \n",
       "6141                 3              11           2000  \n",
       "6142                 3              04           2012  \n",
       "6143                 1              02           2012  \n",
       "6144                 2              01           2020  \n",
       "6145                 2              05           2017  \n",
       "\n",
       "[6146 rows x 23 columns]"
      ]
     },
     "execution_count": 52,
     "metadata": {},
     "output_type": "execute_result"
    }
   ],
   "source": [
    "df"
   ]
  },
  {
   "cell_type": "code",
   "execution_count": null,
   "id": "39854c3c-2994-423c-81bd-6026328c9687",
   "metadata": {},
   "outputs": [],
   "source": []
  },
  {
   "cell_type": "code",
   "execution_count": null,
   "id": "8d81059d-9b99-421e-b92b-5f26fd864660",
   "metadata": {},
   "outputs": [],
   "source": []
  },
  {
   "cell_type": "code",
   "execution_count": 53,
   "id": "9932d838-6e27-443a-bfdf-4417110a94b4",
   "metadata": {},
   "outputs": [],
   "source": [
    "from sklearn.preprocessing import StandardScaler"
   ]
  },
  {
   "cell_type": "code",
   "execution_count": null,
   "id": "1b46f28f-c267-41c2-b041-bdbaf07bade7",
   "metadata": {},
   "outputs": [],
   "source": []
  },
  {
   "cell_type": "code",
   "execution_count": 54,
   "id": "0b79b24f-2bf8-48f8-8cb5-70e731af0456",
   "metadata": {},
   "outputs": [],
   "source": [
    "scaler = StandardScaler()"
   ]
  },
  {
   "cell_type": "code",
   "execution_count": 55,
   "id": "193032d4-974b-4959-98f0-0ecf8abf53b6",
   "metadata": {},
   "outputs": [],
   "source": [
    "scaled_num_card_issue =  scaler.fit(np.reshape(df[\"num_cards_issued\"],(-1, 1)))"
   ]
  },
  {
   "cell_type": "code",
   "execution_count": 56,
   "id": "d6f01d55-3d74-4e78-99a8-9115e0dbf371",
   "metadata": {},
   "outputs": [],
   "source": [
    "scaled_num_card_issue =  scaler.transform(np.reshape(df[\"num_cards_issued\"],(-1,1)))"
   ]
  },
  {
   "cell_type": "code",
   "execution_count": 57,
   "id": "53cca0c7-2844-4200-8296-1ac94cbefee2",
   "metadata": {},
   "outputs": [
    {
     "data": {
      "text/plain": [
       "np.float64(2.8833909377959825)"
      ]
     },
     "execution_count": 57,
     "metadata": {},
     "output_type": "execute_result"
    }
   ],
   "source": [
    "scaled_num_card_issue.max()"
   ]
  },
  {
   "cell_type": "code",
   "execution_count": 58,
   "id": "c5ec407c-6024-4226-86dd-0dd1f9e0c21d",
   "metadata": {},
   "outputs": [
    {
     "data": {
      "text/plain": [
       "array([[ 0.95716043],\n",
       "       [ 0.95716043],\n",
       "       [ 0.95716043],\n",
       "       ...,\n",
       "       [ 0.95716043],\n",
       "       [-0.96907008],\n",
       "       [-0.96907008]], shape=(6146, 1))"
      ]
     },
     "execution_count": 58,
     "metadata": {},
     "output_type": "execute_result"
    }
   ],
   "source": [
    "scaled_num_card_issue"
   ]
  },
  {
   "cell_type": "code",
   "execution_count": 59,
   "id": "992834bb-30e4-43dc-89c6-800acd87fc68",
   "metadata": {},
   "outputs": [
    {
     "data": {
      "text/plain": [
       "np.float64(-0.0)"
      ]
     },
     "execution_count": 59,
     "metadata": {},
     "output_type": "execute_result"
    }
   ],
   "source": [
    "np.round(scaled_num_card_issue.mean())"
   ]
  },
  {
   "cell_type": "code",
   "execution_count": 60,
   "id": "7a604934-702f-4734-8929-3b34b203be06",
   "metadata": {},
   "outputs": [
    {
     "data": {
      "text/plain": [
       "np.float64(0.9999999999999998)"
      ]
     },
     "execution_count": 60,
     "metadata": {},
     "output_type": "execute_result"
    }
   ],
   "source": [
    "scaled_num_card_issue.std()"
   ]
  },
  {
   "cell_type": "code",
   "execution_count": 61,
   "id": "303ddc39-8e8b-481d-8d74-81859f30ed97",
   "metadata": {},
   "outputs": [
    {
     "data": {
      "text/plain": [
       "np.float64(-0.9690700847462151)"
      ]
     },
     "execution_count": 61,
     "metadata": {},
     "output_type": "execute_result"
    }
   ],
   "source": [
    "scaled_num_card_issue.min()"
   ]
  },
  {
   "cell_type": "code",
   "execution_count": 62,
   "id": "8f1fa453-9182-409f-9df3-77a02dafbe4a",
   "metadata": {},
   "outputs": [
    {
     "data": {
      "text/plain": [
       "np.float64(2.8833909377959825)"
      ]
     },
     "execution_count": 62,
     "metadata": {},
     "output_type": "execute_result"
    }
   ],
   "source": [
    "scaled_num_card_issue.max()"
   ]
  },
  {
   "cell_type": "code",
   "execution_count": 63,
   "id": "bd04df28-8f4e-459e-aa91-487bb0b20fba",
   "metadata": {},
   "outputs": [
    {
     "data": {
      "text/plain": [
       "np.float64(-7.283467678634284e-17)"
      ]
     },
     "execution_count": 63,
     "metadata": {},
     "output_type": "execute_result"
    }
   ],
   "source": [
    "scaled_num_card_issue.mean()"
   ]
  },
  {
   "cell_type": "code",
   "execution_count": null,
   "id": "4267ba28-6c25-403d-852a-1d81189aabd4",
   "metadata": {},
   "outputs": [],
   "source": []
  },
  {
   "cell_type": "code",
   "execution_count": 64,
   "id": "93d7e874-f563-496a-8689-af9c81c92415",
   "metadata": {},
   "outputs": [
    {
     "data": {
      "text/html": [
       "<div>\n",
       "<style scoped>\n",
       "    .dataframe tbody tr th:only-of-type {\n",
       "        vertical-align: middle;\n",
       "    }\n",
       "\n",
       "    .dataframe tbody tr th {\n",
       "        vertical-align: top;\n",
       "    }\n",
       "\n",
       "    .dataframe thead th {\n",
       "        text-align: right;\n",
       "    }\n",
       "</style>\n",
       "<table border=\"1\" class=\"dataframe\">\n",
       "  <thead>\n",
       "    <tr style=\"text-align: right;\">\n",
       "      <th></th>\n",
       "      <th>credit_limit</th>\n",
       "      <th>current_age</th>\n",
       "      <th>retirement_age</th>\n",
       "    </tr>\n",
       "  </thead>\n",
       "  <tbody>\n",
       "    <tr>\n",
       "      <th>0</th>\n",
       "      <td>24295</td>\n",
       "      <td>53</td>\n",
       "      <td>66</td>\n",
       "    </tr>\n",
       "    <tr>\n",
       "      <th>1</th>\n",
       "      <td>21968</td>\n",
       "      <td>53</td>\n",
       "      <td>66</td>\n",
       "    </tr>\n",
       "    <tr>\n",
       "      <th>2</th>\n",
       "      <td>46414</td>\n",
       "      <td>53</td>\n",
       "      <td>66</td>\n",
       "    </tr>\n",
       "    <tr>\n",
       "      <th>3</th>\n",
       "      <td>12400</td>\n",
       "      <td>53</td>\n",
       "      <td>66</td>\n",
       "    </tr>\n",
       "    <tr>\n",
       "      <th>4</th>\n",
       "      <td>28</td>\n",
       "      <td>53</td>\n",
       "      <td>66</td>\n",
       "    </tr>\n",
       "    <tr>\n",
       "      <th>...</th>\n",
       "      <td>...</td>\n",
       "      <td>...</td>\n",
       "      <td>...</td>\n",
       "    </tr>\n",
       "    <tr>\n",
       "      <th>6141</th>\n",
       "      <td>6900</td>\n",
       "      <td>47</td>\n",
       "      <td>67</td>\n",
       "    </tr>\n",
       "    <tr>\n",
       "      <th>6142</th>\n",
       "      <td>5700</td>\n",
       "      <td>47</td>\n",
       "      <td>67</td>\n",
       "    </tr>\n",
       "    <tr>\n",
       "      <th>6143</th>\n",
       "      <td>9200</td>\n",
       "      <td>66</td>\n",
       "      <td>60</td>\n",
       "    </tr>\n",
       "    <tr>\n",
       "      <th>6144</th>\n",
       "      <td>28074</td>\n",
       "      <td>21</td>\n",
       "      <td>60</td>\n",
       "    </tr>\n",
       "    <tr>\n",
       "      <th>6145</th>\n",
       "      <td>14400</td>\n",
       "      <td>21</td>\n",
       "      <td>60</td>\n",
       "    </tr>\n",
       "  </tbody>\n",
       "</table>\n",
       "<p>6146 rows × 3 columns</p>\n",
       "</div>"
      ],
      "text/plain": [
       "      credit_limit  current_age  retirement_age\n",
       "0            24295           53              66\n",
       "1            21968           53              66\n",
       "2            46414           53              66\n",
       "3            12400           53              66\n",
       "4               28           53              66\n",
       "...            ...          ...             ...\n",
       "6141          6900           47              67\n",
       "6142          5700           47              67\n",
       "6143          9200           66              60\n",
       "6144         28074           21              60\n",
       "6145         14400           21              60\n",
       "\n",
       "[6146 rows x 3 columns]"
      ]
     },
     "execution_count": 64,
     "metadata": {},
     "output_type": "execute_result"
    }
   ],
   "source": [
    "df[[\"credit_limit\",\"current_age\", \"retirement_age\"]]"
   ]
  },
  {
   "cell_type": "code",
   "execution_count": null,
   "id": "9842dcb8-fbd3-4798-a688-fbdb6193ebe2",
   "metadata": {},
   "outputs": [],
   "source": []
  },
  {
   "cell_type": "code",
   "execution_count": 65,
   "id": "84a8ab5e-800a-44c5-86ab-ad07ffc7e46a",
   "metadata": {},
   "outputs": [],
   "source": [
    "scaler = StandardScaler()"
   ]
  },
  {
   "cell_type": "code",
   "execution_count": 66,
   "id": "d1c7499b-2aff-410c-90f9-b311a4d65a76",
   "metadata": {},
   "outputs": [],
   "source": [
    "scaled_data = scaler.fit_transform(df[[\"credit_limit\",\"current_age\", \"retirement_age\"]])"
   ]
  },
  {
   "cell_type": "code",
   "execution_count": 67,
   "id": "b2a35a22-df34-4e35-863c-ececa7e0b2ba",
   "metadata": {},
   "outputs": [
    {
     "data": {
      "text/plain": [
       "array([[ 0.82802824,  0.15074162, -0.15763284],\n",
       "       [ 0.63432927,  0.15074162, -0.15763284],\n",
       "       [ 2.66920899,  0.15074162, -0.15763284],\n",
       "       ...,\n",
       "       [-0.42847628,  0.8358747 , -1.89437275],\n",
       "       [ 1.14259138, -1.53573979, -1.89437275],\n",
       "       [ 0.00437059, -1.53573979, -1.89437275]], shape=(6146, 3))"
      ]
     },
     "execution_count": 67,
     "metadata": {},
     "output_type": "execute_result"
    }
   ],
   "source": [
    "scaled_data"
   ]
  },
  {
   "cell_type": "code",
   "execution_count": 68,
   "id": "6ffe2bed-7d1a-4398-b8cf-887101010115",
   "metadata": {},
   "outputs": [
    {
     "data": {
      "text/plain": [
       "0"
      ]
     },
     "execution_count": 68,
     "metadata": {},
     "output_type": "execute_result"
    }
   ],
   "source": [
    "round(scaled_data.mean())"
   ]
  },
  {
   "cell_type": "code",
   "execution_count": 69,
   "id": "28b3ed4b-3ea3-4c77-90af-e7c5d87aa8be",
   "metadata": {},
   "outputs": [
    {
     "data": {
      "text/plain": [
       "np.float64(0.9999999999999999)"
      ]
     },
     "execution_count": 69,
     "metadata": {},
     "output_type": "execute_result"
    }
   ],
   "source": [
    "scaled_data.std()"
   ]
  },
  {
   "cell_type": "code",
   "execution_count": 70,
   "id": "002d3b38-117d-44b0-b46e-e95bfa8a37bb",
   "metadata": {},
   "outputs": [
    {
     "data": {
      "text/plain": [
       "np.float64(-4.788939274626072)"
      ]
     },
     "execution_count": 70,
     "metadata": {},
     "output_type": "execute_result"
    }
   ],
   "source": [
    "scaled_data.min()"
   ]
  },
  {
   "cell_type": "code",
   "execution_count": 71,
   "id": "86e6250c-ab79-4967-aa7b-a3c896e7688b",
   "metadata": {},
   "outputs": [
    {
     "data": {
      "text/plain": [
       "np.float64(11.393487385939604)"
      ]
     },
     "execution_count": 71,
     "metadata": {},
     "output_type": "execute_result"
    }
   ],
   "source": [
    "scaled_data.max()"
   ]
  },
  {
   "cell_type": "code",
   "execution_count": 72,
   "id": "e956a811-e6c8-4fd8-8a2f-25cfc753f5a1",
   "metadata": {},
   "outputs": [
    {
     "data": {
      "text/html": [
       "<div>\n",
       "<style scoped>\n",
       "    .dataframe tbody tr th:only-of-type {\n",
       "        vertical-align: middle;\n",
       "    }\n",
       "\n",
       "    .dataframe tbody tr th {\n",
       "        vertical-align: top;\n",
       "    }\n",
       "\n",
       "    .dataframe thead th {\n",
       "        text-align: right;\n",
       "    }\n",
       "</style>\n",
       "<table border=\"1\" class=\"dataframe\">\n",
       "  <thead>\n",
       "    <tr style=\"text-align: right;\">\n",
       "      <th></th>\n",
       "      <th>credit_limit</th>\n",
       "      <th>current_age</th>\n",
       "      <th>retirement_age</th>\n",
       "    </tr>\n",
       "  </thead>\n",
       "  <tbody>\n",
       "    <tr>\n",
       "      <th>count</th>\n",
       "      <td>6146.000000</td>\n",
       "      <td>6146.000000</td>\n",
       "      <td>6146.000000</td>\n",
       "    </tr>\n",
       "    <tr>\n",
       "      <th>mean</th>\n",
       "      <td>14347.493980</td>\n",
       "      <td>50.139766</td>\n",
       "      <td>66.544582</td>\n",
       "    </tr>\n",
       "    <tr>\n",
       "      <th>std</th>\n",
       "      <td>12014.463884</td>\n",
       "      <td>18.975960</td>\n",
       "      <td>3.455030</td>\n",
       "    </tr>\n",
       "    <tr>\n",
       "      <th>min</th>\n",
       "      <td>0.000000</td>\n",
       "      <td>18.000000</td>\n",
       "      <td>50.000000</td>\n",
       "    </tr>\n",
       "    <tr>\n",
       "      <th>25%</th>\n",
       "      <td>7042.750000</td>\n",
       "      <td>35.000000</td>\n",
       "      <td>65.000000</td>\n",
       "    </tr>\n",
       "    <tr>\n",
       "      <th>50%</th>\n",
       "      <td>12592.500000</td>\n",
       "      <td>50.000000</td>\n",
       "      <td>67.000000</td>\n",
       "    </tr>\n",
       "    <tr>\n",
       "      <th>75%</th>\n",
       "      <td>19156.500000</td>\n",
       "      <td>63.000000</td>\n",
       "      <td>69.000000</td>\n",
       "    </tr>\n",
       "    <tr>\n",
       "      <th>max</th>\n",
       "      <td>151223.000000</td>\n",
       "      <td>101.000000</td>\n",
       "      <td>79.000000</td>\n",
       "    </tr>\n",
       "  </tbody>\n",
       "</table>\n",
       "</div>"
      ],
      "text/plain": [
       "        credit_limit  current_age  retirement_age\n",
       "count    6146.000000  6146.000000     6146.000000\n",
       "mean    14347.493980    50.139766       66.544582\n",
       "std     12014.463884    18.975960        3.455030\n",
       "min         0.000000    18.000000       50.000000\n",
       "25%      7042.750000    35.000000       65.000000\n",
       "50%     12592.500000    50.000000       67.000000\n",
       "75%     19156.500000    63.000000       69.000000\n",
       "max    151223.000000   101.000000       79.000000"
      ]
     },
     "execution_count": 72,
     "metadata": {},
     "output_type": "execute_result"
    }
   ],
   "source": [
    "df[[\"credit_limit\",\"current_age\", \"retirement_age\"]].describe()"
   ]
  },
  {
   "cell_type": "code",
   "execution_count": 73,
   "id": "3ed57f57-7845-4de6-af81-69c7b19652c4",
   "metadata": {},
   "outputs": [
    {
     "data": {
      "text/plain": [
       "<Axes: >"
      ]
     },
     "execution_count": 73,
     "metadata": {},
     "output_type": "execute_result"
    },
    {
     "data": {
      "image/png": "[encoded data removed]",
      "text/plain": [
       "<Figure size 640x480 with 1 Axes>"
      ]
     },
     "metadata": {},
     "output_type": "display_data"
    }
   ],
   "source": [
    "df[\"credit_limit\"].plot.box(vert=False)"
   ]
  },
  {
   "cell_type": "code",
   "execution_count": 74,
   "id": "61399fb8-5bfe-4a5c-bead-c64c352adf55",
   "metadata": {},
   "outputs": [
    {
     "data": {
      "text/plain": [
       "<Axes: ylabel='Frequency'>"
      ]
     },
     "execution_count": 74,
     "metadata": {},
     "output_type": "execute_result"
    },
    {
     "data": {
      "image/png": "[encoded data removed]",
      "text/plain": [
       "<Figure size 640x480 with 1 Axes>"
      ]
     },
     "metadata": {},
     "output_type": "display_data"
    }
   ],
   "source": [
    "df[\"credit_limit\"].plot.hist(bins=20)"
   ]
  },
  {
   "cell_type": "code",
   "execution_count": 75,
   "id": "aa6b2ea6-0474-4117-9eff-dee2c608dd8c",
   "metadata": {},
   "outputs": [
    {
     "data": {
      "text/plain": [
       "count      6146.000000\n",
       "mean      14347.493980\n",
       "std       12014.463884\n",
       "min           0.000000\n",
       "25%        7042.750000\n",
       "50%       12592.500000\n",
       "75%       19156.500000\n",
       "max      151223.000000\n",
       "Name: credit_limit, dtype: float64"
      ]
     },
     "execution_count": 75,
     "metadata": {},
     "output_type": "execute_result"
    }
   ],
   "source": [
    "df[\"credit_limit\"].describe()"
   ]
  },
  {
   "cell_type": "code",
   "execution_count": 76,
   "id": "99dfac37-ccdb-42ad-afdc-347e39c128ef",
   "metadata": {},
   "outputs": [],
   "source": [
    "df[\"credit_limit\"] = df[\"credit_limit\"].replace(0,0.000000000001)"
   ]
  },
  {
   "cell_type": "code",
   "execution_count": 77,
   "id": "3072a1e9-09ba-4609-8297-0592a90046eb",
   "metadata": {},
   "outputs": [
    {
     "data": {
      "text/plain": [
       "count    6.146000e+03\n",
       "mean     1.434749e+04\n",
       "std      1.201446e+04\n",
       "min      1.000000e-12\n",
       "25%      7.042750e+03\n",
       "50%      1.259250e+04\n",
       "75%      1.915650e+04\n",
       "max      1.512230e+05\n",
       "Name: credit_limit, dtype: float64"
      ]
     },
     "execution_count": 77,
     "metadata": {},
     "output_type": "execute_result"
    }
   ],
   "source": [
    "df[\"credit_limit\"].describe()"
   ]
  },
  {
   "cell_type": "markdown",
   "id": "6b1fb584-0eb2-48ae-9644-cc24580948a7",
   "metadata": {},
   "source": [
    "Log Transformation"
   ]
  },
  {
   "cell_type": "code",
   "execution_count": null,
   "id": "d9371bff-d6b1-4c8e-8a3e-588bdc5629dd",
   "metadata": {},
   "outputs": [],
   "source": []
  },
  {
   "cell_type": "code",
   "execution_count": 78,
   "id": "43c16593-d9fe-4a1b-abc2-9fc770b3f761",
   "metadata": {},
   "outputs": [],
   "source": [
    "from sklearn.preprocessing import FunctionTransformer, PowerTransformer"
   ]
  },
  {
   "cell_type": "code",
   "execution_count": 79,
   "id": "81971fe1-895e-405d-b210-bba49e71460b",
   "metadata": {},
   "outputs": [],
   "source": [
    "lt = FunctionTransformer(func=np.log1p)"
   ]
  },
  {
   "cell_type": "code",
   "execution_count": 80,
   "id": "8e9d9956-98a0-478f-a1e6-37d387aaa941",
   "metadata": {},
   "outputs": [],
   "source": [
    "transformed_credit_limit = lt.fit_transform(df[[\"credit_limit\"]])"
   ]
  },
  {
   "cell_type": "code",
   "execution_count": 81,
   "id": "6ac79073-9ab5-4cfa-8452-1f20dc1a4e6d",
   "metadata": {},
   "outputs": [
    {
     "data": {
      "text/html": [
       "<div>\n",
       "<style scoped>\n",
       "    .dataframe tbody tr th:only-of-type {\n",
       "        vertical-align: middle;\n",
       "    }\n",
       "\n",
       "    .dataframe tbody tr th {\n",
       "        vertical-align: top;\n",
       "    }\n",
       "\n",
       "    .dataframe thead th {\n",
       "        text-align: right;\n",
       "    }\n",
       "</style>\n",
       "<table border=\"1\" class=\"dataframe\">\n",
       "  <thead>\n",
       "    <tr style=\"text-align: right;\">\n",
       "      <th></th>\n",
       "      <th>credit_limit</th>\n",
       "    </tr>\n",
       "  </thead>\n",
       "  <tbody>\n",
       "    <tr>\n",
       "      <th>0</th>\n",
       "      <td>10.098067</td>\n",
       "    </tr>\n",
       "    <tr>\n",
       "      <th>1</th>\n",
       "      <td>9.997388</td>\n",
       "    </tr>\n",
       "    <tr>\n",
       "      <th>2</th>\n",
       "      <td>10.745378</td>\n",
       "    </tr>\n",
       "    <tr>\n",
       "      <th>3</th>\n",
       "      <td>9.425532</td>\n",
       "    </tr>\n",
       "    <tr>\n",
       "      <th>4</th>\n",
       "      <td>3.367296</td>\n",
       "    </tr>\n",
       "    <tr>\n",
       "      <th>...</th>\n",
       "      <td>...</td>\n",
       "    </tr>\n",
       "    <tr>\n",
       "      <th>6141</th>\n",
       "      <td>8.839422</td>\n",
       "    </tr>\n",
       "    <tr>\n",
       "      <th>6142</th>\n",
       "      <td>8.648397</td>\n",
       "    </tr>\n",
       "    <tr>\n",
       "      <th>6143</th>\n",
       "      <td>9.127067</td>\n",
       "    </tr>\n",
       "    <tr>\n",
       "      <th>6144</th>\n",
       "      <td>10.242635</td>\n",
       "    </tr>\n",
       "    <tr>\n",
       "      <th>6145</th>\n",
       "      <td>9.575053</td>\n",
       "    </tr>\n",
       "  </tbody>\n",
       "</table>\n",
       "<p>6146 rows × 1 columns</p>\n",
       "</div>"
      ],
      "text/plain": [
       "      credit_limit\n",
       "0        10.098067\n",
       "1         9.997388\n",
       "2        10.745378\n",
       "3         9.425532\n",
       "4         3.367296\n",
       "...            ...\n",
       "6141      8.839422\n",
       "6142      8.648397\n",
       "6143      9.127067\n",
       "6144     10.242635\n",
       "6145      9.575053\n",
       "\n",
       "[6146 rows x 1 columns]"
      ]
     },
     "execution_count": 81,
     "metadata": {},
     "output_type": "execute_result"
    }
   ],
   "source": [
    "transformed_credit_limit"
   ]
  },
  {
   "cell_type": "code",
   "execution_count": 82,
   "id": "ac77cf04-b352-40d8-b8e5-d45e363db3e0",
   "metadata": {},
   "outputs": [
    {
     "data": {
      "image/png": "[encoded data removed]",
      "text/plain": [
       "<Figure size 640x480 with 1 Axes>"
      ]
     },
     "metadata": {},
     "output_type": "display_data"
    }
   ],
   "source": [
    "plt.hist(transformed_credit_limit, bins=30)\n",
    "plt.show()"
   ]
  },
  {
   "cell_type": "raw",
   "id": "62fe7484-a228-4d52-88f2-58705d7592a7",
   "metadata": {},
   "source": [
    "Yeo-johnson"
   ]
  },
  {
   "cell_type": "code",
   "execution_count": 83,
   "id": "6d6dcd36-104c-4d0e-a42f-5e9231c90b59",
   "metadata": {},
   "outputs": [],
   "source": [
    "pt= PowerTransformer(method =\"yeo-johnson\")"
   ]
  },
  {
   "cell_type": "code",
   "execution_count": 84,
   "id": "48e384de-9682-4906-bad9-a450e1675939",
   "metadata": {},
   "outputs": [],
   "source": [
    "pt_credit_limit = pt.fit_transform(df[[\"credit_limit\"]])"
   ]
  },
  {
   "cell_type": "code",
   "execution_count": 85,
   "id": "cfd6235c-2ecb-43d8-93e6-3edcae140826",
   "metadata": {},
   "outputs": [
    {
     "data": {
      "image/png": "[encoded data removed]",
      "text/plain": [
       "<Figure size 640x480 with 1 Axes>"
      ]
     },
     "metadata": {},
     "output_type": "display_data"
    }
   ],
   "source": [
    "plt.hist(pt_credit_limit, bins=30)\n",
    "plt.show()"
   ]
  },
  {
   "cell_type": "code",
   "execution_count": 86,
   "id": "512f3519-8c2f-48b5-8d21-dc600eddd304",
   "metadata": {},
   "outputs": [
    {
     "data": {
      "text/plain": [
       "np.float64(3.005875549912562e-16)"
      ]
     },
     "execution_count": 86,
     "metadata": {},
     "output_type": "execute_result"
    }
   ],
   "source": [
    "pt_credit_limit.mean()"
   ]
  },
  {
   "cell_type": "code",
   "execution_count": 87,
   "id": "90dce154-8ff7-4e7e-88a1-41088f98364c",
   "metadata": {},
   "outputs": [
    {
     "data": {
      "text/plain": [
       "np.float64(1.0)"
      ]
     },
     "execution_count": 87,
     "metadata": {},
     "output_type": "execute_result"
    }
   ],
   "source": [
    "pt_credit_limit.std()"
   ]
  },
  {
   "cell_type": "code",
   "execution_count": 88,
   "id": "8c1bd846-4a14-44a3-9f58-4b844988b70d",
   "metadata": {},
   "outputs": [
    {
     "data": {
      "text/plain": [
       "0             Visa\n",
       "1             Visa\n",
       "2             Visa\n",
       "3             Visa\n",
       "4       Mastercard\n",
       "           ...    \n",
       "6141          Amex\n",
       "6142          Visa\n",
       "6143    Mastercard\n",
       "6144    Mastercard\n",
       "6145          Visa\n",
       "Name: card_brand, Length: 6146, dtype: object"
      ]
     },
     "execution_count": 88,
     "metadata": {},
     "output_type": "execute_result"
    }
   ],
   "source": [
    "df[\"card_brand\"]"
   ]
  },
  {
   "cell_type": "code",
   "execution_count": 89,
   "id": "7ad4d6f8-2b35-40cb-9dcc-91d6cd109e93",
   "metadata": {},
   "outputs": [],
   "source": [
    "from sklearn.preprocessing import OneHotEncoder"
   ]
  },
  {
   "cell_type": "code",
   "execution_count": 90,
   "id": "6bf84a64-73fc-472f-b211-063ce6430274",
   "metadata": {},
   "outputs": [],
   "source": [
    "ohe = OneHotEncoder()"
   ]
  },
  {
   "cell_type": "code",
   "execution_count": 91,
   "id": "5cf833a4-976b-4545-8c72-8995bb6d0495",
   "metadata": {},
   "outputs": [],
   "source": [
    "encoded_card_brand = ohe.fit_transform(df[[\"card_brand\"]])"
   ]
  },
  {
   "cell_type": "code",
   "execution_count": 92,
   "id": "e21f4976-ff13-496d-9a0f-d6d1051eb376",
   "metadata": {},
   "outputs": [
    {
     "data": {
      "text/plain": [
       "<Compressed Sparse Row sparse matrix of dtype 'float64'\n",
       "\twith 6146 stored elements and shape (6146, 4)>"
      ]
     },
     "execution_count": 92,
     "metadata": {},
     "output_type": "execute_result"
    }
   ],
   "source": [
    "encoded_card_brand"
   ]
  },
  {
   "cell_type": "code",
   "execution_count": 93,
   "id": "020df74a-f8c0-4cee-a01e-565f004d30d7",
   "metadata": {},
   "outputs": [
    {
     "data": {
      "text/plain": [
       "array([[0., 0., 0., 1.],\n",
       "       [0., 0., 0., 1.],\n",
       "       [0., 0., 0., 1.],\n",
       "       ...,\n",
       "       [0., 0., 1., 0.],\n",
       "       [0., 0., 1., 0.],\n",
       "       [0., 0., 0., 1.]], shape=(6146, 4))"
      ]
     },
     "execution_count": 93,
     "metadata": {},
     "output_type": "execute_result"
    }
   ],
   "source": [
    "encoded_card_brand.toarray()"
   ]
  },
  {
   "cell_type": "code",
   "execution_count": 94,
   "id": "6d4c4fbf-793a-4838-a9a7-8807169601b9",
   "metadata": {},
   "outputs": [
    {
     "data": {
      "text/plain": [
       "array(['card_brand_Amex', 'card_brand_Discover', 'card_brand_Mastercard',\n",
       "       'card_brand_Visa'], dtype=object)"
      ]
     },
     "execution_count": 94,
     "metadata": {},
     "output_type": "execute_result"
    }
   ],
   "source": [
    "ohe.get_feature_names_out()"
   ]
  },
  {
   "cell_type": "code",
   "execution_count": 95,
   "id": "0036a006-7f57-4213-80cd-afb6803f3638",
   "metadata": {},
   "outputs": [
    {
     "data": {
      "text/html": [
       "<div>\n",
       "<style scoped>\n",
       "    .dataframe tbody tr th:only-of-type {\n",
       "        vertical-align: middle;\n",
       "    }\n",
       "\n",
       "    .dataframe tbody tr th {\n",
       "        vertical-align: top;\n",
       "    }\n",
       "\n",
       "    .dataframe thead th {\n",
       "        text-align: right;\n",
       "    }\n",
       "</style>\n",
       "<table border=\"1\" class=\"dataframe\">\n",
       "  <thead>\n",
       "    <tr style=\"text-align: right;\">\n",
       "      <th></th>\n",
       "      <th>card_brand_Amex</th>\n",
       "      <th>card_brand_Discover</th>\n",
       "      <th>card_brand_Mastercard</th>\n",
       "      <th>card_brand_Visa</th>\n",
       "    </tr>\n",
       "  </thead>\n",
       "  <tbody>\n",
       "    <tr>\n",
       "      <th>0</th>\n",
       "      <td>0.0</td>\n",
       "      <td>0.0</td>\n",
       "      <td>0.0</td>\n",
       "      <td>1.0</td>\n",
       "    </tr>\n",
       "    <tr>\n",
       "      <th>1</th>\n",
       "      <td>0.0</td>\n",
       "      <td>0.0</td>\n",
       "      <td>0.0</td>\n",
       "      <td>1.0</td>\n",
       "    </tr>\n",
       "    <tr>\n",
       "      <th>2</th>\n",
       "      <td>0.0</td>\n",
       "      <td>0.0</td>\n",
       "      <td>0.0</td>\n",
       "      <td>1.0</td>\n",
       "    </tr>\n",
       "    <tr>\n",
       "      <th>3</th>\n",
       "      <td>0.0</td>\n",
       "      <td>0.0</td>\n",
       "      <td>0.0</td>\n",
       "      <td>1.0</td>\n",
       "    </tr>\n",
       "    <tr>\n",
       "      <th>4</th>\n",
       "      <td>0.0</td>\n",
       "      <td>0.0</td>\n",
       "      <td>1.0</td>\n",
       "      <td>0.0</td>\n",
       "    </tr>\n",
       "    <tr>\n",
       "      <th>...</th>\n",
       "      <td>...</td>\n",
       "      <td>...</td>\n",
       "      <td>...</td>\n",
       "      <td>...</td>\n",
       "    </tr>\n",
       "    <tr>\n",
       "      <th>6141</th>\n",
       "      <td>1.0</td>\n",
       "      <td>0.0</td>\n",
       "      <td>0.0</td>\n",
       "      <td>0.0</td>\n",
       "    </tr>\n",
       "    <tr>\n",
       "      <th>6142</th>\n",
       "      <td>0.0</td>\n",
       "      <td>0.0</td>\n",
       "      <td>0.0</td>\n",
       "      <td>1.0</td>\n",
       "    </tr>\n",
       "    <tr>\n",
       "      <th>6143</th>\n",
       "      <td>0.0</td>\n",
       "      <td>0.0</td>\n",
       "      <td>1.0</td>\n",
       "      <td>0.0</td>\n",
       "    </tr>\n",
       "    <tr>\n",
       "      <th>6144</th>\n",
       "      <td>0.0</td>\n",
       "      <td>0.0</td>\n",
       "      <td>1.0</td>\n",
       "      <td>0.0</td>\n",
       "    </tr>\n",
       "    <tr>\n",
       "      <th>6145</th>\n",
       "      <td>0.0</td>\n",
       "      <td>0.0</td>\n",
       "      <td>0.0</td>\n",
       "      <td>1.0</td>\n",
       "    </tr>\n",
       "  </tbody>\n",
       "</table>\n",
       "<p>6146 rows × 4 columns</p>\n",
       "</div>"
      ],
      "text/plain": [
       "      card_brand_Amex  card_brand_Discover  card_brand_Mastercard  \\\n",
       "0                 0.0                  0.0                    0.0   \n",
       "1                 0.0                  0.0                    0.0   \n",
       "2                 0.0                  0.0                    0.0   \n",
       "3                 0.0                  0.0                    0.0   \n",
       "4                 0.0                  0.0                    1.0   \n",
       "...               ...                  ...                    ...   \n",
       "6141              1.0                  0.0                    0.0   \n",
       "6142              0.0                  0.0                    0.0   \n",
       "6143              0.0                  0.0                    1.0   \n",
       "6144              0.0                  0.0                    1.0   \n",
       "6145              0.0                  0.0                    0.0   \n",
       "\n",
       "      card_brand_Visa  \n",
       "0                 1.0  \n",
       "1                 1.0  \n",
       "2                 1.0  \n",
       "3                 1.0  \n",
       "4                 0.0  \n",
       "...               ...  \n",
       "6141              0.0  \n",
       "6142              1.0  \n",
       "6143              0.0  \n",
       "6144              0.0  \n",
       "6145              1.0  \n",
       "\n",
       "[6146 rows x 4 columns]"
      ]
     },
     "execution_count": 95,
     "metadata": {},
     "output_type": "execute_result"
    }
   ],
   "source": [
    "pd.DataFrame(encoded_card_brand.toarray(), columns=ohe.get_feature_names_out())"
   ]
  },
  {
   "cell_type": "code",
   "execution_count": 96,
   "id": "5459b25d-597d-49cd-abc4-973f5bcc201a",
   "metadata": {},
   "outputs": [],
   "source": [
    "dummy = df.update(pd.DataFrame(encoded_card_brand.toarray(), columns=ohe.get_feature_names_out()))"
   ]
  },
  {
   "cell_type": "code",
   "execution_count": 97,
   "id": "cae150a3-b9db-4c82-a77e-0db975512771",
   "metadata": {},
   "outputs": [],
   "source": [
    "df = pd.concat([df, dummy], axis = 1).drop('card_brand', axis=1)"
   ]
  },
  {
   "cell_type": "code",
   "execution_count": 98,
   "id": "61a2aa76-2521-48f5-8257-6c734a3525a4",
   "metadata": {},
   "outputs": [
    {
     "data": {
      "text/html": [
       "<div>\n",
       "<style scoped>\n",
       "    .dataframe tbody tr th:only-of-type {\n",
       "        vertical-align: middle;\n",
       "    }\n",
       "\n",
       "    .dataframe tbody tr th {\n",
       "        vertical-align: top;\n",
       "    }\n",
       "\n",
       "    .dataframe thead th {\n",
       "        text-align: right;\n",
       "    }\n",
       "</style>\n",
       "<table border=\"1\" class=\"dataframe\">\n",
       "  <thead>\n",
       "    <tr style=\"text-align: right;\">\n",
       "      <th></th>\n",
       "      <th>client_id</th>\n",
       "      <th>card_type</th>\n",
       "      <th>has_chip</th>\n",
       "      <th>num_cards_issued</th>\n",
       "      <th>credit_limit</th>\n",
       "      <th>acct_open_date</th>\n",
       "      <th>year_pin_last_changed</th>\n",
       "      <th>current_age</th>\n",
       "      <th>retirement_age</th>\n",
       "      <th>birth_year</th>\n",
       "      <th>...</th>\n",
       "      <th>address</th>\n",
       "      <th>latitude</th>\n",
       "      <th>longitude</th>\n",
       "      <th>per_capita_income</th>\n",
       "      <th>yearly_income</th>\n",
       "      <th>total_debt</th>\n",
       "      <th>credit_score</th>\n",
       "      <th>num_credit_cards</th>\n",
       "      <th>acc_open_month</th>\n",
       "      <th>acc_open_year</th>\n",
       "    </tr>\n",
       "  </thead>\n",
       "  <tbody>\n",
       "    <tr>\n",
       "      <th>0</th>\n",
       "      <td>825</td>\n",
       "      <td>Debit</td>\n",
       "      <td>YES</td>\n",
       "      <td>2</td>\n",
       "      <td>24295.0</td>\n",
       "      <td>09/2002</td>\n",
       "      <td>2008</td>\n",
       "      <td>53</td>\n",
       "      <td>66</td>\n",
       "      <td>1966</td>\n",
       "      <td>...</td>\n",
       "      <td>462 Rose Lane</td>\n",
       "      <td>34.15</td>\n",
       "      <td>-117.76</td>\n",
       "      <td>29278</td>\n",
       "      <td>59696</td>\n",
       "      <td>127613</td>\n",
       "      <td>787</td>\n",
       "      <td>5</td>\n",
       "      <td>09</td>\n",
       "      <td>2002</td>\n",
       "    </tr>\n",
       "    <tr>\n",
       "      <th>1</th>\n",
       "      <td>825</td>\n",
       "      <td>Debit</td>\n",
       "      <td>YES</td>\n",
       "      <td>2</td>\n",
       "      <td>21968.0</td>\n",
       "      <td>04/2014</td>\n",
       "      <td>2014</td>\n",
       "      <td>53</td>\n",
       "      <td>66</td>\n",
       "      <td>1966</td>\n",
       "      <td>...</td>\n",
       "      <td>462 Rose Lane</td>\n",
       "      <td>34.15</td>\n",
       "      <td>-117.76</td>\n",
       "      <td>29278</td>\n",
       "      <td>59696</td>\n",
       "      <td>127613</td>\n",
       "      <td>787</td>\n",
       "      <td>5</td>\n",
       "      <td>04</td>\n",
       "      <td>2014</td>\n",
       "    </tr>\n",
       "    <tr>\n",
       "      <th>2</th>\n",
       "      <td>825</td>\n",
       "      <td>Debit</td>\n",
       "      <td>YES</td>\n",
       "      <td>2</td>\n",
       "      <td>46414.0</td>\n",
       "      <td>07/2003</td>\n",
       "      <td>2004</td>\n",
       "      <td>53</td>\n",
       "      <td>66</td>\n",
       "      <td>1966</td>\n",
       "      <td>...</td>\n",
       "      <td>462 Rose Lane</td>\n",
       "      <td>34.15</td>\n",
       "      <td>-117.76</td>\n",
       "      <td>29278</td>\n",
       "      <td>59696</td>\n",
       "      <td>127613</td>\n",
       "      <td>787</td>\n",
       "      <td>5</td>\n",
       "      <td>07</td>\n",
       "      <td>2003</td>\n",
       "    </tr>\n",
       "    <tr>\n",
       "      <th>3</th>\n",
       "      <td>825</td>\n",
       "      <td>Credit</td>\n",
       "      <td>NO</td>\n",
       "      <td>1</td>\n",
       "      <td>12400.0</td>\n",
       "      <td>01/2003</td>\n",
       "      <td>2012</td>\n",
       "      <td>53</td>\n",
       "      <td>66</td>\n",
       "      <td>1966</td>\n",
       "      <td>...</td>\n",
       "      <td>462 Rose Lane</td>\n",
       "      <td>34.15</td>\n",
       "      <td>-117.76</td>\n",
       "      <td>29278</td>\n",
       "      <td>59696</td>\n",
       "      <td>127613</td>\n",
       "      <td>787</td>\n",
       "      <td>5</td>\n",
       "      <td>01</td>\n",
       "      <td>2003</td>\n",
       "    </tr>\n",
       "    <tr>\n",
       "      <th>4</th>\n",
       "      <td>825</td>\n",
       "      <td>Debit (Prepaid)</td>\n",
       "      <td>YES</td>\n",
       "      <td>1</td>\n",
       "      <td>28.0</td>\n",
       "      <td>09/2008</td>\n",
       "      <td>2009</td>\n",
       "      <td>53</td>\n",
       "      <td>66</td>\n",
       "      <td>1966</td>\n",
       "      <td>...</td>\n",
       "      <td>462 Rose Lane</td>\n",
       "      <td>34.15</td>\n",
       "      <td>-117.76</td>\n",
       "      <td>29278</td>\n",
       "      <td>59696</td>\n",
       "      <td>127613</td>\n",
       "      <td>787</td>\n",
       "      <td>5</td>\n",
       "      <td>09</td>\n",
       "      <td>2008</td>\n",
       "    </tr>\n",
       "    <tr>\n",
       "      <th>...</th>\n",
       "      <td>...</td>\n",
       "      <td>...</td>\n",
       "      <td>...</td>\n",
       "      <td>...</td>\n",
       "      <td>...</td>\n",
       "      <td>...</td>\n",
       "      <td>...</td>\n",
       "      <td>...</td>\n",
       "      <td>...</td>\n",
       "      <td>...</td>\n",
       "      <td>...</td>\n",
       "      <td>...</td>\n",
       "      <td>...</td>\n",
       "      <td>...</td>\n",
       "      <td>...</td>\n",
       "      <td>...</td>\n",
       "      <td>...</td>\n",
       "      <td>...</td>\n",
       "      <td>...</td>\n",
       "      <td>...</td>\n",
       "      <td>...</td>\n",
       "    </tr>\n",
       "    <tr>\n",
       "      <th>6141</th>\n",
       "      <td>185</td>\n",
       "      <td>Credit</td>\n",
       "      <td>YES</td>\n",
       "      <td>1</td>\n",
       "      <td>6900.0</td>\n",
       "      <td>11/2000</td>\n",
       "      <td>2013</td>\n",
       "      <td>47</td>\n",
       "      <td>67</td>\n",
       "      <td>1973</td>\n",
       "      <td>...</td>\n",
       "      <td>276 Fifth Boulevard</td>\n",
       "      <td>40.66</td>\n",
       "      <td>-74.19</td>\n",
       "      <td>15175</td>\n",
       "      <td>30942</td>\n",
       "      <td>71066</td>\n",
       "      <td>779</td>\n",
       "      <td>3</td>\n",
       "      <td>11</td>\n",
       "      <td>2000</td>\n",
       "    </tr>\n",
       "    <tr>\n",
       "      <th>6142</th>\n",
       "      <td>185</td>\n",
       "      <td>Credit</td>\n",
       "      <td>YES</td>\n",
       "      <td>2</td>\n",
       "      <td>5700.0</td>\n",
       "      <td>04/2012</td>\n",
       "      <td>2012</td>\n",
       "      <td>47</td>\n",
       "      <td>67</td>\n",
       "      <td>1973</td>\n",
       "      <td>...</td>\n",
       "      <td>276 Fifth Boulevard</td>\n",
       "      <td>40.66</td>\n",
       "      <td>-74.19</td>\n",
       "      <td>15175</td>\n",
       "      <td>30942</td>\n",
       "      <td>71066</td>\n",
       "      <td>779</td>\n",
       "      <td>3</td>\n",
       "      <td>04</td>\n",
       "      <td>2012</td>\n",
       "    </tr>\n",
       "    <tr>\n",
       "      <th>6143</th>\n",
       "      <td>1007</td>\n",
       "      <td>Credit</td>\n",
       "      <td>NO</td>\n",
       "      <td>2</td>\n",
       "      <td>9200.0</td>\n",
       "      <td>02/2012</td>\n",
       "      <td>2012</td>\n",
       "      <td>66</td>\n",
       "      <td>60</td>\n",
       "      <td>1954</td>\n",
       "      <td>...</td>\n",
       "      <td>259 Valley Boulevard</td>\n",
       "      <td>40.24</td>\n",
       "      <td>-76.92</td>\n",
       "      <td>25336</td>\n",
       "      <td>54654</td>\n",
       "      <td>27241</td>\n",
       "      <td>618</td>\n",
       "      <td>1</td>\n",
       "      <td>02</td>\n",
       "      <td>2012</td>\n",
       "    </tr>\n",
       "    <tr>\n",
       "      <th>6144</th>\n",
       "      <td>1110</td>\n",
       "      <td>Debit</td>\n",
       "      <td>YES</td>\n",
       "      <td>1</td>\n",
       "      <td>28074.0</td>\n",
       "      <td>01/2020</td>\n",
       "      <td>2020</td>\n",
       "      <td>21</td>\n",
       "      <td>60</td>\n",
       "      <td>1998</td>\n",
       "      <td>...</td>\n",
       "      <td>472 Ocean View Street</td>\n",
       "      <td>42.86</td>\n",
       "      <td>-71.48</td>\n",
       "      <td>32325</td>\n",
       "      <td>65909</td>\n",
       "      <td>181261</td>\n",
       "      <td>673</td>\n",
       "      <td>2</td>\n",
       "      <td>01</td>\n",
       "      <td>2020</td>\n",
       "    </tr>\n",
       "    <tr>\n",
       "      <th>6145</th>\n",
       "      <td>1110</td>\n",
       "      <td>Credit</td>\n",
       "      <td>YES</td>\n",
       "      <td>1</td>\n",
       "      <td>14400.0</td>\n",
       "      <td>05/2017</td>\n",
       "      <td>2017</td>\n",
       "      <td>21</td>\n",
       "      <td>60</td>\n",
       "      <td>1998</td>\n",
       "      <td>...</td>\n",
       "      <td>472 Ocean View Street</td>\n",
       "      <td>42.86</td>\n",
       "      <td>-71.48</td>\n",
       "      <td>32325</td>\n",
       "      <td>65909</td>\n",
       "      <td>181261</td>\n",
       "      <td>673</td>\n",
       "      <td>2</td>\n",
       "      <td>05</td>\n",
       "      <td>2017</td>\n",
       "    </tr>\n",
       "  </tbody>\n",
       "</table>\n",
       "<p>6146 rows × 22 columns</p>\n",
       "</div>"
      ],
      "text/plain": [
       "      client_id        card_type has_chip  num_cards_issued  credit_limit  \\\n",
       "0           825            Debit      YES                 2       24295.0   \n",
       "1           825            Debit      YES                 2       21968.0   \n",
       "2           825            Debit      YES                 2       46414.0   \n",
       "3           825           Credit       NO                 1       12400.0   \n",
       "4           825  Debit (Prepaid)      YES                 1          28.0   \n",
       "...         ...              ...      ...               ...           ...   \n",
       "6141        185           Credit      YES                 1        6900.0   \n",
       "6142        185           Credit      YES                 2        5700.0   \n",
       "6143       1007           Credit       NO                 2        9200.0   \n",
       "6144       1110            Debit      YES                 1       28074.0   \n",
       "6145       1110           Credit      YES                 1       14400.0   \n",
       "\n",
       "     acct_open_date  year_pin_last_changed  current_age  retirement_age  \\\n",
       "0           09/2002                   2008           53              66   \n",
       "1           04/2014                   2014           53              66   \n",
       "2           07/2003                   2004           53              66   \n",
       "3           01/2003                   2012           53              66   \n",
       "4           09/2008                   2009           53              66   \n",
       "...             ...                    ...          ...             ...   \n",
       "6141        11/2000                   2013           47              67   \n",
       "6142        04/2012                   2012           47              67   \n",
       "6143        02/2012                   2012           66              60   \n",
       "6144        01/2020                   2020           21              60   \n",
       "6145        05/2017                   2017           21              60   \n",
       "\n",
       "      birth_year  ...                address latitude longitude  \\\n",
       "0           1966  ...          462 Rose Lane    34.15   -117.76   \n",
       "1           1966  ...          462 Rose Lane    34.15   -117.76   \n",
       "2           1966  ...          462 Rose Lane    34.15   -117.76   \n",
       "3           1966  ...          462 Rose Lane    34.15   -117.76   \n",
       "4           1966  ...          462 Rose Lane    34.15   -117.76   \n",
       "...          ...  ...                    ...      ...       ...   \n",
       "6141        1973  ...    276 Fifth Boulevard    40.66    -74.19   \n",
       "6142        1973  ...    276 Fifth Boulevard    40.66    -74.19   \n",
       "6143        1954  ...   259 Valley Boulevard    40.24    -76.92   \n",
       "6144        1998  ...  472 Ocean View Street    42.86    -71.48   \n",
       "6145        1998  ...  472 Ocean View Street    42.86    -71.48   \n",
       "\n",
       "      per_capita_income  yearly_income  total_debt  credit_score  \\\n",
       "0                 29278          59696      127613           787   \n",
       "1                 29278          59696      127613           787   \n",
       "2                 29278          59696      127613           787   \n",
       "3                 29278          59696      127613           787   \n",
       "4                 29278          59696      127613           787   \n",
       "...                 ...            ...         ...           ...   \n",
       "6141              15175          30942       71066           779   \n",
       "6142              15175          30942       71066           779   \n",
       "6143              25336          54654       27241           618   \n",
       "6144              32325          65909      181261           673   \n",
       "6145              32325          65909      181261           673   \n",
       "\n",
       "      num_credit_cards  acc_open_month  acc_open_year  \n",
       "0                    5              09           2002  \n",
       "1                    5              04           2014  \n",
       "2                    5              07           2003  \n",
       "3                    5              01           2003  \n",
       "4                    5              09           2008  \n",
       "...                ...             ...            ...  \n",
       "6141                 3              11           2000  \n",
       "6142                 3              04           2012  \n",
       "6143                 1              02           2012  \n",
       "6144                 2              01           2020  \n",
       "6145                 2              05           2017  \n",
       "\n",
       "[6146 rows x 22 columns]"
      ]
     },
     "execution_count": 98,
     "metadata": {},
     "output_type": "execute_result"
    }
   ],
   "source": [
    "df"
   ]
  },
  {
   "cell_type": "code",
   "execution_count": 99,
   "id": "0d61447e-c51b-4030-837e-f458167318f1",
   "metadata": {},
   "outputs": [
    {
     "data": {
      "text/html": [
       "<div>\n",
       "<style scoped>\n",
       "    .dataframe tbody tr th:only-of-type {\n",
       "        vertical-align: middle;\n",
       "    }\n",
       "\n",
       "    .dataframe tbody tr th {\n",
       "        vertical-align: top;\n",
       "    }\n",
       "\n",
       "    .dataframe thead th {\n",
       "        text-align: right;\n",
       "    }\n",
       "</style>\n",
       "<table border=\"1\" class=\"dataframe\">\n",
       "  <thead>\n",
       "    <tr style=\"text-align: right;\">\n",
       "      <th></th>\n",
       "      <th>card_type</th>\n",
       "      <th>has_chip</th>\n",
       "      <th>acct_open_date</th>\n",
       "      <th>gender</th>\n",
       "      <th>address</th>\n",
       "      <th>acc_open_month</th>\n",
       "      <th>acc_open_year</th>\n",
       "    </tr>\n",
       "  </thead>\n",
       "  <tbody>\n",
       "    <tr>\n",
       "      <th>0</th>\n",
       "      <td>Debit</td>\n",
       "      <td>YES</td>\n",
       "      <td>09/2002</td>\n",
       "      <td>Female</td>\n",
       "      <td>462 Rose Lane</td>\n",
       "      <td>09</td>\n",
       "      <td>2002</td>\n",
       "    </tr>\n",
       "    <tr>\n",
       "      <th>1</th>\n",
       "      <td>Debit</td>\n",
       "      <td>YES</td>\n",
       "      <td>04/2014</td>\n",
       "      <td>Female</td>\n",
       "      <td>462 Rose Lane</td>\n",
       "      <td>04</td>\n",
       "      <td>2014</td>\n",
       "    </tr>\n",
       "    <tr>\n",
       "      <th>2</th>\n",
       "      <td>Debit</td>\n",
       "      <td>YES</td>\n",
       "      <td>07/2003</td>\n",
       "      <td>Female</td>\n",
       "      <td>462 Rose Lane</td>\n",
       "      <td>07</td>\n",
       "      <td>2003</td>\n",
       "    </tr>\n",
       "    <tr>\n",
       "      <th>3</th>\n",
       "      <td>Credit</td>\n",
       "      <td>NO</td>\n",
       "      <td>01/2003</td>\n",
       "      <td>Female</td>\n",
       "      <td>462 Rose Lane</td>\n",
       "      <td>01</td>\n",
       "      <td>2003</td>\n",
       "    </tr>\n",
       "    <tr>\n",
       "      <th>4</th>\n",
       "      <td>Debit (Prepaid)</td>\n",
       "      <td>YES</td>\n",
       "      <td>09/2008</td>\n",
       "      <td>Female</td>\n",
       "      <td>462 Rose Lane</td>\n",
       "      <td>09</td>\n",
       "      <td>2008</td>\n",
       "    </tr>\n",
       "    <tr>\n",
       "      <th>...</th>\n",
       "      <td>...</td>\n",
       "      <td>...</td>\n",
       "      <td>...</td>\n",
       "      <td>...</td>\n",
       "      <td>...</td>\n",
       "      <td>...</td>\n",
       "      <td>...</td>\n",
       "    </tr>\n",
       "    <tr>\n",
       "      <th>6141</th>\n",
       "      <td>Credit</td>\n",
       "      <td>YES</td>\n",
       "      <td>11/2000</td>\n",
       "      <td>Female</td>\n",
       "      <td>276 Fifth Boulevard</td>\n",
       "      <td>11</td>\n",
       "      <td>2000</td>\n",
       "    </tr>\n",
       "    <tr>\n",
       "      <th>6142</th>\n",
       "      <td>Credit</td>\n",
       "      <td>YES</td>\n",
       "      <td>04/2012</td>\n",
       "      <td>Female</td>\n",
       "      <td>276 Fifth Boulevard</td>\n",
       "      <td>04</td>\n",
       "      <td>2012</td>\n",
       "    </tr>\n",
       "    <tr>\n",
       "      <th>6143</th>\n",
       "      <td>Credit</td>\n",
       "      <td>NO</td>\n",
       "      <td>02/2012</td>\n",
       "      <td>Male</td>\n",
       "      <td>259 Valley Boulevard</td>\n",
       "      <td>02</td>\n",
       "      <td>2012</td>\n",
       "    </tr>\n",
       "    <tr>\n",
       "      <th>6144</th>\n",
       "      <td>Debit</td>\n",
       "      <td>YES</td>\n",
       "      <td>01/2020</td>\n",
       "      <td>Female</td>\n",
       "      <td>472 Ocean View Street</td>\n",
       "      <td>01</td>\n",
       "      <td>2020</td>\n",
       "    </tr>\n",
       "    <tr>\n",
       "      <th>6145</th>\n",
       "      <td>Credit</td>\n",
       "      <td>YES</td>\n",
       "      <td>05/2017</td>\n",
       "      <td>Female</td>\n",
       "      <td>472 Ocean View Street</td>\n",
       "      <td>05</td>\n",
       "      <td>2017</td>\n",
       "    </tr>\n",
       "  </tbody>\n",
       "</table>\n",
       "<p>6146 rows × 7 columns</p>\n",
       "</div>"
      ],
      "text/plain": [
       "            card_type has_chip acct_open_date  gender                address  \\\n",
       "0               Debit      YES        09/2002  Female          462 Rose Lane   \n",
       "1               Debit      YES        04/2014  Female          462 Rose Lane   \n",
       "2               Debit      YES        07/2003  Female          462 Rose Lane   \n",
       "3              Credit       NO        01/2003  Female          462 Rose Lane   \n",
       "4     Debit (Prepaid)      YES        09/2008  Female          462 Rose Lane   \n",
       "...               ...      ...            ...     ...                    ...   \n",
       "6141           Credit      YES        11/2000  Female    276 Fifth Boulevard   \n",
       "6142           Credit      YES        04/2012  Female    276 Fifth Boulevard   \n",
       "6143           Credit       NO        02/2012    Male   259 Valley Boulevard   \n",
       "6144            Debit      YES        01/2020  Female  472 Ocean View Street   \n",
       "6145           Credit      YES        05/2017  Female  472 Ocean View Street   \n",
       "\n",
       "     acc_open_month acc_open_year  \n",
       "0                09          2002  \n",
       "1                04          2014  \n",
       "2                07          2003  \n",
       "3                01          2003  \n",
       "4                09          2008  \n",
       "...             ...           ...  \n",
       "6141             11          2000  \n",
       "6142             04          2012  \n",
       "6143             02          2012  \n",
       "6144             01          2020  \n",
       "6145             05          2017  \n",
       "\n",
       "[6146 rows x 7 columns]"
      ]
     },
     "execution_count": 99,
     "metadata": {},
     "output_type": "execute_result"
    }
   ],
   "source": [
    "df.select_dtypes(include=\"object\")"
   ]
  },
  {
   "cell_type": "code",
   "execution_count": 100,
   "id": "9a2b9fc4-542b-47d7-8fb7-a56a28a48534",
   "metadata": {},
   "outputs": [
    {
     "data": {
      "text/plain": [
       "Index(['client_id', 'card_type', 'has_chip', 'num_cards_issued',\n",
       "       'credit_limit', 'acct_open_date', 'year_pin_last_changed',\n",
       "       'current_age', 'retirement_age', 'birth_year', 'birth_month', 'gender',\n",
       "       'address', 'latitude', 'longitude', 'per_capita_income',\n",
       "       'yearly_income', 'total_debt', 'credit_score', 'num_credit_cards',\n",
       "       'acc_open_month', 'acc_open_year'],\n",
       "      dtype='object')"
      ]
     },
     "execution_count": 100,
     "metadata": {},
     "output_type": "execute_result"
    }
   ],
   "source": [
    "df.columns"
   ]
  },
  {
   "cell_type": "code",
   "execution_count": 101,
   "id": "aaa8c128-4dcb-4296-ba52-c45a767248d8",
   "metadata": {},
   "outputs": [
    {
     "name": "stdout",
     "output_type": "stream",
     "text": [
      "<class 'pandas.core.frame.DataFrame'>\n",
      "RangeIndex: 6146 entries, 0 to 6145\n",
      "Data columns (total 22 columns):\n",
      " #   Column                 Non-Null Count  Dtype  \n",
      "---  ------                 --------------  -----  \n",
      " 0   client_id              6146 non-null   int64  \n",
      " 1   card_type              6146 non-null   object \n",
      " 2   has_chip               6146 non-null   object \n",
      " 3   num_cards_issued       6146 non-null   int64  \n",
      " 4   credit_limit           6146 non-null   float64\n",
      " 5   acct_open_date         6146 non-null   object \n",
      " 6   year_pin_last_changed  6146 non-null   int64  \n",
      " 7   current_age            6146 non-null   int64  \n",
      " 8   retirement_age         6146 non-null   int64  \n",
      " 9   birth_year             6146 non-null   int64  \n",
      " 10  birth_month            6146 non-null   int64  \n",
      " 11  gender                 6146 non-null   object \n",
      " 12  address                6146 non-null   object \n",
      " 13  latitude               6146 non-null   float64\n",
      " 14  longitude              6146 non-null   float64\n",
      " 15  per_capita_income      6146 non-null   int64  \n",
      " 16  yearly_income          6146 non-null   int64  \n",
      " 17  total_debt             6146 non-null   int64  \n",
      " 18  credit_score           6146 non-null   int64  \n",
      " 19  num_credit_cards       6146 non-null   int64  \n",
      " 20  acc_open_month         6146 non-null   object \n",
      " 21  acc_open_year          6146 non-null   object \n",
      "dtypes: float64(3), int64(12), object(7)\n",
      "memory usage: 1.0+ MB\n"
     ]
    }
   ],
   "source": [
    "df.info()"
   ]
  },
  {
   "cell_type": "code",
   "execution_count": 102,
   "id": "55d60153-d71e-4e23-a137-c3f09de2fb42",
   "metadata": {},
   "outputs": [],
   "source": [
    "df[\"acc_open_month\"] = df[\"acc_open_month\"].astype(int)"
   ]
  },
  {
   "cell_type": "code",
   "execution_count": 103,
   "id": "e12c37a2-5cc3-4bc2-bd81-d91229caca75",
   "metadata": {},
   "outputs": [],
   "source": [
    "df[\"acc_open_year\"] = df[\"acc_open_year\"].astype(int)"
   ]
  },
  {
   "cell_type": "code",
   "execution_count": 104,
   "id": "7d48564b-5e2f-48cd-abf1-7727f42f60a4",
   "metadata": {},
   "outputs": [],
   "source": [
    "df.drop(\"acct_open_date\",axis=1, inplace=True)"
   ]
  },
  {
   "cell_type": "code",
   "execution_count": 105,
   "id": "684e7cc6-411f-4d5c-a70e-9526aaee8b8f",
   "metadata": {},
   "outputs": [
    {
     "data": {
      "text/html": [
       "<div>\n",
       "<style scoped>\n",
       "    .dataframe tbody tr th:only-of-type {\n",
       "        vertical-align: middle;\n",
       "    }\n",
       "\n",
       "    .dataframe tbody tr th {\n",
       "        vertical-align: top;\n",
       "    }\n",
       "\n",
       "    .dataframe thead th {\n",
       "        text-align: right;\n",
       "    }\n",
       "</style>\n",
       "<table border=\"1\" class=\"dataframe\">\n",
       "  <thead>\n",
       "    <tr style=\"text-align: right;\">\n",
       "      <th></th>\n",
       "      <th>card_type</th>\n",
       "      <th>has_chip</th>\n",
       "      <th>gender</th>\n",
       "      <th>address</th>\n",
       "    </tr>\n",
       "  </thead>\n",
       "  <tbody>\n",
       "    <tr>\n",
       "      <th>0</th>\n",
       "      <td>Debit</td>\n",
       "      <td>YES</td>\n",
       "      <td>Female</td>\n",
       "      <td>462 Rose Lane</td>\n",
       "    </tr>\n",
       "    <tr>\n",
       "      <th>1</th>\n",
       "      <td>Debit</td>\n",
       "      <td>YES</td>\n",
       "      <td>Female</td>\n",
       "      <td>462 Rose Lane</td>\n",
       "    </tr>\n",
       "    <tr>\n",
       "      <th>2</th>\n",
       "      <td>Debit</td>\n",
       "      <td>YES</td>\n",
       "      <td>Female</td>\n",
       "      <td>462 Rose Lane</td>\n",
       "    </tr>\n",
       "    <tr>\n",
       "      <th>3</th>\n",
       "      <td>Credit</td>\n",
       "      <td>NO</td>\n",
       "      <td>Female</td>\n",
       "      <td>462 Rose Lane</td>\n",
       "    </tr>\n",
       "    <tr>\n",
       "      <th>4</th>\n",
       "      <td>Debit (Prepaid)</td>\n",
       "      <td>YES</td>\n",
       "      <td>Female</td>\n",
       "      <td>462 Rose Lane</td>\n",
       "    </tr>\n",
       "    <tr>\n",
       "      <th>...</th>\n",
       "      <td>...</td>\n",
       "      <td>...</td>\n",
       "      <td>...</td>\n",
       "      <td>...</td>\n",
       "    </tr>\n",
       "    <tr>\n",
       "      <th>6141</th>\n",
       "      <td>Credit</td>\n",
       "      <td>YES</td>\n",
       "      <td>Female</td>\n",
       "      <td>276 Fifth Boulevard</td>\n",
       "    </tr>\n",
       "    <tr>\n",
       "      <th>6142</th>\n",
       "      <td>Credit</td>\n",
       "      <td>YES</td>\n",
       "      <td>Female</td>\n",
       "      <td>276 Fifth Boulevard</td>\n",
       "    </tr>\n",
       "    <tr>\n",
       "      <th>6143</th>\n",
       "      <td>Credit</td>\n",
       "      <td>NO</td>\n",
       "      <td>Male</td>\n",
       "      <td>259 Valley Boulevard</td>\n",
       "    </tr>\n",
       "    <tr>\n",
       "      <th>6144</th>\n",
       "      <td>Debit</td>\n",
       "      <td>YES</td>\n",
       "      <td>Female</td>\n",
       "      <td>472 Ocean View Street</td>\n",
       "    </tr>\n",
       "    <tr>\n",
       "      <th>6145</th>\n",
       "      <td>Credit</td>\n",
       "      <td>YES</td>\n",
       "      <td>Female</td>\n",
       "      <td>472 Ocean View Street</td>\n",
       "    </tr>\n",
       "  </tbody>\n",
       "</table>\n",
       "<p>6146 rows × 4 columns</p>\n",
       "</div>"
      ],
      "text/plain": [
       "            card_type has_chip  gender                address\n",
       "0               Debit      YES  Female          462 Rose Lane\n",
       "1               Debit      YES  Female          462 Rose Lane\n",
       "2               Debit      YES  Female          462 Rose Lane\n",
       "3              Credit       NO  Female          462 Rose Lane\n",
       "4     Debit (Prepaid)      YES  Female          462 Rose Lane\n",
       "...               ...      ...     ...                    ...\n",
       "6141           Credit      YES  Female    276 Fifth Boulevard\n",
       "6142           Credit      YES  Female    276 Fifth Boulevard\n",
       "6143           Credit       NO    Male   259 Valley Boulevard\n",
       "6144            Debit      YES  Female  472 Ocean View Street\n",
       "6145           Credit      YES  Female  472 Ocean View Street\n",
       "\n",
       "[6146 rows x 4 columns]"
      ]
     },
     "execution_count": 105,
     "metadata": {},
     "output_type": "execute_result"
    }
   ],
   "source": [
    "df.select_dtypes(include=\"object\")"
   ]
  },
  {
   "cell_type": "code",
   "execution_count": 106,
   "id": "9e45b496-0383-48b3-ab6a-ef95e8b0f900",
   "metadata": {},
   "outputs": [
    {
     "data": {
      "text/plain": [
       "address\n",
       "31 Hillside Lane          9\n",
       "7945 Fourth Avenue        9\n",
       "9530 Washington Street    9\n",
       "374 Lexington Street      8\n",
       "3631 Plum Boulevard       8\n",
       "                         ..\n",
       "6144 Summit Street        1\n",
       "781 East Street           1\n",
       "829 Fourth Boulevard      1\n",
       "8677 Littlewood Lane      1\n",
       "887 Grant Street          1\n",
       "Name: count, Length: 1999, dtype: int64"
      ]
     },
     "execution_count": 106,
     "metadata": {},
     "output_type": "execute_result"
    }
   ],
   "source": [
    "df[\"address\"].value_counts()"
   ]
  },
  {
   "cell_type": "code",
   "execution_count": 107,
   "id": "69c6bae7-44ec-48a0-a646-e875be7969a6",
   "metadata": {},
   "outputs": [],
   "source": [
    "df.drop(\"address\", axis=1, inplace=True)"
   ]
  },
  {
   "cell_type": "code",
   "execution_count": 108,
   "id": "87fb605e-df18-445d-ade5-0146c538468a",
   "metadata": {},
   "outputs": [],
   "source": [
    "cat_cols = df.select_dtypes(include=\"object\").columns"
   ]
  },
  {
   "cell_type": "code",
   "execution_count": 109,
   "id": "47baf93d-ffee-44de-80d5-f578205a4ebc",
   "metadata": {},
   "outputs": [
    {
     "data": {
      "text/plain": [
       "Index(['card_type', 'has_chip', 'gender'], dtype='object')"
      ]
     },
     "execution_count": 109,
     "metadata": {},
     "output_type": "execute_result"
    }
   ],
   "source": [
    "cat_cols"
   ]
  },
  {
   "cell_type": "code",
   "execution_count": 110,
   "id": "a7ede19a-50c7-4283-b392-f332ff13ae00",
   "metadata": {},
   "outputs": [],
   "source": [
    "ohe2 = OneHotEncoder(drop=\"first\")"
   ]
  },
  {
   "cell_type": "code",
   "execution_count": 111,
   "id": "73ba325a-09a3-4aa8-aec2-695e1ff5a4b1",
   "metadata": {},
   "outputs": [],
   "source": [
    "encoded_cat_cols = ohe2.fit_transform(df[cat_cols])"
   ]
  },
  {
   "cell_type": "code",
   "execution_count": 112,
   "id": "8732036e-fecb-4b1c-bbb2-391f5136ccd4",
   "metadata": {},
   "outputs": [
    {
     "data": {
      "text/plain": [
       "<Compressed Sparse Row sparse matrix of dtype 'float64'\n",
       "\twith 12596 stored elements and shape (6146, 4)>"
      ]
     },
     "execution_count": 112,
     "metadata": {},
     "output_type": "execute_result"
    }
   ],
   "source": [
    "encoded_cat_cols"
   ]
  },
  {
   "cell_type": "code",
   "execution_count": 113,
   "id": "9cbbcb2b-c509-4f46-bc2d-8e9c608d9764",
   "metadata": {},
   "outputs": [
    {
     "data": {
      "text/plain": [
       "array(['card_type_Debit', 'card_type_Debit (Prepaid)', 'has_chip_YES',\n",
       "       'gender_Male'], dtype=object)"
      ]
     },
     "execution_count": 113,
     "metadata": {},
     "output_type": "execute_result"
    }
   ],
   "source": [
    "ohe2.get_feature_names_out()"
   ]
  },
  {
   "cell_type": "code",
   "execution_count": 114,
   "id": "9a512b05-3e74-42dd-bb29-48e8f3cf10da",
   "metadata": {},
   "outputs": [],
   "source": [
    "dummy = pd.DataFrame(encoded_cat_cols.toarray(), columns=ohe2.get_feature_names_out())"
   ]
  },
  {
   "cell_type": "code",
   "execution_count": 115,
   "id": "3d46bda9-3ba0-47a6-b84f-f9dc10f085bc",
   "metadata": {},
   "outputs": [],
   "source": [
    "df = pd.concat([df, dummy], axis=1).drop(cat_cols, axis=1)"
   ]
  },
  {
   "cell_type": "code",
   "execution_count": 116,
   "id": "657f1b70-0891-4ea8-82e7-2937f743f883",
   "metadata": {},
   "outputs": [
    {
     "data": {
      "text/html": [
       "<div>\n",
       "<style scoped>\n",
       "    .dataframe tbody tr th:only-of-type {\n",
       "        vertical-align: middle;\n",
       "    }\n",
       "\n",
       "    .dataframe tbody tr th {\n",
       "        vertical-align: top;\n",
       "    }\n",
       "\n",
       "    .dataframe thead th {\n",
       "        text-align: right;\n",
       "    }\n",
       "</style>\n",
       "<table border=\"1\" class=\"dataframe\">\n",
       "  <thead>\n",
       "    <tr style=\"text-align: right;\">\n",
       "      <th></th>\n",
       "      <th>client_id</th>\n",
       "      <th>num_cards_issued</th>\n",
       "      <th>credit_limit</th>\n",
       "      <th>year_pin_last_changed</th>\n",
       "      <th>current_age</th>\n",
       "      <th>retirement_age</th>\n",
       "      <th>birth_year</th>\n",
       "      <th>birth_month</th>\n",
       "      <th>latitude</th>\n",
       "      <th>longitude</th>\n",
       "      <th>...</th>\n",
       "      <th>yearly_income</th>\n",
       "      <th>total_debt</th>\n",
       "      <th>credit_score</th>\n",
       "      <th>num_credit_cards</th>\n",
       "      <th>acc_open_month</th>\n",
       "      <th>acc_open_year</th>\n",
       "      <th>card_type_Debit</th>\n",
       "      <th>card_type_Debit (Prepaid)</th>\n",
       "      <th>has_chip_YES</th>\n",
       "      <th>gender_Male</th>\n",
       "    </tr>\n",
       "  </thead>\n",
       "  <tbody>\n",
       "    <tr>\n",
       "      <th>0</th>\n",
       "      <td>825</td>\n",
       "      <td>2</td>\n",
       "      <td>24295.0</td>\n",
       "      <td>2008</td>\n",
       "      <td>53</td>\n",
       "      <td>66</td>\n",
       "      <td>1966</td>\n",
       "      <td>11</td>\n",
       "      <td>34.15</td>\n",
       "      <td>-117.76</td>\n",
       "      <td>...</td>\n",
       "      <td>59696</td>\n",
       "      <td>127613</td>\n",
       "      <td>787</td>\n",
       "      <td>5</td>\n",
       "      <td>9</td>\n",
       "      <td>2002</td>\n",
       "      <td>1.0</td>\n",
       "      <td>0.0</td>\n",
       "      <td>1.0</td>\n",
       "      <td>0.0</td>\n",
       "    </tr>\n",
       "    <tr>\n",
       "      <th>1</th>\n",
       "      <td>825</td>\n",
       "      <td>2</td>\n",
       "      <td>21968.0</td>\n",
       "      <td>2014</td>\n",
       "      <td>53</td>\n",
       "      <td>66</td>\n",
       "      <td>1966</td>\n",
       "      <td>11</td>\n",
       "      <td>34.15</td>\n",
       "      <td>-117.76</td>\n",
       "      <td>...</td>\n",
       "      <td>59696</td>\n",
       "      <td>127613</td>\n",
       "      <td>787</td>\n",
       "      <td>5</td>\n",
       "      <td>4</td>\n",
       "      <td>2014</td>\n",
       "      <td>1.0</td>\n",
       "      <td>0.0</td>\n",
       "      <td>1.0</td>\n",
       "      <td>0.0</td>\n",
       "    </tr>\n",
       "    <tr>\n",
       "      <th>2</th>\n",
       "      <td>825</td>\n",
       "      <td>2</td>\n",
       "      <td>46414.0</td>\n",
       "      <td>2004</td>\n",
       "      <td>53</td>\n",
       "      <td>66</td>\n",
       "      <td>1966</td>\n",
       "      <td>11</td>\n",
       "      <td>34.15</td>\n",
       "      <td>-117.76</td>\n",
       "      <td>...</td>\n",
       "      <td>59696</td>\n",
       "      <td>127613</td>\n",
       "      <td>787</td>\n",
       "      <td>5</td>\n",
       "      <td>7</td>\n",
       "      <td>2003</td>\n",
       "      <td>1.0</td>\n",
       "      <td>0.0</td>\n",
       "      <td>1.0</td>\n",
       "      <td>0.0</td>\n",
       "    </tr>\n",
       "    <tr>\n",
       "      <th>3</th>\n",
       "      <td>825</td>\n",
       "      <td>1</td>\n",
       "      <td>12400.0</td>\n",
       "      <td>2012</td>\n",
       "      <td>53</td>\n",
       "      <td>66</td>\n",
       "      <td>1966</td>\n",
       "      <td>11</td>\n",
       "      <td>34.15</td>\n",
       "      <td>-117.76</td>\n",
       "      <td>...</td>\n",
       "      <td>59696</td>\n",
       "      <td>127613</td>\n",
       "      <td>787</td>\n",
       "      <td>5</td>\n",
       "      <td>1</td>\n",
       "      <td>2003</td>\n",
       "      <td>0.0</td>\n",
       "      <td>0.0</td>\n",
       "      <td>0.0</td>\n",
       "      <td>0.0</td>\n",
       "    </tr>\n",
       "    <tr>\n",
       "      <th>4</th>\n",
       "      <td>825</td>\n",
       "      <td>1</td>\n",
       "      <td>28.0</td>\n",
       "      <td>2009</td>\n",
       "      <td>53</td>\n",
       "      <td>66</td>\n",
       "      <td>1966</td>\n",
       "      <td>11</td>\n",
       "      <td>34.15</td>\n",
       "      <td>-117.76</td>\n",
       "      <td>...</td>\n",
       "      <td>59696</td>\n",
       "      <td>127613</td>\n",
       "      <td>787</td>\n",
       "      <td>5</td>\n",
       "      <td>9</td>\n",
       "      <td>2008</td>\n",
       "      <td>0.0</td>\n",
       "      <td>1.0</td>\n",
       "      <td>1.0</td>\n",
       "      <td>0.0</td>\n",
       "    </tr>\n",
       "  </tbody>\n",
       "</table>\n",
       "<p>5 rows × 21 columns</p>\n",
       "</div>"
      ],
      "text/plain": [
       "   client_id  num_cards_issued  credit_limit  year_pin_last_changed  \\\n",
       "0        825                 2       24295.0                   2008   \n",
       "1        825                 2       21968.0                   2014   \n",
       "2        825                 2       46414.0                   2004   \n",
       "3        825                 1       12400.0                   2012   \n",
       "4        825                 1          28.0                   2009   \n",
       "\n",
       "   current_age  retirement_age  birth_year  birth_month  latitude  longitude  \\\n",
       "0           53              66        1966           11     34.15    -117.76   \n",
       "1           53              66        1966           11     34.15    -117.76   \n",
       "2           53              66        1966           11     34.15    -117.76   \n",
       "3           53              66        1966           11     34.15    -117.76   \n",
       "4           53              66        1966           11     34.15    -117.76   \n",
       "\n",
       "   ...  yearly_income  total_debt  credit_score  num_credit_cards  \\\n",
       "0  ...          59696      127613           787                 5   \n",
       "1  ...          59696      127613           787                 5   \n",
       "2  ...          59696      127613           787                 5   \n",
       "3  ...          59696      127613           787                 5   \n",
       "4  ...          59696      127613           787                 5   \n",
       "\n",
       "   acc_open_month  acc_open_year  card_type_Debit  card_type_Debit (Prepaid)  \\\n",
       "0               9           2002              1.0                        0.0   \n",
       "1               4           2014              1.0                        0.0   \n",
       "2               7           2003              1.0                        0.0   \n",
       "3               1           2003              0.0                        0.0   \n",
       "4               9           2008              0.0                        1.0   \n",
       "\n",
       "   has_chip_YES  gender_Male  \n",
       "0           1.0          0.0  \n",
       "1           1.0          0.0  \n",
       "2           1.0          0.0  \n",
       "3           0.0          0.0  \n",
       "4           1.0          0.0  \n",
       "\n",
       "[5 rows x 21 columns]"
      ]
     },
     "execution_count": 116,
     "metadata": {},
     "output_type": "execute_result"
    }
   ],
   "source": [
    "df.head()"
   ]
  },
  {
   "cell_type": "code",
   "execution_count": 117,
   "id": "45de50ac-e635-421f-a37d-4c37484d9811",
   "metadata": {},
   "outputs": [
    {
     "data": {
      "text/plain": [
       "client_id\n",
       "1741    9\n",
       "797     9\n",
       "1301    9\n",
       "20      8\n",
       "989     8\n",
       "       ..\n",
       "97      1\n",
       "1590    1\n",
       "1679    1\n",
       "640     1\n",
       "1752    1\n",
       "Name: count, Length: 2000, dtype: int64"
      ]
     },
     "execution_count": 117,
     "metadata": {},
     "output_type": "execute_result"
    }
   ],
   "source": [
    "df[\"client_id\"].value_counts()"
   ]
  },
  {
   "cell_type": "code",
   "execution_count": 118,
   "id": "0c565954-0ed2-41cd-b123-95cb9463b182",
   "metadata": {},
   "outputs": [
    {
     "data": {
      "text/plain": [
       "year_pin_last_changed\n",
       "2020    1208\n",
       "2011     809\n",
       "2010     712\n",
       "2012     477\n",
       "2013     465\n",
       "2009     456\n",
       "2014     397\n",
       "2015     341\n",
       "2008     303\n",
       "2016     234\n",
       "2007     177\n",
       "2017     162\n",
       "2018     156\n",
       "2019     115\n",
       "2006      73\n",
       "2005      36\n",
       "2004      12\n",
       "2003      11\n",
       "2002       2\n",
       "Name: count, dtype: int64"
      ]
     },
     "execution_count": 118,
     "metadata": {},
     "output_type": "execute_result"
    }
   ],
   "source": [
    "df[\"year_pin_last_changed\"].value_counts()"
   ]
  },
  {
   "cell_type": "code",
   "execution_count": 119,
   "id": "7e7d0512-7e6b-4138-b6a8-6c612c3a1173",
   "metadata": {},
   "outputs": [
    {
     "data": {
      "text/plain": [
       "birth_year\n",
       "1970    182\n",
       "1967    144\n",
       "1972    136\n",
       "1969    132\n",
       "1961    128\n",
       "       ... \n",
       "1928     12\n",
       "1921     12\n",
       "1930     12\n",
       "1920      8\n",
       "1918      4\n",
       "Name: count, Length: 80, dtype: int64"
      ]
     },
     "execution_count": 119,
     "metadata": {},
     "output_type": "execute_result"
    }
   ],
   "source": [
    "df[\"birth_year\"].value_counts()"
   ]
  },
  {
   "cell_type": "code",
   "execution_count": 120,
   "id": "15c9fc0f-5978-4dfa-a5d6-2db1ac52fb7e",
   "metadata": {},
   "outputs": [
    {
     "name": "stdout",
     "output_type": "stream",
     "text": [
      "<class 'pandas.core.frame.DataFrame'>\n",
      "RangeIndex: 6146 entries, 0 to 6145\n",
      "Data columns (total 21 columns):\n",
      " #   Column                     Non-Null Count  Dtype  \n",
      "---  ------                     --------------  -----  \n",
      " 0   client_id                  6146 non-null   int64  \n",
      " 1   num_cards_issued           6146 non-null   int64  \n",
      " 2   credit_limit               6146 non-null   float64\n",
      " 3   year_pin_last_changed      6146 non-null   int64  \n",
      " 4   current_age                6146 non-null   int64  \n",
      " 5   retirement_age             6146 non-null   int64  \n",
      " 6   birth_year                 6146 non-null   int64  \n",
      " 7   birth_month                6146 non-null   int64  \n",
      " 8   latitude                   6146 non-null   float64\n",
      " 9   longitude                  6146 non-null   float64\n",
      " 10  per_capita_income          6146 non-null   int64  \n",
      " 11  yearly_income              6146 non-null   int64  \n",
      " 12  total_debt                 6146 non-null   int64  \n",
      " 13  credit_score               6146 non-null   int64  \n",
      " 14  num_credit_cards           6146 non-null   int64  \n",
      " 15  acc_open_month             6146 non-null   int64  \n",
      " 16  acc_open_year              6146 non-null   int64  \n",
      " 17  card_type_Debit            6146 non-null   float64\n",
      " 18  card_type_Debit (Prepaid)  6146 non-null   float64\n",
      " 19  has_chip_YES               6146 non-null   float64\n",
      " 20  gender_Male                6146 non-null   float64\n",
      "dtypes: float64(7), int64(14)\n",
      "memory usage: 1008.5 KB\n"
     ]
    }
   ],
   "source": [
    "df.info()"
   ]
  },
  {
   "cell_type": "code",
   "execution_count": 121,
   "id": "1944a448-787d-4f25-b36f-313cd3b61e48",
   "metadata": {},
   "outputs": [],
   "source": [
    "#Credit Limit Will be consideared As target column\n",
    "X = df.drop(\"credit_limit\", axis = 1)\n",
    "y = df[\"credit_limit\"]"
   ]
  },
  {
   "cell_type": "code",
   "execution_count": 122,
   "id": "ef4d35a2-4331-4ad9-9753-267452cca00b",
   "metadata": {},
   "outputs": [],
   "source": [
    "from sklearn.model_selection import train_test_split"
   ]
  },
  {
   "cell_type": "code",
   "execution_count": 123,
   "id": "a8a7ad0f-43f6-44e4-8df7-dc8f9b7e38d9",
   "metadata": {},
   "outputs": [],
   "source": [
    "X_train, X_test, y_train, y_test = train_test_split(X,y, train_size=0.75, random_state=24)"
   ]
  },
  {
   "cell_type": "code",
   "execution_count": 124,
   "id": "cdc6eb5e-6c2e-4841-9ea7-acb31de111be",
   "metadata": {},
   "outputs": [
    {
     "data": {
      "text/html": [
       "<div>\n",
       "<style scoped>\n",
       "    .dataframe tbody tr th:only-of-type {\n",
       "        vertical-align: middle;\n",
       "    }\n",
       "\n",
       "    .dataframe tbody tr th {\n",
       "        vertical-align: top;\n",
       "    }\n",
       "\n",
       "    .dataframe thead th {\n",
       "        text-align: right;\n",
       "    }\n",
       "</style>\n",
       "<table border=\"1\" class=\"dataframe\">\n",
       "  <thead>\n",
       "    <tr style=\"text-align: right;\">\n",
       "      <th></th>\n",
       "      <th>client_id</th>\n",
       "      <th>num_cards_issued</th>\n",
       "      <th>year_pin_last_changed</th>\n",
       "      <th>current_age</th>\n",
       "      <th>retirement_age</th>\n",
       "      <th>birth_year</th>\n",
       "      <th>birth_month</th>\n",
       "      <th>latitude</th>\n",
       "      <th>longitude</th>\n",
       "      <th>per_capita_income</th>\n",
       "      <th>yearly_income</th>\n",
       "      <th>total_debt</th>\n",
       "      <th>credit_score</th>\n",
       "      <th>num_credit_cards</th>\n",
       "      <th>acc_open_month</th>\n",
       "      <th>acc_open_year</th>\n",
       "      <th>card_type_Debit</th>\n",
       "      <th>card_type_Debit (Prepaid)</th>\n",
       "      <th>has_chip_YES</th>\n",
       "      <th>gender_Male</th>\n",
       "    </tr>\n",
       "  </thead>\n",
       "  <tbody>\n",
       "    <tr>\n",
       "      <th>3258</th>\n",
       "      <td>1810</td>\n",
       "      <td>1</td>\n",
       "      <td>2009</td>\n",
       "      <td>66</td>\n",
       "      <td>66</td>\n",
       "      <td>1953</td>\n",
       "      <td>12</td>\n",
       "      <td>42.22</td>\n",
       "      <td>-83.36</td>\n",
       "      <td>18879</td>\n",
       "      <td>31175</td>\n",
       "      <td>5846</td>\n",
       "      <td>711</td>\n",
       "      <td>5</td>\n",
       "      <td>12</td>\n",
       "      <td>2008</td>\n",
       "      <td>0.0</td>\n",
       "      <td>0.0</td>\n",
       "      <td>1.0</td>\n",
       "      <td>1.0</td>\n",
       "    </tr>\n",
       "    <tr>\n",
       "      <th>3949</th>\n",
       "      <td>468</td>\n",
       "      <td>1</td>\n",
       "      <td>2011</td>\n",
       "      <td>48</td>\n",
       "      <td>65</td>\n",
       "      <td>1971</td>\n",
       "      <td>9</td>\n",
       "      <td>41.65</td>\n",
       "      <td>-91.53</td>\n",
       "      <td>23238</td>\n",
       "      <td>47374</td>\n",
       "      <td>35312</td>\n",
       "      <td>714</td>\n",
       "      <td>2</td>\n",
       "      <td>11</td>\n",
       "      <td>2008</td>\n",
       "      <td>1.0</td>\n",
       "      <td>0.0</td>\n",
       "      <td>1.0</td>\n",
       "      <td>0.0</td>\n",
       "    </tr>\n",
       "    <tr>\n",
       "      <th>5895</th>\n",
       "      <td>833</td>\n",
       "      <td>1</td>\n",
       "      <td>2020</td>\n",
       "      <td>21</td>\n",
       "      <td>65</td>\n",
       "      <td>1998</td>\n",
       "      <td>11</td>\n",
       "      <td>40.85</td>\n",
       "      <td>-74.10</td>\n",
       "      <td>21827</td>\n",
       "      <td>44501</td>\n",
       "      <td>37251</td>\n",
       "      <td>683</td>\n",
       "      <td>2</td>\n",
       "      <td>1</td>\n",
       "      <td>2020</td>\n",
       "      <td>1.0</td>\n",
       "      <td>0.0</td>\n",
       "      <td>1.0</td>\n",
       "      <td>0.0</td>\n",
       "    </tr>\n",
       "    <tr>\n",
       "      <th>3386</th>\n",
       "      <td>213</td>\n",
       "      <td>1</td>\n",
       "      <td>2020</td>\n",
       "      <td>37</td>\n",
       "      <td>68</td>\n",
       "      <td>1982</td>\n",
       "      <td>5</td>\n",
       "      <td>32.91</td>\n",
       "      <td>-96.62</td>\n",
       "      <td>27057</td>\n",
       "      <td>55172</td>\n",
       "      <td>96779</td>\n",
       "      <td>629</td>\n",
       "      <td>3</td>\n",
       "      <td>2</td>\n",
       "      <td>2020</td>\n",
       "      <td>1.0</td>\n",
       "      <td>0.0</td>\n",
       "      <td>1.0</td>\n",
       "      <td>0.0</td>\n",
       "    </tr>\n",
       "    <tr>\n",
       "      <th>5715</th>\n",
       "      <td>928</td>\n",
       "      <td>1</td>\n",
       "      <td>2013</td>\n",
       "      <td>59</td>\n",
       "      <td>66</td>\n",
       "      <td>1960</td>\n",
       "      <td>12</td>\n",
       "      <td>29.76</td>\n",
       "      <td>-95.38</td>\n",
       "      <td>15862</td>\n",
       "      <td>32347</td>\n",
       "      <td>82667</td>\n",
       "      <td>784</td>\n",
       "      <td>7</td>\n",
       "      <td>8</td>\n",
       "      <td>2010</td>\n",
       "      <td>0.0</td>\n",
       "      <td>0.0</td>\n",
       "      <td>1.0</td>\n",
       "      <td>0.0</td>\n",
       "    </tr>\n",
       "    <tr>\n",
       "      <th>...</th>\n",
       "      <td>...</td>\n",
       "      <td>...</td>\n",
       "      <td>...</td>\n",
       "      <td>...</td>\n",
       "      <td>...</td>\n",
       "      <td>...</td>\n",
       "      <td>...</td>\n",
       "      <td>...</td>\n",
       "      <td>...</td>\n",
       "      <td>...</td>\n",
       "      <td>...</td>\n",
       "      <td>...</td>\n",
       "      <td>...</td>\n",
       "      <td>...</td>\n",
       "      <td>...</td>\n",
       "      <td>...</td>\n",
       "      <td>...</td>\n",
       "      <td>...</td>\n",
       "      <td>...</td>\n",
       "      <td>...</td>\n",
       "    </tr>\n",
       "    <tr>\n",
       "      <th>2193</th>\n",
       "      <td>1917</td>\n",
       "      <td>2</td>\n",
       "      <td>2009</td>\n",
       "      <td>49</td>\n",
       "      <td>69</td>\n",
       "      <td>1970</td>\n",
       "      <td>5</td>\n",
       "      <td>40.92</td>\n",
       "      <td>-72.92</td>\n",
       "      <td>28694</td>\n",
       "      <td>58503</td>\n",
       "      <td>37838</td>\n",
       "      <td>680</td>\n",
       "      <td>4</td>\n",
       "      <td>11</td>\n",
       "      <td>2009</td>\n",
       "      <td>0.0</td>\n",
       "      <td>0.0</td>\n",
       "      <td>1.0</td>\n",
       "      <td>1.0</td>\n",
       "    </tr>\n",
       "    <tr>\n",
       "      <th>3473</th>\n",
       "      <td>1369</td>\n",
       "      <td>2</td>\n",
       "      <td>2009</td>\n",
       "      <td>59</td>\n",
       "      <td>67</td>\n",
       "      <td>1961</td>\n",
       "      <td>1</td>\n",
       "      <td>39.35</td>\n",
       "      <td>-85.96</td>\n",
       "      <td>17585</td>\n",
       "      <td>35854</td>\n",
       "      <td>49101</td>\n",
       "      <td>850</td>\n",
       "      <td>2</td>\n",
       "      <td>6</td>\n",
       "      <td>2007</td>\n",
       "      <td>0.0</td>\n",
       "      <td>0.0</td>\n",
       "      <td>1.0</td>\n",
       "      <td>0.0</td>\n",
       "    </tr>\n",
       "    <tr>\n",
       "      <th>343</th>\n",
       "      <td>1301</td>\n",
       "      <td>1</td>\n",
       "      <td>2020</td>\n",
       "      <td>26</td>\n",
       "      <td>66</td>\n",
       "      <td>1993</td>\n",
       "      <td>5</td>\n",
       "      <td>38.10</td>\n",
       "      <td>-122.63</td>\n",
       "      <td>30335</td>\n",
       "      <td>61850</td>\n",
       "      <td>81158</td>\n",
       "      <td>728</td>\n",
       "      <td>9</td>\n",
       "      <td>1</td>\n",
       "      <td>2020</td>\n",
       "      <td>0.0</td>\n",
       "      <td>0.0</td>\n",
       "      <td>1.0</td>\n",
       "      <td>0.0</td>\n",
       "    </tr>\n",
       "    <tr>\n",
       "      <th>899</th>\n",
       "      <td>866</td>\n",
       "      <td>2</td>\n",
       "      <td>2020</td>\n",
       "      <td>34</td>\n",
       "      <td>67</td>\n",
       "      <td>1985</td>\n",
       "      <td>3</td>\n",
       "      <td>40.43</td>\n",
       "      <td>-79.97</td>\n",
       "      <td>30361</td>\n",
       "      <td>61904</td>\n",
       "      <td>125358</td>\n",
       "      <td>639</td>\n",
       "      <td>3</td>\n",
       "      <td>2</td>\n",
       "      <td>2020</td>\n",
       "      <td>1.0</td>\n",
       "      <td>0.0</td>\n",
       "      <td>1.0</td>\n",
       "      <td>1.0</td>\n",
       "    </tr>\n",
       "    <tr>\n",
       "      <th>4514</th>\n",
       "      <td>389</td>\n",
       "      <td>1</td>\n",
       "      <td>2020</td>\n",
       "      <td>27</td>\n",
       "      <td>67</td>\n",
       "      <td>1992</td>\n",
       "      <td>7</td>\n",
       "      <td>44.53</td>\n",
       "      <td>-73.15</td>\n",
       "      <td>26033</td>\n",
       "      <td>53082</td>\n",
       "      <td>106945</td>\n",
       "      <td>689</td>\n",
       "      <td>3</td>\n",
       "      <td>2</td>\n",
       "      <td>2020</td>\n",
       "      <td>1.0</td>\n",
       "      <td>0.0</td>\n",
       "      <td>1.0</td>\n",
       "      <td>1.0</td>\n",
       "    </tr>\n",
       "  </tbody>\n",
       "</table>\n",
       "<p>4609 rows × 20 columns</p>\n",
       "</div>"
      ],
      "text/plain": [
       "      client_id  num_cards_issued  year_pin_last_changed  current_age  \\\n",
       "3258       1810                 1                   2009           66   \n",
       "3949        468                 1                   2011           48   \n",
       "5895        833                 1                   2020           21   \n",
       "3386        213                 1                   2020           37   \n",
       "5715        928                 1                   2013           59   \n",
       "...         ...               ...                    ...          ...   \n",
       "2193       1917                 2                   2009           49   \n",
       "3473       1369                 2                   2009           59   \n",
       "343        1301                 1                   2020           26   \n",
       "899         866                 2                   2020           34   \n",
       "4514        389                 1                   2020           27   \n",
       "\n",
       "      retirement_age  birth_year  birth_month  latitude  longitude  \\\n",
       "3258              66        1953           12     42.22     -83.36   \n",
       "3949              65        1971            9     41.65     -91.53   \n",
       "5895              65        1998           11     40.85     -74.10   \n",
       "3386              68        1982            5     32.91     -96.62   \n",
       "5715              66        1960           12     29.76     -95.38   \n",
       "...              ...         ...          ...       ...        ...   \n",
       "2193              69        1970            5     40.92     -72.92   \n",
       "3473              67        1961            1     39.35     -85.96   \n",
       "343               66        1993            5     38.10    -122.63   \n",
       "899               67        1985            3     40.43     -79.97   \n",
       "4514              67        1992            7     44.53     -73.15   \n",
       "\n",
       "      per_capita_income  yearly_income  total_debt  credit_score  \\\n",
       "3258              18879          31175        5846           711   \n",
       "3949              23238          47374       35312           714   \n",
       "5895              21827          44501       37251           683   \n",
       "3386              27057          55172       96779           629   \n",
       "5715              15862          32347       82667           784   \n",
       "...                 ...            ...         ...           ...   \n",
       "2193              28694          58503       37838           680   \n",
       "3473              17585          35854       49101           850   \n",
       "343               30335          61850       81158           728   \n",
       "899               30361          61904      125358           639   \n",
       "4514              26033          53082      106945           689   \n",
       "\n",
       "      num_credit_cards  acc_open_month  acc_open_year  card_type_Debit  \\\n",
       "3258                 5              12           2008              0.0   \n",
       "3949                 2              11           2008              1.0   \n",
       "5895                 2               1           2020              1.0   \n",
       "3386                 3               2           2020              1.0   \n",
       "5715                 7               8           2010              0.0   \n",
       "...                ...             ...            ...              ...   \n",
       "2193                 4              11           2009              0.0   \n",
       "3473                 2               6           2007              0.0   \n",
       "343                  9               1           2020              0.0   \n",
       "899                  3               2           2020              1.0   \n",
       "4514                 3               2           2020              1.0   \n",
       "\n",
       "      card_type_Debit (Prepaid)  has_chip_YES  gender_Male  \n",
       "3258                        0.0           1.0          1.0  \n",
       "3949                        0.0           1.0          0.0  \n",
       "5895                        0.0           1.0          0.0  \n",
       "3386                        0.0           1.0          0.0  \n",
       "5715                        0.0           1.0          0.0  \n",
       "...                         ...           ...          ...  \n",
       "2193                        0.0           1.0          1.0  \n",
       "3473                        0.0           1.0          0.0  \n",
       "343                         0.0           1.0          0.0  \n",
       "899                         0.0           1.0          1.0  \n",
       "4514                        0.0           1.0          1.0  \n",
       "\n",
       "[4609 rows x 20 columns]"
      ]
     },
     "execution_count": 124,
     "metadata": {},
     "output_type": "execute_result"
    }
   ],
   "source": [
    "X_train"
   ]
  },
  {
   "cell_type": "code",
   "execution_count": 125,
   "id": "f503094f-d0fc-4820-ab80-d0b2d2197730",
   "metadata": {},
   "outputs": [
    {
     "data": {
      "text/plain": [
       "3258    10600.0\n",
       "3949    21900.0\n",
       "5895    16736.0\n",
       "3386    37778.0\n",
       "5715     7300.0\n",
       "         ...   \n",
       "2193    13000.0\n",
       "3473     9000.0\n",
       "343     19000.0\n",
       "899      9542.0\n",
       "4514    18699.0\n",
       "Name: credit_limit, Length: 4609, dtype: float64"
      ]
     },
     "execution_count": 125,
     "metadata": {},
     "output_type": "execute_result"
    }
   ],
   "source": [
    "y_train"
   ]
  },
  {
   "cell_type": "code",
   "execution_count": null,
   "id": "f8a0ebc9-c7aa-4bac-bc0f-16ec56d00ab2",
   "metadata": {},
   "outputs": [],
   "source": []
  }
 ],
 "metadata": {
  "kernelspec": {
   "display_name": "Python 3 (ipykernel)",
   "language": "python",
   "name": "python3"
  },
  "language_info": {
   "codemirror_mode": {
    "name": "ipython",
    "version": 3
   },
   "file_extension": ".py",
   "mimetype": "text/x-python",
   "name": "python",
   "nbconvert_exporter": "python",
   "pygments_lexer": "ipython3",
   "version": "3.11.9"
  }
 },
 "nbformat": 4,
 "nbformat_minor": 5
}
